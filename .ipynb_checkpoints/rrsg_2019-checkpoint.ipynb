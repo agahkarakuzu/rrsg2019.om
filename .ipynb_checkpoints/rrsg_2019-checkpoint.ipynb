{
 "cells": [
  {
   "cell_type": "markdown",
   "metadata": {},
   "source": [
    "# RRSG 2019 Challenge \n",
    "\n",
    "<div class=\"alert alert-info\">\n",
    "  <strong><span class=\"badge\">BLUE BOX</span></strong> <b> Steps for RRSG 2019 challenge tasks</b> \n",
    "</div>\n",
    "\n",
    "<div class=\"alert alert-warning\">\n",
    "  <strong><span class=\"badge\">YELLOW BOX</span></strong> <b> Optional steps for demonstration </b> \n",
    "</div>\n",
    "\n",
    "<div class=\"alert alert-danger\">\n",
    "  <strong><span class=\"badge\">RED BOX</span></strong> <b> Warnings to the user</b> \n",
    "</div>\n"
   ]
  },
  {
   "cell_type": "code",
   "execution_count": null,
   "metadata": {},
   "outputs": [],
   "source": [
    "% Load octave packages \n",
    "pkg load image \n",
    "pkg load optim"
   ]
  },
  {
   "cell_type": "code",
   "execution_count": null,
   "metadata": {},
   "outputs": [],
   "source": [
    "% Mex c files for gridding by Brian Hargreaves and Philip Beatty \n",
    "% http://mrsrl.stanford.edu/~brian/gridding/\n",
    "\n",
    "mex gridlut_mex.c\n",
    "mex calcdcflut_mex.c"
   ]
  },
  {
   "cell_type": "markdown",
   "metadata": {},
   "source": [
    "## 1. Load ISMRM RRSG 2019 challenge data.\n",
    "\n",
    "<div class=\"alert alert-info\">\n",
    "  <strong><span class=\"badge\">1.1</span></strong> <b>Please see this <a href=\"https://osf.io/xne9w/\">OSF page</a> for details.</b> \n",
    "</div>\n",
    "\n",
    "Data is downloaded from the OSF and added to the portable software environment using [`postBuild`](postBuild) configuration file.\n"
   ]
  },
  {
   "cell_type": "code",
   "execution_count": null,
   "metadata": {},
   "outputs": [],
   "source": [
    "load('/tmp/rrsg_challenge/brain_radial_96proj_12ch.mat');\n",
    "whos % Show variables in the current scope "
   ]
  },
  {
   "cell_type": "markdown",
   "metadata": {},
   "source": [
    "<div class=\"alert alert-info\">\n",
    "  <strong><span class=\"badge\">1.2</span></strong> <b>Change data order to follow BART's dimension convention</b> \n",
    "</div>\n",
    "\n",
    "<div class=\"alert alert-danger\">\n",
    "  <strong><span class=\"badge\">Warning</span></strong> <b>Do not run the following cell more than once after loading data (previous cell).</b><br> Otherwise, data will be permutted once again and won't be following BART's convention anymore.\n",
    "\n",
    "--> You can refer to [this documentation](https://buildmedia.readthedocs.org/media/pdf/bart-doc/latest/bart-doc.pdf) for BART's dimension conventions.\n",
    "\n",
    "</div>\n"
   ]
  },
  {
   "cell_type": "code",
   "execution_count": null,
   "metadata": {},
   "outputs": [],
   "source": [
    "rawdata = permute(rawdata,[4,3,2,1]); \n",
    "trajectory = permute(trajectory,[3,2,1]);\n",
    "[~,nFE,nSpokes,nCh] = size(rawdata);\n",
    "whos"
   ]
  },
  {
   "cell_type": "markdown",
   "metadata": {},
   "source": [
    "<div class=\"alert alert-warning\">\n",
    "  <strong><span class=\"badge\">1.3</span></strong> <b>Display raw data from each channel.</b> \n",
    "</div>"
   ]
  },
  {
   "cell_type": "code",
   "execution_count": null,
   "metadata": {},
   "outputs": [],
   "source": [
    "for ii=1:12\n",
    "cc = squeeze((rawdata(1,:,:,ii)));\n",
    "% Brighten convention is not 1/1 with matlab.  \n",
    "subplot(2,6,ii);\n",
    "imshow(log(1+abs(cc)),[-0 0.0001]); brighten(0.4); title(['Ch ' num2str(ii)]);\n",
    "end"
   ]
  },
  {
   "cell_type": "markdown",
   "metadata": {},
   "source": [
    "<div class=\"alert alert-warning\">\n",
    "  <strong><span class=\"badge\">1.4</span></strong> <b>Display k-space data on trajectories</b> \n",
    "</div>"
   ]
  },
  {
   "cell_type": "code",
   "execution_count": null,
   "metadata": {},
   "outputs": [],
   "source": [
    "ksp_rss = bart('rss 8', rawdata);\n",
    "%figure();\n",
    "lg_ksprss = log(ksp_rss);\n",
    "lg_ksprss = abs(squeeze(lg_ksprss)); \n",
    "dsp = reshape(lg_ksprss,[1 nFE*nSpokes]);\n"
   ]
  },
  {
   "cell_type": "code",
   "execution_count": null,
   "metadata": {},
   "outputs": [],
   "source": [
    "% This may take some time in Octave... \n",
    "%scatter3(trajectory(1, :), trajectory(2,:),trajectory(3,:)[],dsp); colormap('hot');\n",
    "\n",
    "% Even this one takes a long time \n",
    "scatter(trajectory(1, :), trajectory(2,:),[],dsp); colormap('hot');"
   ]
  },
  {
   "cell_type": "markdown",
   "metadata": {},
   "source": [
    "## 2. Estimate coil sensitivities using BART\n",
    "***"
   ]
  },
  {
   "cell_type": "markdown",
   "metadata": {},
   "source": [
    "<div class=\"alert alert-info\">\n",
    "  <strong><span class=\"badge\">2.1</span></strong> <b>Use BART to estimate coil sensitivities</b> \n",
    "</div>"
   ]
  },
  {
   "cell_type": "code",
   "execution_count": null,
   "metadata": {
    "scrolled": true
   },
   "outputs": [],
   "source": [
    "% Adjoint NUFFT to interpolate data onto cartesian grid. \n",
    "% -d denotes dimension (x:y:z, which is 300X300X1)\n",
    "% -a denotes adjoint transform\n",
    "% -i denotes inverse transform\n",
    "\n",
    "adj = bart('nufft -d300:300:1 -i -l -t',trajectory,rawdata);\n",
    "\n",
    "% Transform regridded image back to k-space \n",
    "% 7 is for bitmasking \n",
    "\n",
    "adjk = bart('fft -u 7', adj);\n",
    "\n",
    "% Estimate coil sensitivities using the k-space center (radius of 20). \n",
    "\n",
    "calib = bart('ecalib -m1 -I',adjk);\n"
   ]
  },
  {
   "cell_type": "markdown",
   "metadata": {},
   "source": [
    "<div class=\"alert alert-warning\">\n",
    "  <strong><span class=\"badge\">2.2</span></strong> <b>Display sensitivity profiles per channel</b>\n",
    "</div>\n"
   ]
  },
  {
   "cell_type": "code",
   "execution_count": null,
   "metadata": {},
   "outputs": [],
   "source": [
    "figure();\n",
    "for ii=1:12\n",
    "subplot(3,4,ii);\n",
    "imagesc(log(1+abs(calib(:,:,1,ii)))); axis off; title(['Ch ' num2str(ii)]);\n",
    "end"
   ]
  },
  {
   "cell_type": "markdown",
   "metadata": {},
   "source": [
    "## 3. Reconstruction function "
   ]
  },
  {
   "cell_type": "markdown",
   "metadata": {},
   "source": [
    "<div class=\"alert alert-warning\">\n",
    "  <strong><span class=\"badge\">3.0</span></strong> <b>Use SENSE recon (both cartesian and non-cartesian) provided by BART for demonstration</b> \n",
    "</div>"
   ]
  },
  {
   "cell_type": "markdown",
   "metadata": {},
   "source": [
    "<div class=\"alert alert-warning\">\n",
    "  <strong><span class=\"badge\">3.0.1</span></strong> <b>Cartesian SENSE (BART) using k-space data obtained by fft of nufft</b> \n",
    "</div>"
   ]
  },
  {
   "cell_type": "code",
   "execution_count": null,
   "metadata": {},
   "outputs": [],
   "source": [
    "% Use gridded data for SENSE recon --> BART PICS \n",
    "bart_SENSE = bart('pics -l2', adjk, calib);\n",
    "imshow(abs(bart_SENSE),[])"
   ]
  },
  {
   "cell_type": "markdown",
   "metadata": {},
   "source": [
    "<div class=\"alert alert-warning\">\n",
    "  <strong><span class=\"badge\">3.0.2</span></strong> <b>Non-Cartesian SENSE (BART) using provided data</b> \n",
    "</div>"
   ]
  },
  {
   "cell_type": "code",
   "execution_count": null,
   "metadata": {},
   "outputs": [],
   "source": [
    "% Use non-cartesian SENSE recon --> BART PICS \n",
    "bart_SENSE2 = bart('pics -t',trajectory, rawdata, calib);\n",
    "imshow(abs(bart_SENSE2),[]);"
   ]
  },
  {
   "cell_type": "markdown",
   "metadata": {},
   "source": [
    "<div class=\"alert alert-info\">\n",
    "  <strong><span class=\"badge\">3.1</span></strong> <b>Subsample provided data by factors of 2, 3 and 4.</b>\n",
    "</div>\n"
   ]
  },
  {
   "cell_type": "code",
   "execution_count": null,
   "metadata": {},
   "outputs": [],
   "source": [
    "% Please see HelperFunctions folder for subSample.m \n",
    "\n",
    "[outRD_x2, outTR_x2] = subSample(rawdata,trajectory,2,nSpokes);\n",
    "\n",
    "[outRD_x3, outTR_x3] = subSample(rawdata,trajectory,3,nSpokes);\n",
    "\n",
    "[outRD_x4, outTR_x4] = subSample(rawdata,trajectory,4,nSpokes);"
   ]
  },
  {
   "cell_type": "markdown",
   "metadata": {},
   "source": [
    "<div class=\"alert alert-warning\">\n",
    "  <strong><span class=\"badge\">3.2</span></strong> <b>Use non-cartesian SENSE recon (BART) to observe the effects of subsampling</b>\n",
    "</div>\n"
   ]
  },
  {
   "cell_type": "code",
   "execution_count": null,
   "metadata": {},
   "outputs": [],
   "source": [
    "% BART non-cartesian sense outputs \n",
    "bart_SENSE2_x2 = bart('pics -t',outTR_x2, outRD_x2, calib);\n",
    "bart_SENSE2_x3 = bart('pics -t',outTR_x3, outRD_x3, calib);\n",
    "bart_SENSE2_x4 = bart('pics -t',outTR_x4, outRD_x4, calib);"
   ]
  },
  {
   "cell_type": "code",
   "execution_count": null,
   "metadata": {},
   "outputs": [],
   "source": [
    "figure();\n",
    "subplot(2,2,1); imshow(abs(bart_SENSE2),[]); title('Original');\n",
    "subplot(2,2,2); imshow(abs(bart_SENSE2_x2),[]); brighten(0.5); title('Undersample X2');\n",
    "subplot(2,2,3); imshow(abs(bart_SENSE2_x3),[]); brighten(0.5); title('Undersample X3');\n",
    "subplot(2,2,4); imshow(abs(bart_SENSE2_x4),[]); brighten(0.5); title('Undersample X4');"
   ]
  },
  {
   "cell_type": "markdown",
   "metadata": {},
   "source": [
    "\n",
    "<p style=\"color:navy;font-size:16px; background-color:powderblue; border-left: 6px solid navy; display: inline-block\"> &nbsp; <i class=\"fa fa-info-circle fa-1x\" style=\"color:darkblue\"></i>  <b>Reminder: Figure-1 from the paper&nbsp;</b></p> <br>\n",
    "\n",
    "<br>\n",
    "\n",
    "<div class=\"row\">\n",
    "<div class=\"col-sm-5\" style=\"padding-right:5px\">\n",
    "<img src=\"https://wol-prod-cdn.literatumonline.com/cms/attachment/2594c4ea-88e5-4078-b0ea-9893a6554853/mfig001.jpg\" style=\"width:500px;height:400px\" align=\"left\">\n",
    "</div>\n",
    "<div class=\"col-sm-7\" style=\"background-color:powderblue\">\n",
    "<p style=\"font-size:12px; padding-left:15px\"> <b>Implementation of iterative image reconstruction.</b><br><br> Conjugate gradient (CG) iteration is controlled by the central CG process. It is initialized by MR data originating from N receiver channels (1,2,3,…N), acquired with an arbitrary k‐space trajectory. <br> Separately for each channel, these data undergo processing similar to conventional gridding reconstruction, i.e., sampling density correction (D), and resampling along a Cartesian grid, followed by FFT (FT1). The resulting images are individually multiplied by complex conjugate coil sensitivity and summed. After subsequent intensity correction (I), the sum image represents the vector a as defined by Eq. [25]. After initialization with a, the CG process iteratively calculates a progression of images, which converges towards exact reconstruction. For each iteration step, a current residuum image vector needs to be multiplied by the matrix IEH DEI. This is performed by the loop which starts from the CG box. After initial intensity correction (I), the processing is continued separately for each receiver coil. First, the intensity corrected residuum image is multiplied by individual coil sensitivity (Si). The results are transformed into k‐space by FFT and resampled along the experimental k‐space trajectory (FT2), resulting in a set of multiple‐coil k‐space data similar to that obtained experimentally. The following steps are equivalent to those carried out with the original data, yielding an intermediate image, which is fed back into the CG process. Here a refined approximate solution is calculated, which serves for further refinement by continued iteration. <br>As soon as the current approximation is sufficiently accurate, it is output and undergoes final intensity correction and k‐space filtering.</p>\n",
    "</div>\n",
    "</div>\n"
   ]
  },
  {
   "cell_type": "markdown",
   "metadata": {},
   "source": [
    "<p style=\"color:navy;font-size:16px; background-color:powderblue; border-left: 6px solid navy; display:inline-block\"> &nbsp; <i class=\"fa fa-info-circle fa-1x\" style=\"color:darkblue\"></i>  <b> Implementation notes &nbsp; </b></p>\n",
    "\n",
    "TO BE EDITED\n",
    "\n",
    "* <p style=\"border:1px;border-style:solid;display:inline-block\"> &nbsp;FT1&nbsp; </p> <b>&</b> <p style=\"border:1px;border-style:solid;display:inline-block\"> &nbsp;D&nbsp; </p> <b>operations are implemented using BART's NUFFT:</b> <br>\n",
    "\n",
    "```python \n",
    "# -d denotes dimensions in x:y:z\n",
    "# -i denotes inverse transform\n",
    "\n",
    "transformed = bart('nufft -d x:y:z -i',trajectory,rawdata); \n",
    "\n",
    "```\n",
    "\n",
    "* <p style=\"border:1px;border-style:solid;display:inline-block\"> &nbsp;S<sub>$\\gamma$</sub>&nbsp; </p> <b> coil sensitivities are estimated using BART's CALDIR. See section 2.1</b>\n",
    "    \n",
    "```python\n",
    "# 20 denotes calibration region size\n",
    "# Conjugate transform is simply performed using Octave's conj function\n",
    "\n",
    "S = bart('caldir 20',kspace); \n",
    "```\n",
    "\n",
    "* <p style=\"border:1px;border-style:solid;display:inline-block\"> &nbsp;FT2&nbsp; </p> <b>is implemented using BART's NUFFT:</b> <br>\n",
    "\n",
    "```python\n",
    "Output = bart('nufft',trajectory,rawdata); \n",
    "```\n",
    "\n",
    "* <p style=\"border:1px;border-style:solid;display:inline-block; border-radius:50%\"> &nbsp;Sum&nbsp; </p> <b>is implemented using BART's RRS:</b> <br>\n",
    "\n",
    "```python\n",
    "Sum = bart('rss bitmask',input); \n",
    "```\n"
   ]
  },
  {
   "cell_type": "markdown",
   "metadata": {},
   "source": [
    "<div class=\"alert alert-info\">\n",
    "  <strong><span class=\"badge\">3.2</span></strong> <b>Calculate density compensation factor for operation <p style=\"border:1px;border-style:solid;display:inline-block\"> &nbsp;D&nbsp; </p> </b>\n",
    "</div>\n",
    "\n",
    "This operation may take approximately 50 seconds. A simpler method could have been applied here, yet would like to use Brian's MEXified implementations. "
   ]
  },
  {
   "cell_type": "code",
   "execution_count": null,
   "metadata": {},
   "outputs": [],
   "source": [
    "dcf = calcdcflut(trajectory,300); \n",
    "dcf = reshape(dcf,[3 nFE nSpokes]);"
   ]
  },
  {
   "cell_type": "markdown",
   "metadata": {},
   "source": [
    "<div class=\"alert alert-info\">\n",
    "  <strong><span class=\"badge\">3.3</span></strong> <b>Calculate intensity correction matrix for operatoin <p style=\"border:1px;border-style:solid;display:inline-block\"> &nbsp;I&nbsp; </p></b>\n",
    "</div>\n"
   ]
  },
  {
   "cell_type": "code",
   "execution_count": null,
   "metadata": {},
   "outputs": [],
   "source": [
    "# Root sum of square of sensitivities from 12 channels \n",
    "\n",
    "I = real(bart('rss 8',calib.*conj(calib)));\n",
    "imagesc(I);"
   ]
  },
  {
   "cell_type": "markdown",
   "metadata": {},
   "source": [
    "<div class=\"alert alert-info\">\n",
    "  <strong><span class=\"badge\">3.4</span></strong> <b>Define operation <p style=\"border:1px;border-style:solid;display:inline-block\"> &nbsp;E&nbsp; </p></b>\n",
    "</div>\n"
   ]
  },
  {
   "cell_type": "code",
   "execution_count": null,
   "metadata": {},
   "outputs": [],
   "source": [
    "function E = opE(inp,S,traj,I)\n",
    "% Here inp size is (300,300)\n",
    "% S is the sensitivities from 12 channels (300,300,1,12)\n",
    "% traj is the k-space coordinates\n",
    "% Normally, I is not a part of operation E, added here for convenience. \n",
    "\n",
    "inp = inp.*I; % Intensity corr\n",
    "\n",
    "tmp = S.*inp; % Multiply intensity corrected images with coil sensitivities\n",
    "\n",
    "E = bart('nufft',traj,tmp); % Transform back to the non-uniform k-space\n",
    "\n",
    "end"
   ]
  },
  {
   "cell_type": "markdown",
   "metadata": {},
   "source": [
    "<div class=\"alert alert-info\">\n",
    "  <strong><span class=\"badge\">3.5</span></strong> <b>Define operation <p style=\"border:1px;border-style:solid;display:inline-block\"> &nbsp;E<sup>H</sup>&nbsp; </p></b>\n",
    "</div>\n"
   ]
  },
  {
   "cell_type": "code",
   "execution_count": null,
   "metadata": {},
   "outputs": [],
   "source": [
    "function out = opEH(dcf,inp,S,traj,I)\n",
    "% dcf is density compensation factor , see 3.2\n",
    "% input samples respecting the size of the rawdata (1,512,96,12) \n",
    "% S is the coil sensitivities \n",
    "% traj is the k-space coordinates \n",
    "\n",
    "  % Inverse NUFFT to the image domain using Toeplitz embedding\n",
    "  tmp = bart('nufft -d300:300:1 -i -t',traj,inp.*sqrt(dcf(1,:,:)));\n",
    "  \n",
    "  % Get complex conjugate of sensitivity profiles\n",
    "  Sstar = conj(S(:,:,1,:));\n",
    "  \n",
    "  % Root sum of square of the images, scaled by complex conjugate of the sensitivity maps.\n",
    "  tmp2 = bart('rss 8 ',tmp.*Sstar);\n",
    "  \n",
    "  % Intensity correction\n",
    "  out = tmp2.*I;\n",
    "\n",
    "end"
   ]
  },
  {
   "cell_type": "code",
   "execution_count": null,
   "metadata": {},
   "outputs": [],
   "source": [
    "function b = cg_solve(a,I,S,dcf,maxstep,trajectory,usrthr)\n",
    "p = a;\n",
    "r = a;\n",
    "b = zeros(300,300);\n",
    "\n",
    "for ii=1:maxstep\n",
    "\n",
    "disp(['Iteration -->' num2str(ii)]);\n",
    "\n",
    "thr = norm(r).^2./norm(b).^2;\n",
    "disp(thr);\n",
    "\n",
    "%if all(logical(thr(:)<usrthr))\n",
    " %   break;\n",
    "%end\n",
    "\n",
    "E = opE(p,S,trajectory);\n",
    "\n",
    "q = opEH(dcf,E,S,trajectory,I);\n",
    "\n",
    "term = abs(dot(r,r))/dot(p,q);\n",
    "% The following fails \n",
    "% term = real(r*ctranspose(r)/ctranspose(p)*q);\n",
    "b = b + term*p;\n",
    "\n",
    "rprev = r;\n",
    "r = r - term*q;\n",
    "\n",
    "term2 = abs(dot(r,r)/dot(rprev,rprev));\n",
    "\n",
    "% The following fails \n",
    "% term2 = real(r*ctranspose(r)/ctranspose(rprev)*rprev);\n",
    "\n",
    "p = r + term2*p;\n",
    "\n",
    "end\n",
    "\n",
    "end"
   ]
  },
  {
   "cell_type": "code",
   "execution_count": null,
   "metadata": {
    "scrolled": false
   },
   "outputs": [],
   "source": [
    "a = opEH(dcf,rawdata,calib,trajectory,I);\n",
    "b = cg_solve(a,I,calib,dcf,10,trajectory,0.001);"
   ]
  },
  {
   "cell_type": "code",
   "execution_count": null,
   "metadata": {},
   "outputs": [],
   "source": [
    "imagesc(abs(b(30:300,40:250)))"
   ]
  },
  {
   "cell_type": "code",
   "execution_count": null,
   "metadata": {},
   "outputs": [],
   "source": [
    "imagesc(b.*I);"
   ]
  },
  {
   "cell_type": "code",
   "execution_count": null,
   "metadata": {},
   "outputs": [],
   "source": [
    "k_b = fftshift(fft2(b));\n",
    "\n",
    "k = 0.5 + 1/pi.*atan(100.*((40-abs(-150:149))/40));\n",
    "yy = repmat(k,[300 1]);\n",
    "\n",
    "lele= ifft2(ifftshift(k_b.*yy'));"
   ]
  },
  {
   "cell_type": "code",
   "execution_count": null,
   "metadata": {},
   "outputs": [],
   "source": [
    "imshow(abs(lele),[])"
   ]
  },
  {
   "cell_type": "code",
   "execution_count": null,
   "metadata": {},
   "outputs": [],
   "source": []
  }
 ],
 "metadata": {
  "kernelspec": {
   "display_name": "Octave",
   "language": "octave",
   "name": "octave"
  },
  "language_info": {
   "file_extension": ".m",
   "help_links": [
    {
     "text": "GNU Octave",
     "url": "https://www.gnu.org/software/octave/support.html"
    },
    {
     "text": "Octave Kernel",
     "url": "https://github.com/Calysto/octave_kernel"
    },
    {
     "text": "MetaKernel Magics",
     "url": "https://github.com/calysto/metakernel/blob/master/metakernel/magics/README.md"
    }
   ],
   "mimetype": "text/x-octave",
   "name": "octave",
   "version": "4.2.2"
  }
 },
 "nbformat": 4,
 "nbformat_minor": 2
}
