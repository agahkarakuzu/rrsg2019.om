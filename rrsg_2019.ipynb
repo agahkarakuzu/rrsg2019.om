{
 "cells": [
  {
   "cell_type": "markdown",
   "metadata": {
    "kernel": "SoS"
   },
   "source": [
    "# RRSG 2019 Challenge \n",
    "\n",
    "*** \n",
    "\n",
    "## Convention\n",
    "\n",
    "<div class=\"alert alert-info\">\n",
    "  <strong><span class=\"badge\">BLUE BOX</span></strong> <b> Steps for RRSG 2019 challenge tasks</b> \n",
    "</div>\n",
    "\n",
    "* Running cells followed by the blue boxes is enough to create RRSG 2019 challenge tasks.\n",
    "\n",
    "<div class=\"alert alert-warning\">\n",
    "  <strong><span class=\"badge\">YELLOW BOX</span></strong> <b> Supplementary operations </b> \n",
    "</div>\n",
    "\n",
    "* Cells following yellow boxes contain supplementary implementations to generate interactive figures and to perform reconstruction using BART modules. \n",
    "\n",
    "<div class=\"alert alert-danger\">\n",
    "  <strong><span class=\"badge\">RED BOX</span></strong> <b> Warnings to the user</b> \n",
    "</div>\n",
    "\n",
    "Warnings to the user regarding the execution of the cells will appear in the red boxes: \n",
    "\n",
    "* The order in which the cells in a Jupyter Notebook are executed matters to ensure that all needed variables are in scope to run upcoming tasks. \n",
    "* Running some of the cells more than once may hamper the functionality of the remaining cells. \n",
    "\n",
    "## Clarifications\n",
    "\n",
    "1. How?\n",
    "\n",
    "2. This notebooks uses [`Script of Scripts (SoS)`](https://vatlab.github.io/sos-docs/) to exchange data between `Octave` and `Python` subkernels. This is achieved by the `%get` magic command  placed at the very beginning of the `Python3` cells. For example: \n",
    "\n",
    "```python\n",
    "%get var_in_octave --from Octave\n",
    "```\n",
    "\n",
    "Following this `%get` magic command, `var_in_octave` variable will be also available to `Python3` cells. \n",
    "\n",
    "***"
   ]
  },
  {
   "cell_type": "markdown",
   "metadata": {
    "kernel": "SoS"
   },
   "source": [
    "## Initialize neccesary modules\n",
    "\n",
    "<div class=\"alert alert-info\">\n",
    "  <strong><span class=\"badge\">INITIALIZE</span></strong> <b> This notebook combines Octave and Python kernels for processing and visualization purposes, respectively. The following 4 cells are responsible for: </b> \n",
    "</div>\n",
    "\n",
    "* Loading Octave's image and optimization packages (included in the container, [please see apt.txt](https://github.com/agahkarakuzu/rrsg2019.om/blob/master/apt.txt)) \n",
    "* Importing Python packages (included in the container, [please see postBuild](https://github.com/agahkarakuzu/rrsg2019.om/blob/master/apt.txt))\n",
    "* Defining two python functions to get a heatmap trace\n",
    "* Mex two `.c` implementations for calculating density compensation to use them in Octave\n"
   ]
  },
  {
   "cell_type": "markdown",
   "metadata": {
    "kernel": "SoS"
   },
   "source": [
    "<div class=\"alert alert-danger\">\n",
    "  <strong><span class=\"badge\">RUN FIRST</span></strong> <b> You have to run the following 4 cells to load neccesary modules!</b> \n",
    "</div>\n"
   ]
  },
  {
   "cell_type": "code",
   "execution_count": 1,
   "metadata": {
    "kernel": "Octave"
   },
   "outputs": [],
   "source": [
    "%use Octave\n",
    "pkg load image \n",
    "pkg load optim"
   ]
  },
  {
   "cell_type": "code",
   "execution_count": 2,
   "metadata": {
    "kernel": "Python3"
   },
   "outputs": [
    {
     "data": {
      "text/html": [
       "        <script type=\"text/javascript\">\n",
       "        window.PlotlyConfig = {MathJaxConfig: 'local'};\n",
       "        if (window.MathJax) {MathJax.Hub.Config({SVG: {font: \"STIX-Web\"}});}\n",
       "        if (typeof require !== 'undefined') {\n",
       "        require.undef(\"plotly\");\n",
       "        requirejs.config({\n",
       "            paths: {\n",
       "                'plotly': ['https://cdn.plot.ly/plotly-latest.min']\n",
       "            }\n",
       "        });\n",
       "        require(['plotly'], function(Plotly) {\n",
       "            window._Plotly = Plotly;\n",
       "        });\n",
       "        }\n",
       "        </script>\n",
       "        "
      ]
     },
     "metadata": {},
     "output_type": "display_data"
    }
   ],
   "source": [
    "# Load python packages\n",
    "import plotly.plotly as py\n",
    "import plotly.graph_objs as go\n",
    "import plotly_express as px\n",
    "from plotly import tools\n",
    "import numpy as np\n",
    "import ipywidgets as widgets\n",
    "import math\n",
    "from plotly.offline import download_plotlyjs, init_notebook_mode, plot, iplot\n",
    "init_notebook_mode(connected=True)"
   ]
  },
  {
   "cell_type": "code",
   "execution_count": null,
   "metadata": {
    "kernel": "SoS"
   },
   "outputs": [],
   "source": [
    "import ipywidgets as widgets\n",
    "\n",
    "widgets.Dropdown(\n",
    "    options=['1', '2', '3'],\n",
    "    value='2',\n",
    "    description='Number:',\n",
    "    disabled=False,\n",
    ")"
   ]
  },
  {
   "cell_type": "code",
   "execution_count": 3,
   "metadata": {
    "kernel": "Python3"
   },
   "outputs": [],
   "source": [
    "# This is a Python3 cell to create an interactive figure. \n",
    "# Here we use %get magic function to migrate variables from the Octave workspace into Python\n",
    "def heatmap_trace(inp, name, xlen, ylen, clrmax, clrmin, clrscale):\n",
    "    trace = go.Heatmap( z =inp,\n",
    "                        y = list(range(xlen-1)),\n",
    "                        x = list(range(ylen-1)),\n",
    "                        colorscale=clrscale,\n",
    "                        showscale = True,\n",
    "                        zmax=clrmax,\n",
    "                        zmin=clrmin,\n",
    "                        colorbar=dict(\n",
    "                        tickfont=dict(\n",
    "                            size=14,\n",
    "                            color='white'\n",
    "                        )),\n",
    "                        name = name);\n",
    "    return trace\n",
    "\n",
    "def heatmap_trace2(inp, name, xlen, ylen, clrscale):\n",
    "    trace = go.Heatmap( z =inp,\n",
    "                        y = list(range(xlen-1)),\n",
    "                        x = list(range(ylen-1)),\n",
    "                        colorscale=clrscale,\n",
    "                        showscale = False,\n",
    "                        name = name);\n",
    "    return trace"
   ]
  },
  {
   "cell_type": "code",
   "execution_count": 4,
   "metadata": {
    "kernel": "Octave"
   },
   "outputs": [],
   "source": [
    "% Mex c files for gridding by Brian Hargreaves and Philip Beatty \n",
    "% http://mrsrl.stanford.edu/~brian/gridding/\n",
    "\n",
    "mex gridlut_mex.c\n",
    "mex calcdcflut_mex.c"
   ]
  },
  {
   "cell_type": "markdown",
   "metadata": {
    "kernel": "SoS"
   },
   "source": [
    "## 1. Load ISMRM RRSG 2019 challenge data.\n",
    "\n",
    "<div class=\"alert alert-info\">\n",
    "  <strong><span class=\"badge\">1.1</span></strong> <b>Please see this <a href=\"https://osf.io/xne9w/\">OSF page</a> for details.</b> \n",
    "</div>\n",
    "\n",
    "Data is downloaded from the OSF and added to the portable software environment using [`postBuild`](postBuild) configuration file.\n"
   ]
  },
  {
   "cell_type": "code",
   "execution_count": 5,
   "metadata": {
    "kernel": "Octave"
   },
   "outputs": [
    {
     "name": "stdout",
     "output_type": "stream",
     "text": [
      "Variables in the current scope:\n",
      "\n",
      "   Attr Name            Size                     Bytes  Class\n",
      "   ==== ====            ====                     =====  ===== \n",
      "        ans             1x1                          8  double\n",
      "   c    rawdata        12x96x512               4718592  single\n",
      "        trajectory     96x512x3                 589824  single\n",
      "\n",
      "Total is 737281 elements using 5308424 bytes\n",
      "\n"
     ]
    }
   ],
   "source": [
    "load('/tmp/rrsg_challenge/brain_radial_96proj_12ch.mat');\n",
    "whos % Show variables in the current scope "
   ]
  },
  {
   "cell_type": "markdown",
   "metadata": {
    "kernel": "SoS"
   },
   "source": [
    "<div class=\"alert alert-info\">\n",
    "  <strong><span class=\"badge\">1.2</span></strong> <b>Change data order to follow BART's dimension convention</b> \n",
    "</div>\n",
    "\n",
    "<div class=\"alert alert-danger\">\n",
    "  <strong><span class=\"badge\">Warning</span></strong> <b>Do not run the following cell more than once after loading data (previous cell).</b><br> Otherwise, data will be permutted once again and won't be following BART's convention anymore.\n",
    "\n",
    "--> You can refer to [this documentation](https://buildmedia.readthedocs.org/media/pdf/bart-doc/latest/bart-doc.pdf) for BART's dimension conventions.\n",
    "\n",
    "</div>\n"
   ]
  },
  {
   "cell_type": "code",
   "execution_count": 6,
   "metadata": {
    "kernel": "Octave"
   },
   "outputs": [
    {
     "name": "stdout",
     "output_type": "stream",
     "text": [
      "Variables in the current scope:\n",
      "\n",
      "   Attr Name            Size                     Bytes  Class\n",
      "   ==== ====            ====                     =====  ===== \n",
      "        ans             1x1                          8  double\n",
      "        nCh             1x1                          8  double\n",
      "        nFE             1x1                          8  double\n",
      "        nSpokes         1x1                          8  double\n",
      "   c    rawdata         1x512x96x12            4718592  single\n",
      "        trajectory      3x512x96                589824  single\n",
      "\n",
      "Total is 737284 elements using 5308448 bytes\n",
      "\n"
     ]
    }
   ],
   "source": [
    "rawdata = permute(rawdata,[4,3,2,1]); \n",
    "trajectory = permute(trajectory,[3,2,1]);\n",
    "[~,nFE,nSpokes,nCh] = size(rawdata);\n",
    "whos"
   ]
  },
  {
   "cell_type": "markdown",
   "metadata": {
    "kernel": "SoS"
   },
   "source": [
    "<div class=\"alert alert-warning\">\n",
    "  <strong><span class=\"badge\">1.3</span></strong> <b>Display raw data from each channel using Pyhton.</b> \n",
    "</div>"
   ]
  },
  {
   "cell_type": "code",
   "execution_count": 7,
   "metadata": {
    "kernel": "Python3"
   },
   "outputs": [],
   "source": [
    "%get rawdata --from Octave\n",
    "%get nFE --from Octave \n",
    "%get nSpokes --from Octave\n",
    "%get nCh --from Octave\n",
    "\n",
    "# This is a data exchange cell Octave --> Python3 "
   ]
  },
  {
   "cell_type": "code",
   "execution_count": 9,
   "metadata": {
    "kernel": "Python3"
   },
   "outputs": [
    {
     "data": {
      "text/plain": [
       "'rawdata.html'"
      ]
     },
     "execution_count": 9,
     "metadata": {},
     "output_type": "execute_result"
    }
   ],
   "source": [
    "# This cell plots rawdata from each channel\n",
    "# The execution of this cell takes a bit longer than conventional 2D plots (e.g. matplotlib) as each datapoint is represented on a heatmap for interactivity using Plotly. \n",
    "\n",
    "rawdata = np.squeeze(rawdata)\n",
    "\n",
    "fig = tools.make_subplots(rows=2, cols=6, print_grid=False, horizontal_spacing = 0.02, vertical_spacing = 0.02)\n",
    "\n",
    "traces = []\n",
    "iter = 0\n",
    "for ii in range(2):\n",
    "    for zz in range(6):\n",
    "        cur_trace = heatmap_trace(np.log(1+abs(rawdata[:,:,iter])), 'Channel: '+ str(iter+1), nSpokes, nFE, 0.0001, -0, 'Viridis')\n",
    "        fig.append_trace(cur_trace, ii+1, zz+1)\n",
    "        iter += 1\n",
    "\n",
    "fig['layout'].update(height=600, width=800, title=dict(text='<b>Raw data from each channel</b> <br> <i>Hover to see channel number and data points.</i>',font=dict(color=\"#ffc107\")),paper_bgcolor='#000000')\n",
    "\n",
    "for ii in range(12):\n",
    "    exec('fig[\\'layout\\'][\\'xaxis' + str(ii+1) + '\\'].update(showgrid = False, zeroline = False, showticklabels = False, ticks = \\'\\')')\n",
    "    exec('fig[\\'layout\\'][\\'yaxis' + str(ii+1) + '\\'].update(showgrid = False, zeroline = False, showticklabels = False, ticks = \\'\\')')\n",
    "\n",
    "plot(fig,filename='rawdata.html')"
   ]
  },
  {
   "cell_type": "markdown",
   "metadata": {
    "kernel": "SoS"
   },
   "source": [
    "<div class=\"alert alert-warning\">\n",
    "  <strong><span class=\"badge\">1.4</span></strong> <b>Display k-space data on trajectories</b> \n",
    "</div>"
   ]
  },
  {
   "cell_type": "code",
   "execution_count": 10,
   "metadata": {
    "kernel": "Octave"
   },
   "outputs": [],
   "source": [
    "# First we will parse data on Octave \n",
    "\n",
    "# Use bart to obtain root sum of squares of the rawdata over channels\n",
    "rd = real(rawdata) + 1i*imag(rawdata);\n",
    "rd = bart('rss 8', rd);\n",
    "clr = squeeze(log(rd)); clear rd;\n",
    "trajx = squeeze(trajectory(1,:,:));\n",
    "trajy = squeeze(trajectory(2,:,:));"
   ]
  },
  {
   "cell_type": "code",
   "execution_count": 11,
   "metadata": {
    "kernel": "Python3"
   },
   "outputs": [
    {
     "data": {
      "text/plain": [
       "'kspace.html'"
      ]
     },
     "execution_count": 11,
     "metadata": {},
     "output_type": "execute_result"
    }
   ],
   "source": [
    "%get trajx --from Octave\n",
    "%get trajy --from Octave\n",
    "%get clr --from Octave\n",
    "\n",
    "# The reason trajx, trajy and trajz are not vectorized in the Octave cell above is that, \n",
    "# currently SoS data exchange gets stuck while transferring large vectors. \n",
    "\n",
    "trajx = np.reshape(np.array(trajx),(nFE*nSpokes))\n",
    "trajy = np.reshape(np.array(trajy),(nFE*nSpokes))\n",
    "clr = np.reshape(np.array(clr),(nFE*nSpokes))\n",
    "\n",
    "trac = go.Scatter(\n",
    "    x  = trajx,\n",
    "    y =  trajy,\n",
    "    mode='markers',\n",
    "    marker=dict(\n",
    "        color = clr, #set color equal to a variable\n",
    "        colorscale= 'Viridis',\n",
    "        showscale=True,\n",
    "        colorbar=dict(\n",
    "        tickfont=dict(\n",
    "            size=14,\n",
    "            color='white'\n",
    "        ))\n",
    "    ),\n",
    "    \n",
    ")\n",
    "\n",
    "layout = go.Layout(\n",
    "    autosize=False,\n",
    "    width=800,\n",
    "    height=800,\n",
    "    paper_bgcolor='#000000',\n",
    "    plot_bgcolor='#000000',\n",
    "    xaxis = go.layout.XAxis(\n",
    "    gridcolor= '#283442',\n",
    "         tickfont=dict(\n",
    "            size=14,\n",
    "            color='white'\n",
    "        )\n",
    "    ),\n",
    "    yaxis = go.layout.YAxis(\n",
    "    gridcolor= '#283442',\n",
    "        tickfont=dict(\n",
    "            size=14,\n",
    "            color='white'\n",
    "        )\n",
    "    ),\n",
    "    hovermode = 'closest',\n",
    "    title=dict(text='<b>Raw data projected on k-space trajectory</b> <br> <i>Hover to see the locations of each sample</i>',font=dict(color=\"#ffc107\"))\n",
    "   \n",
    ")\n",
    "\n",
    "fig = go.Figure(data=[trac], layout=layout)\n",
    "\n",
    "plot(fig, filename='kspace.html')\n"
   ]
  },
  {
   "cell_type": "markdown",
   "metadata": {
    "kernel": "SoS"
   },
   "source": [
    "## 2. Estimate coil sensitivities using BART\n",
    "***"
   ]
  },
  {
   "cell_type": "markdown",
   "metadata": {
    "kernel": "SoS"
   },
   "source": [
    "<div class=\"alert alert-info\">\n",
    "  <strong><span class=\"badge\">2.1</span></strong> <b>Use BART to estimate coil sensitivities</b> \n",
    "</div>"
   ]
  },
  {
   "cell_type": "code",
   "execution_count": 17,
   "metadata": {
    "kernel": "Octave",
    "scrolled": true
   },
   "outputs": [
    {
     "name": "stdout",
     "output_type": "stream",
     "text": [
      "Done.\n",
      "Done.\n"
     ]
    }
   ],
   "source": [
    "% Perform NUFFT to interpolate data onto cartesian grid. \n",
    "% -d denotes dimension (x:y:z, which is 300X300X1)\n",
    "% -i sets the transform type to inverse\n",
    "% -l enables L2 regularization  \n",
    "% -t enables Toeplitz embedding\n",
    "%  trajectory is the k-space locations of the acquired samples\n",
    "%  rawdata is the sampled raw data\n",
    "\n",
    "im = bart('nufft -d300:300:1 -i -l -t',trajectory,rawdata);\n",
    "\n",
    "% Transform sensitivity maps to cartesian k-space using FFT\n",
    "% -u denotes unitary transform\n",
    "% 7 sets the bitmask level\n",
    "\n",
    "im_ks = bart('fft -u 7', sens_maps);\n",
    "\n",
    "% For details regarding BART's ECALIB, please see the implementation notes section.\n",
    "\n",
    "calib = bart('ecalib -m1 -I',im_ks);"
   ]
  },
  {
   "cell_type": "markdown",
   "metadata": {
    "kernel": "SoS"
   },
   "source": [
    "<div class=\"alert alert-warning\">\n",
    "  <strong><span class=\"badge\">2.2</span></strong> <b>Display sensitivity profiles per channel</b>\n",
    "</div>\n"
   ]
  },
  {
   "cell_type": "code",
   "execution_count": 13,
   "metadata": {
    "kernel": "Python3"
   },
   "outputs": [],
   "source": [
    "%get calib --from Octave\n",
    "\n",
    "# This is a data exchange cell. Octave --> Python3"
   ]
  },
  {
   "cell_type": "code",
   "execution_count": 15,
   "metadata": {
    "kernel": "Python3",
    "tags": [
     "report_output"
    ]
   },
   "outputs": [
    {
     "data": {
      "text/plain": [
       "'calibrations.html'"
      ]
     },
     "execution_count": 15,
     "metadata": {},
     "output_type": "execute_result"
    }
   ],
   "source": [
    "calib = np.squeeze(calib)\n",
    "fig = tools.make_subplots(rows=3, cols=4, print_grid=False, horizontal_spacing = 0.02, vertical_spacing = 0.02)\n",
    "\n",
    "traces = []\n",
    "iter = 0\n",
    "for ii in range(3):\n",
    "    for zz in range(4):\n",
    "        mx = np.max(np.log(1+abs(calib[:,:,iter])))\n",
    "        mn = np.min(np.log(1+abs(calib[:,:,iter])))\n",
    "        cur_trace = heatmap_trace(np.log(1+abs(calib[:,:,iter])), 'Channel: '+ str(iter+1), 300, 300, mn,mx , 'Viridis')\n",
    "        fig.append_trace(cur_trace, ii+1, zz+1)\n",
    "        iter += 1\n",
    "\n",
    "fig['layout'].update(height=750, width=800, title=dict(text='<b>Sensitivity profile of each channel</b> <br> <i>Hover to see channel number and data points.</i>',font=dict(color=\"#ffc107\")),paper_bgcolor='#000000')\n",
    "\n",
    "for ii in range(12):\n",
    "    exec('fig[\\'layout\\'][\\'xaxis' + str(ii+1) + '\\'].update(showgrid = False, zeroline = False, showticklabels=False,showline = False, ticks = \\'\\')')\n",
    "    exec('fig[\\'layout\\'][\\'yaxis' + str(ii+1) + '\\'].update(showgrid = False, zeroline = False, showline=False, showticklabels = False, ticks = \\'\\')')\n",
    "\n",
    "plot(fig,filename='calibrations.html')"
   ]
  },
  {
   "cell_type": "markdown",
   "metadata": {
    "kernel": "SoS"
   },
   "source": [
    "## 3. Reconstruction function "
   ]
  },
  {
   "cell_type": "markdown",
   "metadata": {
    "kernel": "SoS"
   },
   "source": [
    "<div class=\"alert alert-warning\">\n",
    "  <strong><span class=\"badge\">3.1</span></strong> <b>Use SENSE recon (both cartesian and non-cartesian) provided by BART for demonstration</b> \n",
    "</div>"
   ]
  },
  {
   "cell_type": "markdown",
   "metadata": {
    "kernel": "SoS"
   },
   "source": [
    "<div class=\"alert alert-warning\">\n",
    "  <strong><span class=\"badge\">3.1.1</span></strong> <b>Cartesian SENSE (BART) using k-space data obtained by fft of nufft</b> \n",
    "</div>"
   ]
  },
  {
   "cell_type": "code",
   "execution_count": 18,
   "metadata": {
    "kernel": "Octave"
   },
   "outputs": [
    {
     "name": "stdout",
     "output_type": "stream",
     "text": [
      "Size: 90000 Samples: 90000 Acc: 1.00\n",
      "l2 regularization: 0.000000\n",
      "conjugate gradients\n",
      "Total Time: 1.621926\n"
     ]
    }
   ],
   "source": [
    "% Use gridded data for SENSE recon --> BART PICS \n",
    "bart_SENSE = bart('pics -l2', im_ks, calib);"
   ]
  },
  {
   "cell_type": "markdown",
   "metadata": {
    "kernel": "SoS"
   },
   "source": [
    "<div class=\"alert alert-warning\">\n",
    "  <strong><span class=\"badge\">3.1.2</span></strong> <b>Non-Cartesian SENSE (BART) using provided data</b> \n",
    "</div>"
   ]
  },
  {
   "cell_type": "code",
   "execution_count": 19,
   "metadata": {
    "kernel": "Octave"
   },
   "outputs": [
    {
     "name": "stdout",
     "output_type": "stream",
     "text": [
      "conjugate gradients\n",
      "Total Time: 3.939036\n"
     ]
    }
   ],
   "source": [
    "% Use non-cartesian SENSE recon --> BART PICS \n",
    "bart_SENSE2 = bart('pics -t',trajectory, rawdata, calib);"
   ]
  },
  {
   "cell_type": "markdown",
   "metadata": {
    "kernel": "Octave"
   },
   "source": [
    "<div class=\"alert alert-warning\">\n",
    "  <strong><span class=\"badge\">3.1.3</span></strong> <b>Compare BART reconstructions from 3.0.1 and 3.0.2</b> \n",
    "</div>"
   ]
  },
  {
   "cell_type": "markdown",
   "metadata": {
    "kernel": "Octave"
   },
   "source": [
    "<div class=\"alert alert-danger\">\n",
    "  <strong><span class=\"badge\">RUN FIRST</span></strong> <b> Depends on 3.1.1 and 3.1.2</b> \n",
    "</div>\n"
   ]
  },
  {
   "cell_type": "code",
   "execution_count": 20,
   "metadata": {
    "kernel": "Python3"
   },
   "outputs": [
    {
     "data": {
      "text/plain": [
       "'bart_cart_non.html'"
      ]
     },
     "execution_count": 20,
     "metadata": {},
     "output_type": "execute_result"
    }
   ],
   "source": [
    "%get bart_SENSE --from Octave \n",
    "%get bart_SENSE2 --from Octave\n",
    "\n",
    "fig = tools.make_subplots(rows=1, cols=2, print_grid=False,vertical_spacing = 0.02)\n",
    "\n",
    "fig.append_trace(heatmap_trace2(abs(bart_SENSE), 'BART pics -l2', 300, 300,'Greys'),1,1)\n",
    "fig.append_trace(heatmap_trace2(abs(bart_SENSE2), 'BART pics -t', 300, 300,'Greys'),1,2)\n",
    "\n",
    "fig['layout'].update(height=400, width=600, title=dict(text='<b>Cartesian vs non-cartesian SENSE in BART</b>',font=dict(color=\"#ffc107\")),paper_bgcolor='#000000')\n",
    "\n",
    "for ii in range(2):\n",
    "    exec('fig[\\'layout\\'][\\'xaxis' + str(ii+1) + '\\'].update(showgrid = False, zeroline = False, showticklabels = False, ticks = \\'\\')')\n",
    "    exec('fig[\\'layout\\'][\\'yaxis' + str(ii+1) + '\\'].update(showgrid = False, zeroline = False, showticklabels = False, ticks = \\'\\')')\n",
    "\n",
    "plot(fig,filename='bart_cart_non.html')"
   ]
  },
  {
   "cell_type": "markdown",
   "metadata": {
    "kernel": "SoS"
   },
   "source": [
    "<div class=\"alert alert-info\">\n",
    "  <strong><span class=\"badge\">3.2</span></strong> <b>Subsample provided data by factors of 2, 3 and 4.</b>\n",
    "</div>\n"
   ]
  },
  {
   "cell_type": "code",
   "execution_count": 21,
   "metadata": {
    "kernel": "Octave"
   },
   "outputs": [],
   "source": [
    "% Please see HelperFunctions folder for subSample.m \n",
    "\n",
    "[outRD_x2, outTR_x2] = subSample(rawdata,trajectory,2,nSpokes);\n",
    "\n",
    "[outRD_x3, outTR_x3] = subSample(rawdata,trajectory,3,nSpokes);\n",
    "\n",
    "[outRD_x4, outTR_x4] = subSample(rawdata,trajectory,4,nSpokes);"
   ]
  },
  {
   "cell_type": "markdown",
   "metadata": {
    "kernel": "SoS"
   },
   "source": [
    "<div class=\"alert alert-warning\">\n",
    "  <strong><span class=\"badge\">3.3</span></strong> <b>Use non-cartesian SENSE recon (BART) to observe the effects of subsampling</b>\n",
    "</div>\n"
   ]
  },
  {
   "cell_type": "markdown",
   "metadata": {
    "kernel": "Octave"
   },
   "source": [
    "<div class=\"alert alert-warning\">\n",
    "  <strong><span class=\"badge\">3.3.1</span></strong> <b>Perform non-cartesian SENSE recon (BART)</b>\n",
    "</div>\n"
   ]
  },
  {
   "cell_type": "code",
   "execution_count": 22,
   "metadata": {
    "kernel": "Octave"
   },
   "outputs": [
    {
     "name": "stdout",
     "output_type": "stream",
     "text": [
      "conjugate gradients\n",
      "Total Time: 4.580031\n",
      "conjugate gradients\n",
      "Total Time: 4.507621\n",
      "conjugate gradients\n",
      "Total Time: 5.199887\n"
     ]
    }
   ],
   "source": [
    "% BART non-cartesian sense outputs \n",
    "bart_SENSE2_x2 = bart('pics -t',outTR_x2, outRD_x2, calib);\n",
    "bart_SENSE2_x3 = bart('pics -t',outTR_x3, outRD_x3, calib);\n",
    "bart_SENSE2_x4 = bart('pics -t',outTR_x4, outRD_x4, calib);"
   ]
  },
  {
   "cell_type": "markdown",
   "metadata": {
    "kernel": "Octave"
   },
   "source": [
    "<div class=\"alert alert-warning\">\n",
    "  <strong><span class=\"badge\">3.3.2</span></strong> <b>Display: Compare reconstructed images</b>\n",
    "</div>\n"
   ]
  },
  {
   "cell_type": "code",
   "execution_count": 23,
   "metadata": {
    "kernel": "Python3"
   },
   "outputs": [],
   "source": [
    "%get bart_SENSE --from Octave \n",
    "%get bart_SENSE2_x2 --from Octave\n",
    "%get bart_SENSE2_x3 --from Octave\n",
    "%get bart_SENSE2_x4 --from Octave\n",
    "\n",
    "# Data exchange cell. Octave --> Python3"
   ]
  },
  {
   "cell_type": "code",
   "execution_count": 24,
   "metadata": {
    "kernel": "Python3"
   },
   "outputs": [
    {
     "data": {
      "text/plain": [
       "'sub_bart_compare.html'"
      ]
     },
     "execution_count": 24,
     "metadata": {},
     "output_type": "execute_result"
    }
   ],
   "source": [
    "fig = tools.make_subplots(rows=2, cols=2, print_grid=False,vertical_spacing = 0.02, horizontal_spacing=0.04)\n",
    "\n",
    "fig.append_trace(heatmap_trace2(abs(bart_SENSE2), 'Original', 300, 300,'Greys'),1,1)\n",
    "fig.append_trace(heatmap_trace2(abs(bart_SENSE2_x2), '2X', 300, 300,'Greys'),1,2)\n",
    "fig.append_trace(heatmap_trace2(abs(bart_SENSE2_x3), '3X', 300, 300,'Greys'),2,1)\n",
    "fig.append_trace(heatmap_trace2(abs(bart_SENSE2_x4), '4X', 300, 300,'Greys'),2,2)\n",
    "\n",
    "fig['layout'].update(height=600, width=600, title=dict(text='<b>Comparison of BART non-cartesian SENSE outputs <br> at different undersampling rates</b>',font=dict(color=\"#ffc107\")),paper_bgcolor='#000000')\n",
    "\n",
    "for ii in range(4):\n",
    "    exec('fig[\\'layout\\'][\\'xaxis' + str(ii+1) + '\\'].update(showgrid = False, showline=False, zeroline = False, showticklabels = False, ticks = \\'\\')')\n",
    "    exec('fig[\\'layout\\'][\\'yaxis' + str(ii+1) + '\\'].update(showgrid = False, zeroline = False, showline=False, showticklabels = False, ticks = \\'\\')')\n",
    "\n",
    "plot(fig,filename='sub_bart_compare.html')\n"
   ]
  },
  {
   "cell_type": "markdown",
   "metadata": {
    "kernel": "Python3"
   },
   "source": [
    "<div class=\"alert alert-info\">\n",
    "  <strong><span class=\"badge\">Section 4</span></strong> <b>Implementation of the reconstruction algorithm</b>\n",
    "</div>\n",
    "\n",
    "* To better relate implementation to the paper, reminders and implementation notes (following the original notation) are added."
   ]
  },
  {
   "cell_type": "markdown",
   "metadata": {
    "kernel": "SoS"
   },
   "source": [
    "\n",
    "<p style=\"color:navy;font-size:16px; background-color:powderblue; border-left: 6px solid navy; display: inline-block\"> &nbsp; <i class=\"fa fa-info-circle fa-1x\" style=\"color:darkblue\"></i>  <b>Reminder: Figure-1 from the paper&nbsp;</b></p> <br>\n",
    "\n",
    "<br>\n",
    "\n",
    "<div class=\"row\">\n",
    "<div class=\"col-sm-5\" style=\"padding-right:5px\">\n",
    "<img src=\"https://wol-prod-cdn.literatumonline.com/cms/attachment/2594c4ea-88e5-4078-b0ea-9893a6554853/mfig001.jpg\" style=\"width:500px;height:400px\" align=\"left\">\n",
    "</div>\n",
    "<div class=\"col-sm-7\" style=\"background-color:powderblue\">\n",
    "<p style=\"font-size:12px; padding-left:15px\"> <b>Implementation of iterative image reconstruction.</b><br><br> Conjugate gradient (CG) iteration is controlled by the central CG process. It is initialized by MR data originating from N receiver channels (1,2,3,…N), acquired with an arbitrary k‐space trajectory. <br> Separately for each channel, these data undergo processing similar to conventional gridding reconstruction, i.e., sampling density correction (D), and resampling along a Cartesian grid, followed by FFT (FT1). The resulting images are individually multiplied by complex conjugate coil sensitivity and summed. After subsequent intensity correction (I), the sum image represents the vector a as defined by Eq. [25]. After initialization with a, the CG process iteratively calculates a progression of images, which converges towards exact reconstruction. For each iteration step, a current residuum image vector needs to be multiplied by the matrix IEH DEI. This is performed by the loop which starts from the CG box. After initial intensity correction (I), the processing is continued separately for each receiver coil. First, the intensity corrected residuum image is multiplied by individual coil sensitivity (Si). The results are transformed into k‐space by FFT and resampled along the experimental k‐space trajectory (FT2), resulting in a set of multiple‐coil k‐space data similar to that obtained experimentally. The following steps are equivalent to those carried out with the original data, yielding an intermediate image, which is fed back into the CG process. Here a refined approximate solution is calculated, which serves for further refinement by continued iteration. <br>As soon as the current approximation is sufficiently accurate, it is output and undergoes final intensity correction and k‐space filtering.</p>\n",
    "</div>\n",
    "</div>\n"
   ]
  },
  {
   "cell_type": "markdown",
   "metadata": {
    "kernel": "SoS"
   },
   "source": [
    "<p style=\"color:navy;font-size:16px; background-color:powderblue; border-left: 6px solid navy; display:inline-block\"> &nbsp; <i class=\"fa fa-info-circle fa-1x\" style=\"color:darkblue\"></i>  <b> Implementation notes &nbsp; </b></p>\n",
    "\n",
    "This section relates the present implementation with the Figure-1 using the same notations. \n",
    "\n",
    "* <p style=\"border:1px;border-style:solid;display:inline-block\"> &nbsp;FT1&nbsp; </p><b> operation is implemented using BART's NUFFT:</b> <br>\n",
    "\n",
    "This function transforms non-cartesian k-space data (`rawdata` and `trajectory`) into image domain (`im`): \n",
    "```octave \n",
    "im = bart('nufft -d x:y:z -i -l -t',trajectory,rawdata); \n",
    "\n",
    "% -d denotes dimensions in x:y:z\n",
    "% -i sets the transform type to inverse\n",
    "% -l enables L2 regularization  \n",
    "% -t enables Toeplitz embedding\n",
    "%  trajectory is the k-space locations of the acquired samples\n",
    "%  rawdata is the sampled raw data\n",
    "\n",
    "```\n",
    "\n",
    "* <p style=\"border:1px;border-style:solid;display:inline-block\"> &nbsp;S<sub>$\\gamma$</sub>&nbsp; </p> <b> coil sensitivities are estimated using BART's ECALIB. See section 2.1</b>\n",
    "\n",
    "This function creates sensitivity maps (stored in the `calib` variable) from the raw k-space data on cartesian grid (sens_maps_ks):\n",
    "\n",
    "```octave\n",
    "calib = bart('ecalib -m1 -I',sens_maps_ks);\n",
    "\n",
    "% -I enables intensity correction\n",
    "% -m1 sets number of maps to one \n",
    "```\n",
    "\n",
    "* <p style=\"border:1px;border-style:solid;display:inline-block\"> &nbsp;FT2&nbsp; </p> <b>is implemented using BART's NUFFT:</b> <br>\n",
    "\n",
    "This function transforms image `im` back to a non-uniform k-space of (radial, which is defined by `trajectory` variable in this case) `nu_ks`:\n",
    "\n",
    "```octave\n",
    "nu_ks = bart('nufft',traj,im); \n",
    "```\n",
    "\n",
    "* <p style=\"border:1px;border-style:solid;display:inline-block\"> &nbsp;D&nbsp; </p> <b>is the operation of scaling rawdata with density correction matrix.</b> <br>\n",
    "\n",
    "To obtain density correction factor `dcf` pertaining to the `rawdata`, submodules (written in C) provided by [Brian Hargreaves's gridding functions](http://mrsrl.stanford.edu/~brian/gridding/) are used:\n",
    "\n",
    "```octave\n",
    "dcf = calcdcflut(trajectory,300); \n",
    "\n",
    "% trajectory is the k-space locations of the non-cartesian rawdata\n",
    "% 300 is the recon matrix size (300x300)\n",
    "```\n",
    "\n",
    "\n",
    "* <p style=\"border:1px;border-style:solid;display:inline-block; border-radius:50%\"> &nbsp;Sum&nbsp; </p> <b>is implemented using BART's RRS:</b> <br>\n",
    "\n",
    "This function simply performs sum of squares combination: \n",
    "\n",
    "```python\n",
    "sum = bart('rss bitmask',multi_channel_input); \n",
    "```\n",
    "\n",
    "* <p style=\"border:1px;border-style:solid;display:inline-block;\"> &nbsp;F&nbsp; </p> <b>is the k-space filtering, defined in 3.6</b> <br>\n"
   ]
  },
  {
   "cell_type": "markdown",
   "metadata": {
    "kernel": "SoS"
   },
   "source": [
    "<div class=\"alert alert-info\">\n",
    "  <strong><span class=\"badge\">3.2</span></strong> <b>Calculate density compensation factor for operation <p style=\"border:1px;border-style:solid;display:inline-block\"> &nbsp;D&nbsp; </p> </b>\n",
    "</div>\n",
    "\n",
    "NOTE: This operation may take a few minutes. \n",
    "> A simpler method could have been applied here. Instead, I preferred using the submodules (written in C) provided by [Brian Hargreaves's gridding functions](http://mrsrl.stanford.edu/~brian/gridding/) to provide a good example of interoperability.  "
   ]
  },
  {
   "cell_type": "code",
   "execution_count": null,
   "metadata": {
    "kernel": "Octave"
   },
   "outputs": [],
   "source": [
    "dcf = calcdcflut(trajectory,300); \n",
    "dcf = reshape(dcf,[3 nFE nSpokes]);"
   ]
  },
  {
   "cell_type": "markdown",
   "metadata": {
    "kernel": "SoS"
   },
   "source": [
    "<div class=\"alert alert-info\">\n",
    "  <strong><span class=\"badge\">3.3</span></strong> <b>Calculate intensity correction matrix for operation <p style=\"border:1px;border-style:solid;display:inline-block\"> &nbsp;I&nbsp; </p></b>\n",
    "</div>\n"
   ]
  },
  {
   "cell_type": "code",
   "execution_count": null,
   "metadata": {
    "kernel": "Octave"
   },
   "outputs": [],
   "source": [
    "# Root sum of square of sensitivities (estimated in section 2.1) from 12 channels \n",
    "I = abs(bart('rss 8',calib.*conj(calib)));"
   ]
  },
  {
   "cell_type": "code",
   "execution_count": null,
   "metadata": {
    "kernel": "Python3"
   },
   "outputs": [],
   "source": [
    "%get I --from Octave\n",
    "\n",
    "\n",
    "trace  = heatmap_trace2(abs(I), 'I', 300, 300,'Viridis')\n",
    "axis_template = dict(showgrid = False, zeroline = False,\n",
    "             linecolor = 'black', showticklabels = False,\n",
    "             ticks = '' )\n",
    "layout = dict(height=500, width=500, title=dict(text='<b>Intensity correction matrix</b>',font=dict(color=\"skyblue\")),paper_bgcolor='#000000',xaxis=axis_template,yaxis=axis_template)\n",
    "figure = dict(data=[trace],layout=layout)\n",
    "\n",
    "\n",
    "iplot(figure)"
   ]
  },
  {
   "cell_type": "markdown",
   "metadata": {
    "kernel": "SoS"
   },
   "source": [
    "<div class=\"alert alert-info\">\n",
    "  <strong><span class=\"badge\">3.4</span></strong> <b>Define operation <p style=\"border:1px;border-style:solid;display:inline-block\"> &nbsp;E&nbsp; </p></b>\n",
    "</div>\n",
    "\n",
    "* Function prototype\n",
    "\n",
    "```octave\n",
    "function E = opE(inp,S,traj,I)\n",
    "\n",
    "```\n",
    "\n",
    "* Input arguments \n",
    "     * **inp:** The image data (300,300)\n",
    "     * **S:** Sensitivity profiles from 12 channels (300,300,12)\n",
    "     * **traj:** k-space coordinates (3,512,96)\n",
    "     * **I:** Intensity correction matrix\n",
    "\n",
    "* Output \n",
    "     * **E** Please see the Figure-1 above"
   ]
  },
  {
   "cell_type": "code",
   "execution_count": null,
   "metadata": {
    "kernel": "Octave"
   },
   "outputs": [],
   "source": [
    "function E = opE(inp,S,traj,I)\n",
    "\n",
    "    inp = inp.*I; % Scale with the intensity correction matrix, as operation I precedes operation E (see Fig. 1)\n",
    "\n",
    "    tmp = S.*inp; % Multiply the intensity corrected image with coil sensitivities. This will produce one image per channel stored in tmp variable\n",
    "\n",
    "    E = bart('nufft',traj,tmp); % Transform back to the non-uniform k-space (see implementation notes for details)\n",
    "\n",
    "end"
   ]
  },
  {
   "cell_type": "markdown",
   "metadata": {
    "kernel": "SoS"
   },
   "source": [
    "<div class=\"alert alert-info\">\n",
    "  <strong><span class=\"badge\">3.5</span></strong> <b>Define operation <p style=\"border:1px;border-style:solid;display:inline-block\"> &nbsp;E<sup>H</sup>&nbsp; </p></b>\n",
    "</div>\n",
    "\n",
    "* Function prototype\n",
    "\n",
    "```octave\n",
    "function EH = opEH(dcf,inp,S,traj,I)\n",
    "\n",
    "```\n",
    "\n",
    "* Input arguments \n",
    "     * **dcf:** The density correction factor to scale rawdata\n",
    "     * **inp:** Non-cartesian k-space samples from multiple channels (512,96,12) \n",
    "     * **S:** Sensitivity profiles from 12 channels\n",
    "     * **traj:** k-space coordinates (3,512,96)\n",
    "     * **I:** Intensity correciton matrix\n",
    "\n",
    "* Output \n",
    "     * **EH** Please see the Figure-1 above"
   ]
  },
  {
   "cell_type": "code",
   "execution_count": null,
   "metadata": {
    "kernel": "Octave"
   },
   "outputs": [],
   "source": [
    "function EH = opEH(dcf,inp,S,traj,I)\n",
    "\n",
    "  tmp = bart('nufft -d300:300:1 -i -l -t',traj,inp.*sqrt(dcf(1,:,:))); % NUFFT to image domain (see implementation notes)\n",
    "  \n",
    "  Sstar = conj(S(:,:,1,:)); %  Complex conjugate of sensitivity profiles (see Fig. 1)\n",
    "  \n",
    "  tmp2 = bart('rss 8 ',tmp.*Sstar); % Images scaled by complex conjugate of sensitivity profiles and SOS combined\n",
    "  \n",
    "  EH = tmp2.*I; % Scale output image by intensity correction\n",
    "\n",
    "end"
   ]
  },
  {
   "cell_type": "markdown",
   "metadata": {
    "kernel": "Octave"
   },
   "source": [
    "<div class=\"alert alert-info\">\n",
    "  <strong><span class=\"badge\">3.6</span></strong> <b>Define operation <p style=\"border:1px;border-style:solid;display:inline-block\"> &nbsp;F&nbsp;</p></b>\n",
    "</div>\n"
   ]
  },
  {
   "cell_type": "code",
   "execution_count": null,
   "metadata": {
    "kernel": "Octave"
   },
   "outputs": [],
   "source": [
    "function out = opF(im,beta,r,N,I)\n",
    "    \n",
    "    im = im./I;\n",
    "    %imagesc(im);\n",
    "    im(isnan(im)==1) = 0;\n",
    "    f_k = zeros(N,N);\n",
    "    f_k(N/2+1,N/2+1) = 1;\n",
    "    f_k = bwdist(f_k);\n",
    "    f_k = 0.5 + 1/pi.*atan(beta.*((r-abs(f_k))/r));\n",
    "    f_k = fftshift(f_k);\n",
    "    im_k = fft2(im);\n",
    "\n",
    "    out = abs(ifft2(ifftshift(im_k.*f_k)));\n",
    "\n",
    "end"
   ]
  },
  {
   "cell_type": "markdown",
   "metadata": {
    "kernel": "Octave"
   },
   "source": [
    "<div class=\"alert alert-info\">\n",
    "  <strong><span class=\"badge\">3.7</span></strong> <b>Define iterative algorithm</b>\n",
    "</div>\n"
   ]
  },
  {
   "cell_type": "code",
   "execution_count": null,
   "metadata": {
    "kernel": "Octave"
   },
   "outputs": [],
   "source": [
    "function [b,deltas] = cg_solve(a,I,S,dcf,maxstep,trajectory)\n",
    "\n",
    "    p = a;\n",
    "    r = a;\n",
    "    b = zeros(300,300);\n",
    "\n",
    "    deltas = zeros(maxstep,1);\n",
    "    for ii=1:maxstep\n",
    "\n",
    "    disp(['Iteration -->' num2str(ii)]);\n",
    "\n",
    "    delta = r(:)'*r(:)/(a(:)'*a(:));\n",
    "    \n",
    "    disp(delta);\n",
    "    deltas(ii) = delta;\n",
    "\n",
    "    E = opE(p,S,trajectory);\n",
    "\n",
    "    q = opEH(dcf,E,S,trajectory,I);\n",
    "\n",
    "    % dot(r,r) is equivalent to r(:)'*r(:). Used dot for easy reading. \n",
    "\n",
    "    term = dot(r,r)/dot(p,q);\n",
    "\n",
    "    b = b + term*p;\n",
    "\n",
    "    rprev = r;\n",
    "\n",
    "    r = r - term*q;\n",
    "\n",
    "    term2 = dot(r,r)/dot(rprev,rprev);\n",
    "\n",
    "    p = r + term2*p;\n",
    "\n",
    "    end\n",
    "\n",
    "    \n",
    "end\n"
   ]
  },
  {
   "cell_type": "markdown",
   "metadata": {
    "kernel": "Octave"
   },
   "source": [
    "<div class=\"alert alert-info\">\n",
    "  <strong><span class=\"badge\">3.8</span></strong> <b>Define main call to the iterative solution</b>\n",
    "</div>\n"
   ]
  },
  {
   "cell_type": "code",
   "execution_count": null,
   "metadata": {
    "kernel": "Octave",
    "scrolled": false
   },
   "outputs": [],
   "source": [
    "function [im,deltas] = main_sense(rawdata, calib, trajectory,I,dcf,maxiter)\n",
    "\n",
    "    a = opEH(dcf,rawdata,calib,trajectory,I);\n",
    "    [im,deltas] = cg_solve(a,I,calib,dcf,maxiter,trajectory);\n",
    "    im = opF(im,100,40,300,I);\n",
    "\n",
    "end"
   ]
  },
  {
   "cell_type": "markdown",
   "metadata": {
    "kernel": "Octave"
   },
   "source": [
    "<div class=\"alert alert-info\">\n",
    "  <strong><span class=\"badge\">4.1</span></strong> <b>Perform recon with different subsamplings</b>\n",
    "</div>\n"
   ]
  },
  {
   "cell_type": "code",
   "execution_count": null,
   "metadata": {
    "kernel": "SoS"
   },
   "outputs": [],
   "source": [
    "widgets.RadioButtons(\n",
    "    options=['Load saved outputs', 'Re-run'],\n",
    "#     value='pineapple',\n",
    "    description='LOAD/RUN',\n",
    "    disabled=False\n",
    ")"
   ]
  },
  {
   "cell_type": "code",
   "execution_count": null,
   "metadata": {
    "kernel": "Octave"
   },
   "outputs": [],
   "source": [
    "[im,deltas] = main_sense(rawdata, calib, trajectory,I,dcf,10);\n",
    "[im_x2,deltas_x2] = main_sense(outRD_x2, calib, outTR_x2,I,dcf(:,:,1:2:end),10);\n",
    "[im_x3,deltas_x3] = main_sense(outRD_x3, calib, outTR_x3,I,dcf(:,:,1:3:end),10);\n",
    "[im_x4,deltas_x4] = main_sense(outRD_x4, calib, outTR_x4,I,dcf(:,:,1:4:end),10);\n"
   ]
  },
  {
   "cell_type": "code",
   "execution_count": null,
   "metadata": {
    "kernel": "Octave"
   },
   "outputs": [],
   "source": [
    "plot(log10([deltas,deltas_x2,deltas_x3,deltas_x4]))"
   ]
  },
  {
   "cell_type": "code",
   "execution_count": null,
   "metadata": {
    "kernel": "Octave"
   },
   "outputs": [],
   "source": []
  },
  {
   "cell_type": "code",
   "execution_count": null,
   "metadata": {
    "kernel": "Octave"
   },
   "outputs": [],
   "source": [
    "imagesc(im_x3)"
   ]
  }
 ],
 "metadata": {
  "kernelspec": {
   "display_name": "SoS",
   "language": "sos",
   "name": "sos"
  },
  "language_info": {
   "codemirror_mode": "sos",
   "file_extension": ".sos",
   "mimetype": "text/x-sos",
   "name": "sos",
   "nbconvert_exporter": "sos_notebook.converter.SoS_Exporter",
   "pygments_lexer": "sos"
  },
  "sos": {
   "kernels": [
    [
     "Octave",
     "octave",
     "Octave",
     "",
     ""
    ],
    [
     "Python3",
     "python3",
     "Python3",
     "#FFD91A",
     {
      "name": "ipython",
      "version": 3
     }
    ],
    [
     "SoS",
     "sos",
     "",
     "",
     "sos"
    ]
   ],
   "panel": {
    "displayed": false,
    "height": 0,
    "style": "side"
   },
   "version": "0.19.6"
  }
 },
 "nbformat": 4,
 "nbformat_minor": 2
}
