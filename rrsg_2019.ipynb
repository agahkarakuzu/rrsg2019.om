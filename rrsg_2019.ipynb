{
 "cells": [
  {
   "cell_type": "markdown",
   "metadata": {
    "kernel": "SoS"
   },
   "source": [
    "# RRSG 2019 Challenge \n",
    "\n",
    "*** \n",
    "\n",
    "## Convention\n",
    "\n",
    "<div class=\"alert alert-info\">\n",
    "  <strong><span class=\"badge\">BLUE BOX</span></strong> <b> Steps for RRSG 2019 challenge tasks</b> \n",
    "</div>\n",
    "\n",
    "* Running cells followed by the blue boxes is enough to create RRSG 2019 challenge tasks.\n",
    "\n",
    "<div class=\"alert alert-warning\">\n",
    "  <strong><span class=\"badge\">YELLOW BOX</span></strong> <b> Supplementary operations </b> \n",
    "</div>\n",
    "\n",
    "* Cells following yellow boxes contain supplementary implementations to generate interactive figures and to perform reconstruction using BART modules. \n",
    "\n",
    "<div class=\"alert alert-danger\">\n",
    "  <strong><span class=\"badge\">RED BOX</span></strong> <b> Warnings to the user</b> \n",
    "</div>\n",
    "\n",
    "Warnings to the user regarding the execution of the cells will appear in the red boxes: \n",
    "\n",
    "* The order in which the cells in a Jupyter Notebook are executed matters to ensure that all needed variables are in scope to run upcoming tasks. \n",
    "* Running some of the cells more than once may hamper the functionality of the remaining cells. \n",
    "\n",
    "## Clarifications\n",
    "\n",
    "1. How?\n",
    "\n",
    "2. This notebooks uses [`Script of Scripts (SoS)`](https://vatlab.github.io/sos-docs/) to exchange data between `Octave` and `Python` subkernels. This is achieved by the `%get` magic command  placed at the very beginning of the `Python3` cells. For example: \n",
    "\n",
    "```python\n",
    "%get var_in_octave --from Octave\n",
    "```\n",
    "\n",
    "Following this `%get` magic command, `var_in_octave` variable will be also available to `Python3` cells. \n",
    "\n",
    "***\n",
    "\n",
    "## References \n",
    "\n",
    "Details regarding the challenge can be found [here](https://ismrm.github.io/rrsg/challenge_one/).\n",
    "\n",
    "Some of the implementations are adapted to [Ludger Starke's](https://github.com/ISMRM/rrsg/blob/master/challenges/challenge_01/hosted_submissions/reproducibleResearch19_LudgerStarke.zip) submission (MATLAB & BART) for compliance.\n",
    "\n",
    "Data included in this Notebook is available on [this OSF repository](https://osf.io/xne9w/)."
   ]
  },
  {
   "cell_type": "markdown",
   "metadata": {
    "kernel": "SoS"
   },
   "source": [
    "## Initialize neccesary modules\n",
    "\n",
    "<div class=\"alert alert-info\">\n",
    "  <strong><span class=\"badge\">INITIALIZE</span></strong> <b> This notebook combines Octave and Python kernels for processing and visualization purposes, respectively. The following 4 cells are responsible for: </b> \n",
    "</div>\n",
    "\n",
    "* Loading Octave's image and optimization packages (included in the container, [please see apt.txt](https://github.com/agahkarakuzu/rrsg2019.om/blob/master/apt.txt)) \n",
    "* Importing Python packages (included in the container, [please see postBuild](https://github.com/agahkarakuzu/rrsg2019.om/blob/master/apt.txt))\n",
    "* Defining two python functions to get a heatmap trace\n",
    "* Mex two `.c` implementations for calculating density compensation to use them in Octave\n"
   ]
  },
  {
   "cell_type": "markdown",
   "metadata": {
    "kernel": "SoS"
   },
   "source": [
    "<div class=\"alert alert-danger\">\n",
    "  <strong><span class=\"badge\">RUN FIRST</span></strong> <b> The following 4 cells are run on opening to load neccesary modules!</b> \n",
    "</div>\n"
   ]
  },
  {
   "cell_type": "code",
   "execution_count": 72,
   "metadata": {
    "hide_input": true,
    "init_cell": true,
    "kernel": "Octave"
   },
   "outputs": [
    {
     "name": "stdout",
     "output_type": "stream",
     "text": [
      "Executed automatically\n",
      "Cell to load octave packages. To show, select the cell and click arrow up icon in the toolbar.\n"
     ]
    }
   ],
   "source": [
    "%use Octave\n",
    "disp('Executed automatically');\n",
    "disp('Cell to load octave packages. To show, select the cell and click arrow up icon in the toolbar.');\n",
    "pkg load image \n",
    "pkg load optim\n",
    "curdir = pwd;\n",
    "addpath([curdir filesep 'helpers']);"
   ]
  },
  {
   "cell_type": "code",
   "execution_count": 68,
   "metadata": {
    "hide_input": true,
    "init_cell": true,
    "kernel": "Python3"
   },
   "outputs": [
    {
     "name": "stdout",
     "output_type": "stream",
     "text": [
      "Executed automatically\n",
      "Cell to import python modules. To show, select the cell and click arrow up icon in the toolbar.\n"
     ]
    },
    {
     "data": {
      "text/html": [
       "        <script type=\"text/javascript\">\n",
       "        window.PlotlyConfig = {MathJaxConfig: 'local'};\n",
       "        if (window.MathJax) {MathJax.Hub.Config({SVG: {font: \"STIX-Web\"}});}\n",
       "        if (typeof require !== 'undefined') {\n",
       "        require.undef(\"plotly\");\n",
       "        requirejs.config({\n",
       "            paths: {\n",
       "                'plotly': ['https://cdn.plot.ly/plotly-latest.min']\n",
       "            }\n",
       "        });\n",
       "        require(['plotly'], function(Plotly) {\n",
       "            window._Plotly = Plotly;\n",
       "        });\n",
       "        }\n",
       "        </script>\n",
       "        "
      ]
     },
     "metadata": {},
     "output_type": "display_data"
    }
   ],
   "source": [
    "%use Python3\n",
    "# Load python packages\n",
    "print('Executed automatically');\n",
    "print('Cell to import python modules. To show, select the cell and click arrow up icon in the toolbar.');\n",
    "import plotly.graph_objs as go\n",
    "import plotly_express as px\n",
    "from plotly import tools, subplots\n",
    "import numpy as np\n",
    "import ipywidgets as widgets\n",
    "import math\n",
    "from plotly.offline import download_plotlyjs, init_notebook_mode, plot, iplot\n",
    "from ipywidgets import interact, interactive, fixed, interact_manual\n",
    "init_notebook_mode(connected=True)\n",
    "from IPython.display import display, clear_output\n",
    "from IPython.display import IFrame\n",
    "from IPython.core.magics.display import Javascript"
   ]
  },
  {
   "cell_type": "code",
   "execution_count": 69,
   "metadata": {
    "hide_input": true,
    "init_cell": true,
    "kernel": "Python3"
   },
   "outputs": [
    {
     "name": "stdout",
     "output_type": "stream",
     "text": [
      "Executed automatically\n",
      "Cell to define some Plotly functions. To show, select the cell and click arrow up icon in the toolbar.\n"
     ]
    }
   ],
   "source": [
    "%use Python3\n",
    "# This is a Python3 cell to create an interactive figure. \n",
    "# Here we use %get magic function to migrate variables from the Octave workspace into Python\n",
    "print('Executed automatically');\n",
    "print('Cell to define some Plotly functions. To show, select the cell and click arrow up icon in the toolbar.');\n",
    "\n",
    "def heatmap_trace(inp, name, xlen, ylen, clrmax, clrmin, clrscale):\n",
    "    trace = go.Heatmap( z =inp,\n",
    "                        y = list(range(xlen-1)),\n",
    "                        x = list(range(ylen-1)),\n",
    "                        colorscale=clrscale,\n",
    "                        showscale = True,\n",
    "                        zmax=clrmax,\n",
    "                        zmin=clrmin,\n",
    "                        colorbar=dict(\n",
    "                        tickfont=dict(\n",
    "                            size=14,\n",
    "                            color='white'\n",
    "                        )),\n",
    "                        name = name);\n",
    "    return trace\n",
    "\n",
    "def heatmap_trace2(inp, name, xlen, ylen, clrscale):\n",
    "    trace = go.Heatmap( z =inp,\n",
    "                        y = list(range(xlen-1)),\n",
    "                        x = list(range(ylen-1)),\n",
    "                        colorscale=clrscale,\n",
    "                        showscale = False,\n",
    "                        name = name);\n",
    "    return trace"
   ]
  },
  {
   "cell_type": "code",
   "execution_count": 70,
   "metadata": {
    "hide_input": true,
    "init_cell": true,
    "kernel": "Octave"
   },
   "outputs": [
    {
     "name": "stdout",
     "output_type": "stream",
     "text": [
      "Executed automatically\n",
      "Cell to MEX c functions for dcf. To show, select the cell and click arrow up icon in the toolbar.\n"
     ]
    }
   ],
   "source": [
    "%use Octave\n",
    "% Mex c files for gridding by Brian Hargreaves and Philip Beatty \n",
    "% http://mrsrl.stanford.edu/~brian/gridding/\n",
    "disp('Executed automatically');\n",
    "disp('Cell to MEX c functions for dcf. To show, select the cell and click arrow up icon in the toolbar.');\n",
    "\n",
    "mex('./helpers/gridlut_mex.c')\n",
    "mex('./helpers/calcdcflut_mex.c')"
   ]
  },
  {
   "cell_type": "markdown",
   "metadata": {
    "kernel": "SoS"
   },
   "source": [
    "## 1. Load ISMRM RRSG 2019 challenge data.\n",
    "\n",
    "<div class=\"alert alert-info\">\n",
    "  <strong><span class=\"badge\">1.1</span></strong> <b>Please see this <a href=\"https://osf.io/xne9w/\">OSF page</a> for details.</b> \n",
    "</div>\n",
    "\n",
    "Data is downloaded from the OSF and added to the portable software environment using [`postBuild`](postBuild) configuration file.\n"
   ]
  },
  {
   "cell_type": "code",
   "execution_count": null,
   "metadata": {
    "hide_input": false,
    "init_cell": true,
    "kernel": "Octave"
   },
   "outputs": [],
   "source": [
    "%use Octave\n",
    "load('/tmp/rrsg_challenge/brain_radial_96proj_12ch.mat');\n",
    "whos % Show variables in the current scope "
   ]
  },
  {
   "cell_type": "markdown",
   "metadata": {
    "kernel": "SoS"
   },
   "source": [
    "<div class=\"alert alert-info\">\n",
    "  <strong><span class=\"badge\">1.2</span></strong> <b>Change data order to follow BART's dimension convention</b> \n",
    "</div>\n",
    "\n",
    "<div class=\"alert alert-danger\">\n",
    "  <strong><span class=\"badge\">Warning</span></strong> <b>The following cell will run automatically after loading data (previous cell).</b><br> If you run it before running the cell above manually, data will be permutted once again and won't be following BART's convention anymore.\n",
    "\n",
    "--> You can refer to [this documentation](https://buildmedia.readthedocs.org/media/pdf/bart-doc/latest/bart-doc.pdf) for BART's dimension conventions.\n",
    "\n",
    "</div>\n"
   ]
  },
  {
   "cell_type": "code",
   "execution_count": null,
   "metadata": {
    "init_cell": true,
    "kernel": "Octave"
   },
   "outputs": [],
   "source": [
    "rawdata = permute(rawdata,[4,3,2,1]); \n",
    "trajectory = permute(trajectory,[3,2,1]);\n",
    "[~,nFE,nSpokes,nCh] = size(rawdata);\n",
    "imsize_brain = 300;\n",
    "whos"
   ]
  },
  {
   "cell_type": "markdown",
   "metadata": {
    "kernel": "SoS"
   },
   "source": [
    "<div class=\"alert alert-warning\">\n",
    "  <strong><span class=\"badge\">1.3</span></strong> <b>Display raw data from each channel using Pyhton.</b> \n",
    "</div>"
   ]
  },
  {
   "cell_type": "code",
   "execution_count": 23,
   "metadata": {
    "hide_input": true,
    "kernel": "Python3"
   },
   "outputs": [
    {
     "name": "stdout",
     "output_type": "stream",
     "text": [
      "This (hidden) cell passes variables from Octave to Python\n"
     ]
    }
   ],
   "source": [
    "%get rawdata --from Octave\n",
    "%get nFE --from Octave \n",
    "%get nSpokes --from Octave\n",
    "%get nCh --from Octave\n",
    "print('This (hidden) cell passes variables from Octave to Python')\n",
    "# This is a data exchange cell Octave --> Python3 "
   ]
  },
  {
   "cell_type": "code",
   "execution_count": 22,
   "metadata": {
    "hide_input": true,
    "kernel": "Python3"
   },
   "outputs": [
    {
     "name": "stdout",
     "output_type": "stream",
     "text": [
      "This (hidden) cell contains the code regenerating the figure.\n"
     ]
    }
   ],
   "source": [
    "# This cell plots rawdata from each channel\n",
    "# The execution of this cell takes a bit longer than conventional 2D plots (e.g. matplotlib) as each datapoint is represented on a heatmap for interactivity using Plotly. \n",
    "\n",
    "rawdata = np.squeeze(rawdata)\n",
    "\n",
    "fig = subplots.make_subplots(rows=2, cols=6, print_grid=False, horizontal_spacing = 0.02, vertical_spacing = 0.02)\n",
    "\n",
    "traces = []\n",
    "iter = 0\n",
    "for ii in range(2):\n",
    "    for zz in range(6):\n",
    "        cur_trace = heatmap_trace(np.log(1+abs(rawdata[:,:,iter])), 'Channel: '+ str(iter+1), nSpokes, nFE, 0.0001, -0, 'Viridis')\n",
    "        fig.append_trace(cur_trace, ii+1, zz+1)\n",
    "        iter += 1\n",
    "\n",
    "fig['layout'].update(height=600, width=800, title=dict(text='<b>Raw data from each channel</b> <br> <i>Hover to see channel number and data points.</i>',font=dict(color=\"#ffc107\")),paper_bgcolor='#000000')\n",
    "\n",
    "for ii in range(12):\n",
    "    exec('fig[\\'layout\\'][\\'xaxis' + str(ii+1) + '\\'].update(showgrid = False, zeroline = False, showticklabels = False, ticks = \\'\\')')\n",
    "    exec('fig[\\'layout\\'][\\'yaxis' + str(ii+1) + '\\'].update(showgrid = False, zeroline = False, showticklabels = False, ticks = \\'\\')')\n",
    "\n",
    "# plot(fig,filename='rawdata.html')\n",
    "print('This (hidden) cell contains the code regenerating the figure.')\n",
    "iplot(fig)"
   ]
  },
  {
   "cell_type": "code",
   "execution_count": null,
   "metadata": {
    "hide_input": true,
    "init_cell": true,
    "kernel": "Python3"
   },
   "outputs": [],
   "source": [
    "%use Python3\n",
    "import time, sys\n",
    "tb = widgets.ToggleButtons(\n",
    "    options=['Hide', 'ShowSavedFigure', 'RegenerateFigure'],\n",
    "    description='SELECT:',\n",
    "    disabled=False,\n",
    "    button_style='warning', # 'success', 'info', 'warning', 'danger' or ''\n",
    "    tooltips=['Hides image to use less memory.', 'Loads pre-executed HTML image.', 'Re-generates image'],\n",
    ")\n",
    "\n",
    "@interact\n",
    "def clicked(val=tb):\n",
    "    if val == 'Hide':\n",
    "        clear_output(wait=True)\n",
    "    elif val == 'ShowSavedFigure':\n",
    "        clear_output(wait=True)\n",
    "        display(IFrame(src='./rawdata.html', width=820, height=600,scrolling='no'))     \n",
    "    elif val == 'RegenerateFigure':\n",
    "        display(widgets.HTML(\n",
    "        value=\"<i>Cells responsible for regenerating the figure will be executed.</i> <br> <b>Once the run has finished, output will be rendered in the cell above.</b>\",\n",
    "        description='Please wait:',\n",
    "        ))\n",
    "        for i in reversed(range(6)):\n",
    "            time.sleep(1)\n",
    "            print(\"Execution will start in: \",i,sep='',end=\"\\r\",flush=True)\n",
    "\n",
    "        display(Javascript(\"Jupyter.notebook.execute_cell_range(IPython.notebook.get_selected_index()-2,IPython.notebook.get_selected_index()+1)\"))"
   ]
  },
  {
   "cell_type": "markdown",
   "metadata": {
    "kernel": "SoS"
   },
   "source": [
    "<div class=\"alert alert-warning\">\n",
    "  <strong><span class=\"badge\">1.4</span></strong> <b>Display k-space data on trajectories</b> \n",
    "</div>"
   ]
  },
  {
   "cell_type": "code",
   "execution_count": 21,
   "metadata": {
    "hide_input": true,
    "kernel": "Octave"
   },
   "outputs": [
    {
     "name": "stdout",
     "output_type": "stream",
     "text": [
      "This (hidden) cell parses data on Octave and use BART to visualize it in the next cell.\r\n"
     ]
    }
   ],
   "source": [
    "# First we will parse data on Octave \n",
    "\n",
    "# Use bart to obtain root sum of squares of the rawdata over channels\n",
    "\n",
    "rd = real(rawdata) + 1i*imag(rawdata);\n",
    "rd = bart('rss 8', rd);\n",
    "clr = squeeze(log(rd)); clear rd;\n",
    "trajx = squeeze(trajectory(1,:,:));\n",
    "trajy = squeeze(trajectory(2,:,:));\n",
    "disp('This (hidden) cell parses data on Octave and use BART to visualize it in the next cell.');"
   ]
  },
  {
   "cell_type": "code",
   "execution_count": 24,
   "metadata": {
    "hide_input": true,
    "kernel": "Python3"
   },
   "outputs": [
    {
     "name": "stdout",
     "output_type": "stream",
     "text": [
      "This (hidden) cell contains the code regenerating the figure.\n"
     ]
    }
   ],
   "source": [
    "%get trajx --from Octave\n",
    "%get trajy --from Octave\n",
    "%get clr --from Octave\n",
    "\n",
    "# The reason trajx, trajy and trajz are not vectorized in the Octave cell above is that, \n",
    "# currently SoS data exchange gets stuck while transferring large vectors. \n",
    "\n",
    "trajx = np.reshape(np.array(trajx),(nFE*nSpokes))\n",
    "trajy = np.reshape(np.array(trajy),(nFE*nSpokes))\n",
    "clr = np.reshape(np.array(clr),(nFE*nSpokes))\n",
    "\n",
    "trac = go.Scatter(\n",
    "    x  = trajx,\n",
    "    y =  trajy,\n",
    "    mode='markers',\n",
    "    marker=dict(\n",
    "        color = clr, #set color equal to a variable\n",
    "        colorscale= 'Viridis',\n",
    "        showscale=True,\n",
    "        colorbar=dict(\n",
    "        tickfont=dict(\n",
    "            size=14,\n",
    "            color='white'\n",
    "        ))\n",
    "    ),\n",
    "    \n",
    ")\n",
    "\n",
    "layout = go.Layout(\n",
    "    autosize=False,\n",
    "    width=800,\n",
    "    height=800,\n",
    "    paper_bgcolor='#000000',\n",
    "    plot_bgcolor='#000000',\n",
    "    xaxis = go.layout.XAxis(\n",
    "    gridcolor= '#283442',\n",
    "         tickfont=dict(\n",
    "            size=14,\n",
    "            color='white'\n",
    "        )\n",
    "    ),\n",
    "    yaxis = go.layout.YAxis(\n",
    "    gridcolor= '#283442',\n",
    "        tickfont=dict(\n",
    "            size=14,\n",
    "            color='white'\n",
    "        )\n",
    "    ),\n",
    "    hovermode = 'closest',\n",
    "    title=dict(text='<b>Raw data projected on k-space trajectory</b> <br> <i>Hover to see the locations of each sample</i>',font=dict(color=\"#ffc107\"))\n",
    "   \n",
    ")\n",
    "\n",
    "fig = go.Figure(data=[trac], layout=layout)\n",
    "\n",
    "#plot(fig, filename='kspace.html')\n",
    "print('This (hidden) cell contains the code regenerating the figure.')\n",
    "iplot(fig)"
   ]
  },
  {
   "cell_type": "code",
   "execution_count": null,
   "metadata": {
    "hide_input": true,
    "init_cell": true,
    "kernel": "Python3"
   },
   "outputs": [],
   "source": [
    "%use Python3\n",
    "import time, sys\n",
    "tb = widgets.ToggleButtons(\n",
    "    options=['Hide', 'ShowSavedFigure', 'RegenerateFigure'],\n",
    "    description='SELECT:',\n",
    "    disabled=False,\n",
    "    button_style='warning', # 'success', 'info', 'warning', 'danger' or ''\n",
    "    tooltips=['Hides image to use less memory.', 'Loads pre-executed HTML image.', 'Re-generates image'],\n",
    ")\n",
    "\n",
    "@interact\n",
    "def clicked(val=tb):\n",
    "    if val == 'Hide':\n",
    "        clear_output(wait=True)\n",
    "    elif val == 'ShowSavedFigure':\n",
    "        clear_output(wait=True)\n",
    "        display(IFrame(src='./kspace.html', width=820, height=600,scrolling='no'))     \n",
    "    elif val == 'RegenerateFigure':\n",
    "        display(widgets.HTML(\n",
    "        value=\"<i>Cells responsible for regenerating the figure will be executed.</i> <br> <b>Once the run has finished, output will be rendered in the cell above.</b>\",\n",
    "        description='Please wait:',\n",
    "        ))\n",
    "        for i in reversed(range(6)):\n",
    "            time.sleep(1)\n",
    "            print(\"Execution will start in: \",i,sep='',end=\"\\r\",flush=True)\n",
    "\n",
    "        display(Javascript(\"Jupyter.notebook.execute_cell_range(IPython.notebook.get_selected_index()-2,IPython.notebook.get_selected_index()+1)\"))"
   ]
  },
  {
   "cell_type": "markdown",
   "metadata": {
    "kernel": "SoS"
   },
   "source": [
    "## 2. Estimate coil sensitivities using BART\n",
    "***"
   ]
  },
  {
   "cell_type": "markdown",
   "metadata": {
    "kernel": "SoS"
   },
   "source": [
    "<div class=\"alert alert-info\">\n",
    "  <strong><span class=\"badge\">2.1</span></strong> <b>Use BART to estimate coil sensitivities</b> \n",
    "  <br><br>To re-generate figures, you need to select CALDIR.  \n",
    "</div>"
   ]
  },
  {
   "cell_type": "code",
   "execution_count": 64,
   "metadata": {
    "hide_input": true,
    "init_cell": true,
    "kernel": "Python3"
   },
   "outputs": [
    {
     "data": {
      "application/vnd.jupyter.widget-view+json": {
       "model_id": "6a082accca4740faaea17a0fcf3e370d",
       "version_major": 2,
       "version_minor": 0
      },
      "text/plain": [
       "interactive(children=(ToggleButtons(button_style='info', description='SELECT:', options=('Idle', 'ECALIB', 'CA…"
      ]
     },
     "metadata": {},
     "output_type": "display_data"
    }
   ],
   "source": [
    "%use Python3\n",
    "\n",
    "Stgl = widgets.ToggleButtons(\n",
    "    options=['Idle', 'ECALIB', 'CALDIR'],\n",
    "    description='SELECT:',\n",
    "    disabled=False,\n",
    "    button_style='info', # 'success', 'info', 'warning', 'danger' or ''\n",
    "    tooltips=['Make a selection to have sensitivity maps in scope.', 'Use ECALIB', 'Use CALDIR'],\n",
    ")\n",
    "\n",
    "@interact\n",
    "def Stoggle(val=Stgl):\n",
    "    if val == 'Idle':\n",
    "        print('Please make a selection to calculate S. Cells will be run automatically upon your selection.')\n",
    "    elif val == 'ECALIB':\n",
    "        print('Calculate sensitivity profiles using BART\\'s ECALIB opiton.')\n",
    "        display(Javascript(\"Jupyter.notebook.execute_cell_range(IPython.notebook.get_selected_index()+1,IPython.notebook.get_selected_index()+2)\"))      \n",
    "    elif val == 'CALDIR':\n",
    "        print('Calculate sensitivity profiles using BART\\'s CALDIR opiton.')\n",
    "        display(Javascript(\"Jupyter.notebook.execute_cell_range(IPython.notebook.get_selected_index()+1,IPython.notebook.get_selected_index()+2)\"))"
   ]
  },
  {
   "cell_type": "code",
   "execution_count": 33,
   "metadata": {
    "hide_input": true,
    "kernel": "Python3"
   },
   "outputs": [
    {
     "name": "stdout",
     "output_type": "stream",
     "text": [
      "This (hidden) cell transfers widget state from Python to Octave.\n"
     ]
    }
   ],
   "source": [
    "%use Python3 \n",
    "print('This (hidden) cell transfers widget state from Python to Octave.')\n",
    "tmp = Stoggle.widget.children[0]\n",
    "S_select =tmp.index"
   ]
  },
  {
   "cell_type": "code",
   "execution_count": null,
   "metadata": {
    "kernel": "Octave",
    "scrolled": true
   },
   "outputs": [],
   "source": [
    "%use Octave \n",
    "%get S_select --from Python3\n",
    "\n",
    "% This cell will be run automatically based upon your selection from the blue toggle above. \n",
    "\n",
    "% Perform NUFFT to interpolate data onto cartesian grid. \n",
    "\n",
    "im = bart('nufft -d300:300:1 -a -t',trajectory,rawdata);\n",
    "\n",
    "% Transform sensitivity maps to cartesian k-space using FFT\n",
    "% -u denotes unitary transform\n",
    "% 7 sets the bitmask level\n",
    "\n",
    "im_ks = bart('fft -u 7', im);\n",
    "\n",
    "% For details regarding BART's ECALIB, please see the implementation notes section.\n",
    "\n",
    "if S_select == 1\n",
    "    disp('Calculating S using ECALIB.');\n",
    "    calib = bart('ecalib -r 20 -m1 -I',im_ks);\n",
    "    calib_disp = squeeze(abs(calib));\n",
    "    disp('--> Done...')\n",
    "elseif S_select == 2\n",
    "    disp('Calculating S using CALDIR.');\n",
    "    calib = bart('caldir 20',im_ks);\n",
    "    disp('--> Done...'); \n",
    "    calib_disp = squeeze(abs(calib));\n",
    "end"
   ]
  },
  {
   "cell_type": "markdown",
   "metadata": {
    "kernel": "SoS"
   },
   "source": [
    "<div class=\"alert alert-warning\">\n",
    "  <strong><span class=\"badge\">2.2</span></strong> <b>Display sensitivity profiles per channel.</b>\n",
    "</div>\n"
   ]
  },
  {
   "cell_type": "markdown",
   "metadata": {
    "kernel": "Octave"
   },
   "source": [
    "<div class=\"alert alert-danger\">\n",
    "  <strong><span class=\"badge\">RUN FIRST</span></strong> <b> Depends on 2.1</b> \n",
    "</div>"
   ]
  },
  {
   "cell_type": "code",
   "execution_count": 28,
   "metadata": {
    "hide_input": true,
    "kernel": "Python3"
   },
   "outputs": [
    {
     "name": "stdout",
     "output_type": "stream",
     "text": [
      "This (hidden) cell passes variables from Octave to Python\n"
     ]
    }
   ],
   "source": [
    "%use Python3\n",
    "%get calib_disp --from Octave\n",
    "print('This (hidden) cell passes variables from Octave to Python')\n",
    "# This is a data exchange cell. Octave --> Python3"
   ]
  },
  {
   "cell_type": "code",
   "execution_count": 30,
   "metadata": {
    "hide_input": true,
    "kernel": "Python3",
    "tags": [
     "report_output"
    ]
   },
   "outputs": [
    {
     "name": "stdout",
     "output_type": "stream",
     "text": [
      "This (hidden) cell contains the code regenerating the figure.\n"
     ]
    }
   ],
   "source": [
    "calib = calib_disp\n",
    "fig = subplots.make_subplots(rows=3, cols=4, print_grid=False, horizontal_spacing = 0.02, vertical_spacing = 0.02)\n",
    "\n",
    "traces = []\n",
    "iter = 0\n",
    "for ii in range(3):\n",
    "    for zz in range(4):\n",
    "        mx = np.max(np.log(1+abs(calib[:,:,iter])))\n",
    "        mn = np.min(np.log(1+abs(calib[:,:,iter])))\n",
    "        cur_trace = heatmap_trace(np.log(1+abs(calib[:,:,iter])), 'Channel: '+ str(iter+1), 300, 300, mn,mx , 'Viridis')\n",
    "        fig.append_trace(cur_trace, ii+1, zz+1)\n",
    "        iter += 1\n",
    "\n",
    "fig['layout'].update(height=750, width=800, title=dict(text='<b>Sensitivity profile of each channel</b> <br> <i>Hover to see channel number and data points.</i>',font=dict(color=\"#ffc107\")),paper_bgcolor='#000000')\n",
    "\n",
    "for ii in range(12):\n",
    "    exec('fig[\\'layout\\'][\\'xaxis' + str(ii+1) + '\\'].update(showgrid = False, zeroline = False, showticklabels=False,showline = False, ticks = \\'\\')')\n",
    "    exec('fig[\\'layout\\'][\\'yaxis' + str(ii+1) + '\\'].update(showgrid = False, zeroline = False, showline=False, showticklabels = False, ticks = \\'\\')')\n",
    "\n",
    "#plot(fig,filename='calibrations.html')\n",
    "print('This (hidden) cell contains the code regenerating the figure.');\n",
    "iplot(fig)"
   ]
  },
  {
   "cell_type": "code",
   "execution_count": 65,
   "metadata": {
    "hide_input": true,
    "init_cell": true,
    "kernel": "Python3"
   },
   "outputs": [
    {
     "data": {
      "application/vnd.jupyter.widget-view+json": {
       "model_id": "76d9b2c14424431c95c088c925a224e4",
       "version_major": 2,
       "version_minor": 0
      },
      "text/plain": [
       "interactive(children=(ToggleButtons(button_style='warning', description='SELECT:', options=('Hide', 'ShowSaved…"
      ]
     },
     "metadata": {},
     "output_type": "display_data"
    }
   ],
   "source": [
    "%use Python3\n",
    "import time, sys\n",
    "tb = widgets.ToggleButtons(\n",
    "    options=['Hide', 'ShowSavedFigure', 'RegenerateFigure'],\n",
    "    description='SELECT:',\n",
    "    disabled=False,\n",
    "    button_style='warning', # 'success', 'info', 'warning', 'danger' or ''\n",
    "    tooltips=['Hides image to use less memory.', 'Loads pre-executed HTML image.', 'Re-generates image'],\n",
    ")\n",
    "\n",
    "@interact\n",
    "def clicked(val=tb):\n",
    "    if val == 'Hide':\n",
    "        clear_output(wait=True)\n",
    "    elif val == 'ShowSavedFigure':\n",
    "        clear_output(wait=True)\n",
    "        display(IFrame(src='./calibrations.html', width=820, height=600,scrolling='no'))     \n",
    "    elif val == 'RegenerateFigure':\n",
    "        display(widgets.HTML(\n",
    "        value=\"<i>Cells responsible for regenerating the figure will be executed.</i> <br> <b>Once the run has finished, output will be rendered in the cell above.</b>\",\n",
    "        description='Please wait:',\n",
    "        ))\n",
    "        for i in reversed(range(6)):\n",
    "            time.sleep(1)\n",
    "            print(\"Execution will start in: \",i,sep='',end=\"\\r\",flush=True)\n",
    "        display(Javascript(\"Jupyter.notebook.execute_cell_range(IPython.notebook.get_selected_index()-2,IPython.notebook.get_selected_index()+1)\"))"
   ]
  },
  {
   "cell_type": "markdown",
   "metadata": {
    "kernel": "SoS"
   },
   "source": [
    "## 3. Reconstruction function "
   ]
  },
  {
   "cell_type": "markdown",
   "metadata": {
    "kernel": "SoS"
   },
   "source": [
    "<div class=\"alert alert-warning\">\n",
    "  <strong><span class=\"badge\">3.1</span></strong> <b>Use SENSE recon (both cartesian and non-cartesian) provided by BART for demonstration</b> \n",
    "</div>"
   ]
  },
  {
   "cell_type": "markdown",
   "metadata": {
    "kernel": "SoS"
   },
   "source": [
    "<div class=\"alert alert-warning\">\n",
    "  <strong><span class=\"badge\">3.1.1</span></strong> <b>Cartesian SENSE (BART) using k-space data obtained by fft of nufft</b> \n",
    "</div>"
   ]
  },
  {
   "cell_type": "code",
   "execution_count": null,
   "metadata": {
    "kernel": "Octave"
   },
   "outputs": [],
   "source": [
    "% Use gridded data for SENSE recon --> BART PICS \n",
    "bart_SENSE = bart('pics -l2', im_ks, calib);"
   ]
  },
  {
   "cell_type": "markdown",
   "metadata": {
    "kernel": "SoS"
   },
   "source": [
    "<div class=\"alert alert-warning\">\n",
    "  <strong><span class=\"badge\">3.1.2</span></strong> <b>Non-Cartesian SENSE (BART) using provided data</b> \n",
    "</div>"
   ]
  },
  {
   "cell_type": "code",
   "execution_count": null,
   "metadata": {
    "kernel": "Octave"
   },
   "outputs": [],
   "source": [
    "% Use non-cartesian SENSE recon --> BART PICS \n",
    "bart_SENSE2 = bart('pics -t',trajectory, rawdata, calib);"
   ]
  },
  {
   "cell_type": "markdown",
   "metadata": {
    "kernel": "Octave"
   },
   "source": [
    "<div class=\"alert alert-warning\">\n",
    "  <strong><span class=\"badge\">3.1.3</span></strong> <b>Compare BART reconstructions from 3.0.1 and 3.0.2</b> \n",
    "</div>"
   ]
  },
  {
   "cell_type": "markdown",
   "metadata": {
    "kernel": "Octave"
   },
   "source": [
    "<div class=\"alert alert-danger\">\n",
    "  <strong><span class=\"badge\">RUN FIRST</span></strong> <b> Depends on 3.1.1 and 3.1.2</b> \n",
    "</div>\n"
   ]
  },
  {
   "cell_type": "code",
   "execution_count": 25,
   "metadata": {
    "hide_input": true,
    "kernel": "Python3"
   },
   "outputs": [
    {
     "name": "stdout",
     "output_type": "stream",
     "text": [
      "This (hidden) cell contains the code regenerating the figure.\n"
     ]
    }
   ],
   "source": [
    "%use Python3\n",
    "%get bart_SENSE --from Octave \n",
    "%get bart_SENSE2 --from Octave\n",
    "\n",
    "fig = subplots.make_subplots(rows=1, cols=2, print_grid=False,vertical_spacing = 0.02)\n",
    "\n",
    "fig.append_trace(heatmap_trace2(abs(bart_SENSE), 'BART pics -l2', 300, 300,'Greys'),1,1)\n",
    "fig.append_trace(heatmap_trace2(abs(bart_SENSE2), 'BART pics -t', 300, 300,'Greys'),1,2)\n",
    "\n",
    "fig['layout'].update(height=400, width=600, title=dict(text='<b>Cartesian vs non-cartesian SENSE in BART</b>',font=dict(color=\"#ffc107\")),paper_bgcolor='#000000')\n",
    "\n",
    "for ii in range(2):\n",
    "    exec('fig[\\'layout\\'][\\'xaxis' + str(ii+1) + '\\'].update(showgrid = False, zeroline = False, showticklabels = False, ticks = \\'\\')')\n",
    "    exec('fig[\\'layout\\'][\\'yaxis' + str(ii+1) + '\\'].update(showgrid = False, zeroline = False, showticklabels = False, ticks = \\'\\')')\n",
    "\n",
    "#plot(fig,filename='bart_cart_non.html')\n",
    "print('This (hidden) cell contains the code regenerating the figure.')\n",
    "iplot(fig)"
   ]
  },
  {
   "cell_type": "code",
   "execution_count": 66,
   "metadata": {
    "hide_input": true,
    "init_cell": true,
    "kernel": "Python3"
   },
   "outputs": [
    {
     "data": {
      "application/vnd.jupyter.widget-view+json": {
       "model_id": "8539c10fd2af4681a7be3c0d3bb463c0",
       "version_major": 2,
       "version_minor": 0
      },
      "text/plain": [
       "interactive(children=(ToggleButtons(button_style='warning', description='SELECT:', options=('Hide', 'ShowSaved…"
      ]
     },
     "metadata": {},
     "output_type": "display_data"
    }
   ],
   "source": [
    "%use Python3\n",
    "import time, sys\n",
    "tb = widgets.ToggleButtons(\n",
    "    options=['Hide', 'ShowSavedFigure', 'RegenerateFigure'],\n",
    "    description='SELECT:',\n",
    "    disabled=False,\n",
    "    button_style='warning', # 'success', 'info', 'warning', 'danger' or ''\n",
    "    tooltips=['Hides image to use less memory.', 'Loads pre-executed HTML image.', 'Re-generates image'],\n",
    ")\n",
    "\n",
    "@interact\n",
    "def clicked(val=tb):\n",
    "    if val == 'Hide':\n",
    "        clear_output(wait=True)\n",
    "    elif val == 'ShowSavedFigure':\n",
    "        clear_output(wait=True)\n",
    "        display(IFrame(src='./bart_cart_non.html', width=820, height=600,scrolling='no'))     \n",
    "    elif val == 'RegenerateFigure':\n",
    "        display(widgets.HTML(\n",
    "        value=\"<i>Cells responsible for regenerating the figure will be executed.</i> <br> <b>Once the run has finished, output will be rendered in the cell above.</b>\",\n",
    "        description='Please wait:',\n",
    "        ))\n",
    "        for i in reversed(range(6)):\n",
    "            time.sleep(1)\n",
    "            print(\"Execution will start in: \",i,sep='',end=\"\\r\",flush=True)\n",
    "        display(Javascript(\"Jupyter.notebook.execute_cell(IPython.notebook.get_selected_index()+1)\"))"
   ]
  },
  {
   "cell_type": "markdown",
   "metadata": {
    "kernel": "SoS"
   },
   "source": [
    "<div class=\"alert alert-info\">\n",
    "  <strong><span class=\"badge\">3.2</span></strong> <b>Subsample provided data by factors of 2, 3 and 4.</b>\n",
    "   <br><br>The cell below will be run automatically on opening.\n",
    "</div>\n"
   ]
  },
  {
   "cell_type": "code",
   "execution_count": null,
   "metadata": {
    "init_cell": true,
    "kernel": "Octave"
   },
   "outputs": [],
   "source": [
    "# ===========================================\n",
    "# Subsample data \n",
    "\n",
    "# Please see HelperFunctions folder for subSample.m \n",
    "# The cell below will be run automatically on opening.\n",
    "# You don't have to re-run unless changes to the variables made on purpose. \n",
    "# ===========================================\n",
    "\n",
    "[outRD_x2, outTR_x2] = subSample(rawdata,trajectory,2,nSpokes);\n",
    "\n",
    "[outRD_x3, outTR_x3] = subSample(rawdata,trajectory,3,nSpokes);\n",
    "\n",
    "[outRD_x4, outTR_x4] = subSample(rawdata,trajectory,4,nSpokes);"
   ]
  },
  {
   "cell_type": "markdown",
   "metadata": {
    "kernel": "SoS"
   },
   "source": [
    "<div class=\"alert alert-warning\">\n",
    "  <strong><span class=\"badge\">3.3</span></strong> <b>Use non-cartesian SENSE recon (BART) to observe the effects of subsampling</b>\n",
    "</div>\n"
   ]
  },
  {
   "cell_type": "markdown",
   "metadata": {
    "kernel": "Octave"
   },
   "source": [
    "<div class=\"alert alert-warning\">\n",
    "  <strong><span class=\"badge\">3.3.1</span></strong> <b>Perform non-cartesian SENSE recon (BART)</b>\n",
    "</div>\n"
   ]
  },
  {
   "cell_type": "code",
   "execution_count": null,
   "metadata": {
    "kernel": "Octave"
   },
   "outputs": [],
   "source": [
    "% BART non-cartesian sense outputs \n",
    "bart_SENSE2_x2 = bart('pics -t',outTR_x2, outRD_x2, calib);\n",
    "bart_SENSE2_x3 = bart('pics -t',outTR_x3, outRD_x3, calib);\n",
    "bart_SENSE2_x4 = bart('pics -t',outTR_x4, outRD_x4, calib);"
   ]
  },
  {
   "cell_type": "markdown",
   "metadata": {
    "kernel": "Octave"
   },
   "source": [
    "<div class=\"alert alert-warning\">\n",
    "  <strong><span class=\"badge\">3.3.2</span></strong> <b>Display: Compare reconstructed images</b>\n",
    "</div>\n"
   ]
  },
  {
   "cell_type": "markdown",
   "metadata": {
    "kernel": "Octave"
   },
   "source": [
    "<div class=\"alert alert-danger\">\n",
    "  <strong><span class=\"badge\">RUN FIRST</span></strong> <b> Depends on 3.3.1</b> \n",
    "</div>\n"
   ]
  },
  {
   "cell_type": "code",
   "execution_count": 27,
   "metadata": {
    "hide_input": true,
    "kernel": "Python3"
   },
   "outputs": [
    {
     "name": "stdout",
     "output_type": "stream",
     "text": [
      "This (hidden) cell passes variables from Octave to Python\n"
     ]
    }
   ],
   "source": [
    "%use Python3\n",
    "%get bart_SENSE --from Octave \n",
    "%get bart_SENSE2_x2 --from Octave\n",
    "%get bart_SENSE2_x3 --from Octave\n",
    "%get bart_SENSE2_x4 --from Octave\n",
    "print('This (hidden) cell passes variables from Octave to Python')\n",
    "# Data exchange cell. Octave --> Python3"
   ]
  },
  {
   "cell_type": "code",
   "execution_count": 26,
   "metadata": {
    "hide_input": true,
    "kernel": "Python3"
   },
   "outputs": [
    {
     "name": "stdout",
     "output_type": "stream",
     "text": [
      "This (hidden) cell contains the code regenerating the figure.\n"
     ]
    }
   ],
   "source": [
    "%use Python3\n",
    "fig = subplots.make_subplots(rows=2, cols=2, print_grid=False,vertical_spacing = 0.02, horizontal_spacing=0.04)\n",
    "\n",
    "fig.append_trace(heatmap_trace2(abs(bart_SENSE2), 'Original', 300, 300,'Greys'),1,1)\n",
    "fig.append_trace(heatmap_trace2(abs(bart_SENSE2_x2), '2X', 300, 300,'Greys'),1,2)\n",
    "fig.append_trace(heatmap_trace2(abs(bart_SENSE2_x3), '3X', 300, 300,'Greys'),2,1)\n",
    "fig.append_trace(heatmap_trace2(abs(bart_SENSE2_x4), '4X', 300, 300,'Greys'),2,2)\n",
    "\n",
    "fig['layout'].update(height=600, width=600, title=dict(text='<b>Comparison of BART non-cartesian SENSE outputs <br> at different undersampling rates</b>',font=dict(color=\"#ffc107\")),paper_bgcolor='#000000')\n",
    "\n",
    "for ii in range(4):\n",
    "    exec('fig[\\'layout\\'][\\'xaxis' + str(ii+1) + '\\'].update(showgrid = False, showline=False, zeroline = False, showticklabels = False, ticks = \\'\\')')\n",
    "    exec('fig[\\'layout\\'][\\'yaxis' + str(ii+1) + '\\'].update(showgrid = False, zeroline = False, showline=False, showticklabels = False, ticks = \\'\\')')\n",
    "\n",
    "#plot(fig,filename='sub_bart_compare.html')\n",
    "print('This (hidden) cell contains the code regenerating the figure.');\n",
    "iplot(fig)"
   ]
  },
  {
   "cell_type": "code",
   "execution_count": null,
   "metadata": {
    "hide_input": true,
    "init_cell": true,
    "kernel": "Python3"
   },
   "outputs": [],
   "source": [
    "%use Python3\n",
    "import time, sys\n",
    "tb = widgets.ToggleButtons(\n",
    "    options=['Hide', 'ShowSavedFigure', 'RegenerateFigure'],\n",
    "    description='SELECT:',\n",
    "    disabled=False,\n",
    "    button_style='warning', # 'success', 'info', 'warning', 'danger' or ''\n",
    "    tooltips=['Hides image to use less memory.', 'Loads pre-executed HTML image.', 'Re-generates image'],\n",
    ")\n",
    "\n",
    "@interact\n",
    "def clicked(val=tb):\n",
    "    if val == 'Hide':\n",
    "        clear_output(wait=True)\n",
    "    elif val == 'ShowSavedFigure':\n",
    "        clear_output(wait=True)\n",
    "        display(IFrame(src='./sub_bart_compare.html', width=820, height=600,scrolling='no'))     \n",
    "    elif val == 'RegenerateFigure':\n",
    "        display(widgets.HTML(\n",
    "        value=\"<i>Cells responsible for regenerating the figure will be executed.</i> <br> <b>Once the run has finished, output will be rendered in the cell above.</b>\",\n",
    "        description='Please wait:',\n",
    "        ))\n",
    "        for i in reversed(range(6)):\n",
    "            time.sleep(1)\n",
    "            print(\"Execution will start in: \",i,sep='',end=\"\\r\",flush=True)\n",
    "        display(Javascript(\"Jupyter.notebook.execute_cell_range(IPython.notebook.get_selected_index()-2,IPython.notebook.get_selected_index()+1)\"))\n"
   ]
  },
  {
   "cell_type": "markdown",
   "metadata": {
    "kernel": "Python3"
   },
   "source": [
    "<div class=\"alert alert-info\">\n",
    "  <strong><span class=\"badge\">Section 4</span></strong> <b>Implementation of the reconstruction algorithm</b>\n",
    "</div>\n",
    "\n",
    "* To better relate implementation to the paper, reminders and implementation notes (following the original notation) are added."
   ]
  },
  {
   "cell_type": "markdown",
   "metadata": {
    "kernel": "SoS"
   },
   "source": [
    "\n",
    "<p style=\"color:navy;font-size:16px; background-color:powderblue; border-left: 6px solid navy; display: inline-block\"> &nbsp; <i class=\"fa fa-info-circle fa-1x\" style=\"color:darkblue\"></i>  <b>Reminder: Figure-1 from the paper&nbsp;</b></p> <br>\n",
    "\n",
    "<br>\n",
    "\n",
    "<div class=\"row\">\n",
    "<div class=\"col-sm-5\" style=\"padding-right:5px\">\n",
    "<img src=\"https://wol-prod-cdn.literatumonline.com/cms/attachment/2594c4ea-88e5-4078-b0ea-9893a6554853/mfig001.jpg\" style=\"width:500px;height:400px\" align=\"left\">\n",
    "</div>\n",
    "<div class=\"col-sm-7\" style=\"background-color:powderblue\">\n",
    "<p style=\"font-size:12px; padding-left:15px\"> <b>Implementation of iterative image reconstruction.</b><br><br> Conjugate gradient (CG) iteration is controlled by the central CG process. It is initialized by MR data originating from N receiver channels (1,2,3,…N), acquired with an arbitrary k‐space trajectory. <br> Separately for each channel, these data undergo processing similar to conventional gridding reconstruction, i.e., sampling density correction (D), and resampling along a Cartesian grid, followed by FFT (FT1). The resulting images are individually multiplied by complex conjugate coil sensitivity and summed. After subsequent intensity correction (I), the sum image represents the vector a as defined by Eq. [25]. After initialization with a, the CG process iteratively calculates a progression of images, which converges towards exact reconstruction. For each iteration step, a current residuum image vector needs to be multiplied by the matrix IEH DEI. This is performed by the loop which starts from the CG box. After initial intensity correction (I), the processing is continued separately for each receiver coil. First, the intensity corrected residuum image is multiplied by individual coil sensitivity (Si). The results are transformed into k‐space by FFT and resampled along the experimental k‐space trajectory (FT2), resulting in a set of multiple‐coil k‐space data similar to that obtained experimentally. The following steps are equivalent to those carried out with the original data, yielding an intermediate image, which is fed back into the CG process. Here a refined approximate solution is calculated, which serves for further refinement by continued iteration. <br>As soon as the current approximation is sufficiently accurate, it is output and undergoes final intensity correction and k‐space filtering.</p>\n",
    "</div>\n",
    "</div>\n"
   ]
  },
  {
   "cell_type": "markdown",
   "metadata": {
    "kernel": "SoS"
   },
   "source": [
    "<p style=\"color:navy;font-size:16px; background-color:powderblue; border-left: 6px solid navy; display:inline-block\"> &nbsp; <i class=\"fa fa-info-circle fa-1x\" style=\"color:darkblue\"></i>  <b> Implementation notes &nbsp; </b></p>\n",
    "\n",
    "This section relates the present implementation with the Figure-1 using the same notations. \n",
    "\n",
    "* <p style=\"border:1px;border-style:solid;display:inline-block\"> &nbsp;FT1&nbsp; </p><b> operation is implemented using BART's NUFFT:</b> <br>\n",
    "\n",
    "This function transforms non-cartesian k-space data (`rawdata` and `trajectory`) into image domain (`im`): \n",
    "```octave \n",
    "tmp = bart('nufft -d300:300:1 -a -t',traj,inp); \n",
    "\n",
    "% -d denotes dimensions in x:y:z\n",
    "% -a sets the transform type to adjoint\n",
    "% -t enables Toeplitz embedding\n",
    "%  trajectory is the k-space locations of the acquired samples\n",
    "%  rawdata is the sampled raw data\n",
    "\n",
    "```\n",
    "\n",
    "* <p style=\"border:1px;border-style:solid;display:inline-block\"> &nbsp;S<sub>$\\gamma$</sub>&nbsp; </p> <b> coil sensitivities are estimated using BART's ECALIB. See section 2.1</b>\n",
    "\n",
    "This function creates sensitivity maps (stored in the `calib` variable) from the raw k-space data on cartesian grid (sens_maps_ks):\n",
    "\n",
    "<p>&#9658; <b>Option 1</b></p>\n",
    "\n",
    "```octave\n",
    "calib = bart('ecalib -m1 -I',sens_maps_ks);\n",
    "\n",
    "% -I enables intensity correction\n",
    "% -m1 sets number of maps to one \n",
    "```\n",
    "\n",
    "<p>&#9658; <b>Option 2</b></p>\n",
    "\n",
    "```octave\n",
    "calib = bart('caldir 20',sens_maps_ks);\n",
    "\n",
    "% Calibration of sensitivities directly from the center of the k-space.\n",
    "% 20 sets the size of fully-sampled calibration region.\n",
    "```\n",
    "\n",
    "* <p style=\"border:1px;border-style:solid;display:inline-block\"> &nbsp;FT2&nbsp; </p> <b>is implemented using BART's NUFFT:</b> <br>\n",
    "\n",
    "This function transforms image `im` back to a non-uniform k-space of (radial, which is defined by `trajectory` variable in this case) `nu_ks`:\n",
    "\n",
    "```octave\n",
    "nu_ks = bart('nufft',traj,im); \n",
    "```\n",
    "\n",
    "* <p style=\"border:1px;border-style:solid;display:inline-block\"> &nbsp;D&nbsp; </p> <b>is the operation of scaling rawdata with density correction matrix.</b> <br>\n",
    "\n",
    "To obtain density correction factor `dcf` pertaining to the `rawdata`, two options are provided.\n",
    "\n",
    "\n",
    "<p>&#9658; <b>Option 1</b></p>\n",
    "\n",
    "```octave\n",
    "dcf = abs(trajectory(1,:,:) + 1i*trajectory(2,:,:));\n",
    "dcf = dcf/max(dcf(:));\n",
    "\n",
    "% Magnitude of the trajectory data is scaled by the max.\n",
    "% to be used as a rough DCF approximation. \n",
    "```\n",
    "\n",
    "<p>&#9658; <b>Option 2</b></p>\n",
    "\n",
    "Submodules (written in C) provided by [Brian Hargreaves's gridding functions](http://mrsrl.stanford.edu/~brian/gridding/) can be selected:\n",
    "\n",
    "```octave\n",
    "dcf = calcdcflut(trajectory,300); \n",
    "\n",
    "% trajectory is the k-space locations of the non-cartesian rawdata\n",
    "% 300 is the recon matrix size (300x300)\n",
    "```\n",
    "\n",
    "\n",
    "* <p style=\"border:1px;border-style:solid;display:inline-block; border-radius:50%\"> &nbsp;Sum&nbsp; </p> <b>is implemented using BART's RRS:</b> <br>\n",
    "\n",
    "This function simply performs sum of squares combination: \n",
    "\n",
    "```python\n",
    "sum = bart('rss bitmask',multi_channel_input); \n",
    "```\n",
    "\n",
    "* <p style=\"border:1px;border-style:solid;display:inline-block;\"> &nbsp;F&nbsp; </p> <b>is the k-space filtering, defined in 3.6</b> <br>\n"
   ]
  },
  {
   "cell_type": "markdown",
   "metadata": {
    "kernel": "SoS"
   },
   "source": [
    "<div class=\"alert alert-info\">\n",
    "  <strong><span class=\"badge\">3.2</span></strong> <b>Calculate density compensation factor for operation <p style=\"border:1px;border-style:solid;display:inline-block\"> &nbsp;D&nbsp; </p> </b>\n",
    "    <br><br>To re-generate figures, you need to select (Fast) Simple.\n",
    "</div>\n",
    "\n",
    "Two options are made available. \n",
    "\n",
    "<p>&#9658; <b>Option 1</b></p>\n",
    "\n",
    "An simple approximation. \n",
    "\n",
    "<p>&#9658; <b>Option 2</b></p>\n",
    "\n",
    "The submodules (written in C, mexed for Octave) provided by [Brian Hargreaves's gridding functions](http://mrsrl.stanford.edu/~brian/gridding/) to provide a good example of interoperability.  "
   ]
  },
  {
   "cell_type": "code",
   "execution_count": null,
   "metadata": {
    "hide_input": true,
    "init_cell": true,
    "kernel": "Python3"
   },
   "outputs": [],
   "source": [
    "%use Python3\n",
    "\n",
    "tgl = widgets.ToggleButtons(\n",
    "    options=['Idle', '(Fast) Simple', '(Slow) DCF in C'],\n",
    "    description='SELECT:',\n",
    "    disabled=False,\n",
    "    button_style='info', # 'success', 'info', 'warning', 'danger' or ''\n",
    "    tooltips=['Make a selection to have DCF in scope.', '(Fast) Simple', '(Slow) DCF in C'],\n",
    ")\n",
    "\n",
    "@interact\n",
    "def dcftoggle(val=tgl):\n",
    "    if val == 'Idle':\n",
    "        print('Please make a selection to calculate DCF. Cells will be run automatically upon your selection.')\n",
    "    elif val == '(Fast) Simple':\n",
    "        print('This will calculate DCF quickly.')\n",
    "        display(Javascript(\"Jupyter.notebook.execute_cell_range(IPython.notebook.get_selected_index()+1,IPython.notebook.get_selected_index()+2)\"))      \n",
    "    elif val == '(Slow) DCF in C':\n",
    "        print('This operation may take ~2 minutes. Please wait until you see Done.. message in the next cell.')\n",
    "        display(Javascript(\"Jupyter.notebook.execute_cell_range(IPython.notebook.get_selected_index()+1,IPython.notebook.get_selected_index()+2)\"))\n"
   ]
  },
  {
   "cell_type": "code",
   "execution_count": 35,
   "metadata": {
    "hide_input": true,
    "kernel": "Python3"
   },
   "outputs": [
    {
     "name": "stdout",
     "output_type": "stream",
     "text": [
      "This (hidden) cell transfers widget state from Python to Octave.\n"
     ]
    }
   ],
   "source": [
    "%use Python3 \n",
    "print('This (hidden) cell transfers widget state from Python to Octave.')\n",
    "tmp = dcftoggle.widget.children[0]\n",
    "dcf_select =tmp.index"
   ]
  },
  {
   "cell_type": "code",
   "execution_count": null,
   "metadata": {
    "kernel": "Octave"
   },
   "outputs": [],
   "source": [
    "%use Octave \n",
    "%get dcf_select --from Python3\n",
    "\n",
    "# ===========================================\n",
    "# Calculate DCF \n",
    "\n",
    "# dcf_select variable is determined by the blue toggle buttons above.\n",
    "# This cell will be run automatically upon your selection. \n",
    "# ===========================================\n",
    "\n",
    "\n",
    "if dcf_select == 1\n",
    "   \n",
    "    disp('Simple DCF estimation')\n",
    "    dcf = abs(trajectory(1,:,:) + 1i*trajectory(2,:,:));\n",
    "    dcf = dcf/max(dcf(:));\n",
    "   disp('--> Done..');\n",
    "   \n",
    "elseif dcf_select==2\n",
    "   \n",
    "    disp('Calculating DCF using code written in C...')\n",
    "    dcf = calcdcflut(trajectory,300); \n",
    "    dcf = reshape(dcf,[3 nFE nSpokes]);\n",
    "    disp('--> Done..');\n",
    "    \n",
    "end\n"
   ]
  },
  {
   "cell_type": "markdown",
   "metadata": {
    "kernel": "SoS"
   },
   "source": [
    "<div class=\"alert alert-info\">\n",
    "  <strong><span class=\"badge\">3.3</span></strong> <b>Calculate intensity correction matrix for operation <p style=\"border:1px;border-style:solid;display:inline-block\"> &nbsp;I&nbsp; </p></b>\n",
    "</div>\n"
   ]
  },
  {
   "cell_type": "markdown",
   "metadata": {
    "kernel": "Octave"
   },
   "source": [
    "<div class=\"alert alert-danger\">\n",
    "  <strong><span class=\"badge\">RUN FIRST</span></strong> <b> Depends on 2.1</b> \n",
    "</div>"
   ]
  },
  {
   "cell_type": "code",
   "execution_count": 37,
   "metadata": {
    "kernel": "Octave"
   },
   "outputs": [],
   "source": [
    "%use Octave\n",
    "\n",
    "# ===========================================\n",
    "# Calculate I !!!! DO NOT FORGET TO RUN !!!\n",
    "\n",
    "# Calculate intensity correction matrix.\n",
    "# ===========================================\n",
    "\n",
    "# Root sum of square of sensitivities (estimated in section 2.1) from 12 channels \n",
    "I = abs(bart('rss 8',calib.*calib));\n",
    "I = 1./sqrt(I);"
   ]
  },
  {
   "cell_type": "code",
   "execution_count": 34,
   "metadata": {
    "hide_input": false,
    "kernel": "Python3"
   },
   "outputs": [],
   "source": [
    "%use Python3\n",
    "%get I --from Octave\n",
    "\n",
    "# ===========================================\n",
    "# Generate interactive figure displaying I \n",
    "# ===========================================\n",
    "\n",
    "trace  = heatmap_trace2(abs(I), 'I', 300, 300,'Viridis')\n",
    "axis_template = dict(showgrid = False, zeroline = False,\n",
    "             linecolor = 'black', showticklabels = False,\n",
    "             ticks = '' )\n",
    "layout = dict(height=500, width=500, title=dict(text='<b>Intensity correction matrix</b>',font=dict(color=\"skyblue\")),paper_bgcolor='#000000',xaxis=axis_template,yaxis=axis_template)\n",
    "figure = dict(data=[trace],layout=layout)\n",
    "\n",
    "#plot(figure,filename='incor.html')\n",
    "iplot(figure)"
   ]
  },
  {
   "cell_type": "markdown",
   "metadata": {
    "kernel": "SoS"
   },
   "source": [
    "<div class=\"alert alert-info\">\n",
    "  <strong><span class=\"badge\">3.4</span></strong> <b>Define operation <p style=\"border:1px;border-style:solid;display:inline-block\"> &nbsp;E&nbsp; </p></b>\n",
    "</div>\n",
    "\n",
    "* Function prototype\n",
    "\n",
    "```octave\n",
    "function E = opE(inp,S,traj)\n",
    "\n",
    "```\n",
    "\n",
    "* Input arguments \n",
    "     * **inp:** The image data (300,300)\n",
    "     * **S:** Sensitivity profiles from 12 channels (300,300,12)\n",
    "     * **traj:** k-space coordinates (3,512,96)\n",
    "\n",
    "* Output \n",
    "     * **E** Please see the Figure-1 above\n",
    "     \n",
    "**The following cell executes automatically to ensure that function definition exists.**"
   ]
  },
  {
   "cell_type": "code",
   "execution_count": null,
   "metadata": {
    "init_cell": true,
    "kernel": "Octave"
   },
   "outputs": [],
   "source": [
    "function E = opE(inp,S,traj)\n",
    "\n",
    "    tmp = S.*inp; % Multiply the intensity corrected image with coil sensitivities. This will produce one image per channel stored in tmp variable\n",
    "\n",
    "    E = bart('nufft',traj,tmp); % Transform back to the non-uniform k-space (see implementation notes for details)\n",
    "\n",
    "end"
   ]
  },
  {
   "cell_type": "markdown",
   "metadata": {
    "kernel": "SoS"
   },
   "source": [
    "<div class=\"alert alert-info\">\n",
    "  <strong><span class=\"badge\">3.5</span></strong> <b>Define operation <p style=\"border:1px;border-style:solid;display:inline-block\"> &nbsp;E<sup>H</sup>&nbsp; </p></b>\n",
    "</div>\n",
    "\n",
    "* Function prototype\n",
    "\n",
    "```octave\n",
    "function EH = opEH(inp,S,traj,imsz)\n",
    "\n",
    "```\n",
    "\n",
    "* Input arguments \n",
    "     * **inp:** Non-cartesian k-space samples from multiple channels (512,96,12) \n",
    "     * **S:** Sensitivity profiles from 12 channels\n",
    "     * **traj:** k-space coordinates (3,512,96)\n",
    "     * **imsz:** size of the reconstructed image\n",
    "\n",
    "* Output \n",
    "     * **EH** Please see the Figure-1 above\n",
    "     \n",
    "**The following cell executes automatically to ensure that function definition exists.**"
   ]
  },
  {
   "cell_type": "code",
   "execution_count": null,
   "metadata": {
    "init_cell": true,
    "kernel": "Octave"
   },
   "outputs": [],
   "source": [
    "function EH = opEH(inp,S,traj,imsz)\n",
    "  \n",
    "  tmp = squeeze((1+1i)*ones(size(S)));\n",
    "\n",
    "  tmp = bart(['nufft -d' num2str(imsz) ':' num2str(imsz) ':1 -a -t'],traj,inp); % Adjoint NUFFT to image domain (see implementation notes)\n",
    "  \n",
    "  Sstar = conj(S(:,:,1,:)); %  Complex conjugate of sensitivity profiles (see Fig. 1)\n",
    "  \n",
    "  EH = bart('rss 8 ',tmp.*Sstar); % Images scaled by complex conjugate of sensitivity profiles and SOS combined\n",
    "  \n",
    "end"
   ]
  },
  {
   "cell_type": "markdown",
   "metadata": {
    "kernel": "Octave"
   },
   "source": [
    "<div class=\"alert alert-info\">\n",
    "  <strong><span class=\"badge\">3.6</span></strong> <b>Define operation <p style=\"border:1px;border-style:solid;display:inline-block\"> &nbsp;F&nbsp;</p></b>\n",
    "    <br><br> \n",
    "The following cell executes automatically to ensure that function definition exists.\n",
    "</div>\n"
   ]
  },
  {
   "cell_type": "code",
   "execution_count": null,
   "metadata": {
    "init_cell": true,
    "kernel": "Octave"
   },
   "outputs": [],
   "source": [
    "function out = opF(im,beta,r)\n",
    "    \n",
    "    ks = 1/sqrt(numel(im))*fftshift(fftn(ifftshift(im)));\n",
    "    \n",
    "    dim = size(ks);\n",
    "    center = (dim + 1)/2;\n",
    "    [x,y] = meshgrid(-(center(2)-1):(dim(2)-center(2)),-(center(1)-1):(dim(1)-center(1)));\n",
    "    kRadius = sqrt(x.^2 + y.^2);\n",
    "\n",
    "    f_k = 0.5 + 1/pi.*atan(beta.*((r-kRadius)/r)); \n",
    "\n",
    "    out = sqrt(numel(ks.*f_k))*fftshift(ifftn(ifftshift(ks.*f_k)));\n",
    "\n",
    "end"
   ]
  },
  {
   "cell_type": "markdown",
   "metadata": {
    "kernel": "Octave"
   },
   "source": [
    "<div class=\"alert alert-info\">\n",
    "  <strong><span class=\"badge\">3.7</span></strong> <b>Define iterative algorithm</b>\n",
    "        <br><br> \n",
    "The following cell executes automatically to ensure that function definition exists.\n",
    "</div>"
   ]
  },
  {
   "cell_type": "code",
   "execution_count": null,
   "metadata": {
    "code_folding": [],
    "init_cell": true,
    "kernel": "Octave"
   },
   "outputs": [],
   "source": [
    "function [b,deltas,refdif] = cg_solve(a,I,S,dcf,imsz,maxstep,trajectory,tol,ref)\n",
    "\n",
    "    p = a;\n",
    "    r = a;\n",
    "    b = zeros(imsz,imsz);\n",
    "\n",
    "    deltas = zeros(maxstep,1);\n",
    "    refdif = zeros(maxstep,1);\n",
    "\n",
    "    for ii=1:maxstep\n",
    "\n",
    "        disp(['Iteration -->' num2str(ii)]);\n",
    "\n",
    "        delta = r(:)'*r(:)/(a(:)'*a(:));\n",
    "\n",
    "        disp(delta);\n",
    "        deltas(ii) = delta;\n",
    "\n",
    "        E = opE(p,S,trajectory);\n",
    "\n",
    "        q = opEH(E,S,trajectory,imsz);\n",
    "\n",
    "        % dot(r,r) is equivalent to r(:)'*r(:). Used dot for easy reading. \n",
    "\n",
    "        term = dot(r,r)/dot(p,q);\n",
    "\n",
    "        b = b + term*p;\n",
    "\n",
    "        rprev = r;\n",
    "\n",
    "        r = r - term*q;\n",
    "\n",
    "        term2 = dot(r,r)/dot(rprev,rprev);\n",
    "\n",
    "        p = r + term2*p;\n",
    "\n",
    "        if (delta <= tol)\n",
    "            printf (\"%d has been reached\\n\", tol);\n",
    "            break;\n",
    "        endif\n",
    "\n",
    "        if nargout ==3 && nargin ==9 \n",
    "        % This means that ref image is passed. \n",
    "\n",
    "        refN = ref(:)'*ref(:);\n",
    "        ref_dif = I.*b - ref;\n",
    "        refdif(ii) = sqrt((ref_dif(:)'*ref_dif(:))./refN);\n",
    "\n",
    "        end \n",
    "\n",
    "\n",
    "    end\n",
    "    \n",
    "    \n",
    "   \n",
    "end\n"
   ]
  },
  {
   "cell_type": "markdown",
   "metadata": {
    "kernel": "Octave"
   },
   "source": [
    "<div class=\"alert alert-info\">\n",
    "  <strong><span class=\"badge\">3.8</span></strong> <b>Define main call to the iterative solution</b>\n",
    "        <br><br> \n",
    "The following cell executes automatically to ensure that function definition exists.\n",
    "</div>"
   ]
  },
  {
   "cell_type": "code",
   "execution_count": null,
   "metadata": {
    "init_cell": true,
    "kernel": "Octave",
    "scrolled": false
   },
   "outputs": [],
   "source": [
    "function [im,deltas,a,refdif] = main_sense(rawdata, calib, trajectory,I,dcf,imsz,maxiter,tol,ref)\n",
    "\n",
    "    szz = size(rawdata);\n",
    "    szz = szz(4);\n",
    "    \n",
    "    dcf = repmat(dcf,[1,1,1,szz]);\n",
    "    \n",
    "    a = I.*opEH(dcf.*rawdata,calib,trajectory,imsz);\n",
    "    \n",
    "     if nargout ==4 && nargin ==9 \n",
    "    % This means that ref image is passed. \n",
    "        disp('Reference image is passed.');\n",
    "        [im,deltas,refdif] = cg_solve(a,I,calib,dcf,imsz,maxiter,trajectory,tol,ref);\n",
    "    \n",
    "    else\n",
    "    \n",
    "        [im,deltas] = cg_solve(a,I,calib,dcf,imsz,maxiter,trajectory,tol);\n",
    "    \n",
    "    end \n",
    "    \n",
    "    im = opF(im.*I,100,60);\n",
    "    \n",
    "    \n",
    "end"
   ]
  },
  {
   "cell_type": "markdown",
   "metadata": {
    "kernel": "Octave"
   },
   "source": [
    "<div class=\"alert alert-info\">\n",
    "  <strong><span class=\"badge\">4.1</span></strong> <b> Generate figures</b>\n",
    "</div>"
   ]
  },
  {
   "cell_type": "markdown",
   "metadata": {
    "kernel": "Octave"
   },
   "source": [
    "**Selected options to generate saved images:** \n",
    "\n",
    "* `DCF`: **(FAST) Simple**\n",
    "* `Sensitivity profiles`: **CALDIR**"
   ]
  },
  {
   "cell_type": "markdown",
   "metadata": {
    "kernel": "Octave"
   },
   "source": [
    "<div class=\"alert alert-danger\">\n",
    "  <strong><span class=\"badge\">RUN FIRST</span></strong> <b> Depends on <strong><span class=\"badge\">2.1</span></strong> &  \n",
    "    <strong><span class=\"badge\">3.2 to 3.8</span></strong></b> \n",
    "</div>"
   ]
  },
  {
   "cell_type": "markdown",
   "metadata": {
    "kernel": "Octave"
   },
   "source": [
    "<div class=\"alert alert-info\">\n",
    "  <strong><span class=\"badge\">4.1.1</span></strong> <b>Reference reconstruction</b>\n",
    "</div>"
   ]
  },
  {
   "cell_type": "code",
   "execution_count": null,
   "metadata": {
    "kernel": "Octave"
   },
   "outputs": [],
   "source": [
    "# ===========================================\n",
    "# Generate reference image \n",
    "\n",
    "# Set iteration to 30 for reference. \n",
    "# ===========================================\n",
    "\n",
    "% ==> OPTION-1: RE-RUN to create reference output. ===================== (SLOWER)\n",
    "\n",
    "%{ \n",
    "\n",
    "[im_ref,deltas_ref,init_ref] = main_sense(rawdata, calib, trajectory,I,dcf,imsize_brain,30,10^(-12));\n",
    "save ref_recon.mat im_ref deltas_ref init_ref\n",
    "\n",
    "%}\n",
    "\n",
    "% ==> OPTION-2: LOAD pre-calculated output ===================== (FASTER)\n",
    "% Pre calculated outputs are fetched from (and are available) on OSF https://osf.io/xne9w/. \n",
    "\n",
    "load('ref_recon.mat'); "
   ]
  },
  {
   "cell_type": "markdown",
   "metadata": {
    "kernel": "Octave"
   },
   "source": [
    "<div class=\"alert alert-info\">\n",
    "  <strong><span class=\"badge\">4.1.2</span></strong> <b>Reconstruction of sub-sampled data</b>\n",
    "</div>\n"
   ]
  },
  {
   "cell_type": "code",
   "execution_count": 53,
   "metadata": {
    "kernel": "Octave"
   },
   "outputs": [],
   "source": [
    "# ===========================================\n",
    "# Perform reconstruction on subsampled data \n",
    "\n",
    "# Set iteration to 15. \n",
    "# ===========================================\n",
    "\n",
    "% ==> OPTION-1: RE-RUN to create outputs for sub-sampled data. ===================== (SLOWER)\n",
    "\n",
    "%{\n",
    "% Less iterations w/o subsampling \n",
    "[im,deltas,init,refdif] = main_sense(rawdata,calib,trajectory,I,dcf,imsize_brain,15,0.01,im_ref);\n",
    "\n",
    "% Reconstruction fo sub-sampled data \n",
    "[im_x2,deltas_x2,init_x2,refdif_x2] = main_sense(outRD_x2,calib,outTR_x2,I,dcf(:,:,1:2:end),imsize_brain,15,0.01,im_ref);\n",
    "[im_x3,deltas_x3,init_x3,refdif_x3] = main_sense(outRD_x3,calib,outTR_x3,I,dcf(:,:,1:3:end),imsize_brain,15,0.01,im_ref);\n",
    "[im_x4,deltas_x4,init_x4,refdif_x4] = main_sense(outRD_x4,calib,outTR_x4,I,dcf(:,:,1:4:end),imsize_brain,15,0.01,im_ref);\n",
    "\n",
    "save sub_recon.mat im deltas init refdif im_x2 deltas_x2 init_x2 refdif_x2 im_x3 deltas_x3 init_x3 refdif_x3 im_x4 deltas_x4 init_x4 refdif_x4 \n",
    "%}\n",
    "\n",
    "% ==> OPTION-2: LOAD pre-calculated outputs ===================== (FASTER)\n",
    "% Pre calculated outputs are fetched from (and are available) on OSF https://osf.io/xne9w/. \n",
    "\n",
    "load('sub_recon.mat');"
   ]
  },
  {
   "cell_type": "markdown",
   "metadata": {
    "kernel": "Octave"
   },
   "source": [
    "<div class=\"alert alert-info\">\n",
    "  <strong><span class=\"badge\">4.1.3</span></strong> <b>Reconstruction of single-coil images</b>\n",
    "</div>\n"
   ]
  },
  {
   "cell_type": "code",
   "execution_count": 73,
   "metadata": {
    "kernel": "Octave"
   },
   "outputs": [],
   "source": [
    "# ===========================================\n",
    "# Reconstruct single coil images. \n",
    "\n",
    "# Just perform inverse gridding and take the image from the first coil. \n",
    "# ===========================================\n",
    "\n",
    "% ==> OPTION-1: RE-RUN to create outputs for single coil images. ===================== (SLOWER)\n",
    "\n",
    "%{\n",
    "single_coil = bart('nufft -i -t', trajectory, rawdata);\n",
    "single_coil = abs(squeeze(single_coil(:,:,:,1)));\n",
    "\n",
    "single_coil_x2 = bart('nufft -i -t', outTR_x2, outRD_x2);\n",
    "single_coil_x2 = abs(squeeze(single_coil_x2(:,:,:,1)));\n",
    "\n",
    "single_coil_x3 = bart('nufft -i -t', outTR_x3, outRD_x3);\n",
    "single_coil_x3 = abs(squeeze(single_coil_x3(:,:,:,1)));\n",
    "\n",
    "single_coil_x4 = bart('nufft -i -t', outTR_x4, outRD_x4);\n",
    "single_coil_x4 = abs(squeeze(single_coil_x4(:,:,:,1)));\n",
    "\n",
    "save single_recon.mat single_coil single_coil_x2 single_coil_x3 single_coil_x4\n",
    "%}\n",
    "\n",
    "% ==> OPTION-2: LOAD pre-calculated outputs ===================== (FASTER)\n",
    "% Pre calculated outputs are fetched from (and are available) on OSF https://osf.io/xne9w/. \n",
    "\n",
    "load('single_recon.mat');"
   ]
  },
  {
   "cell_type": "markdown",
   "metadata": {
    "kernel": "Octave"
   },
   "source": [
    "<div class=\"alert alert-info\">\n",
    "  <strong><span class=\"badge\">4.1.4</span></strong> <b>Generate Figure-4</b>\n",
    "    \n",
    "  If you cannot see Figure-4, Kernel --> Restart & Clear Output\n",
    "</div>"
   ]
  },
  {
   "cell_type": "markdown",
   "metadata": {
    "kernel": "Octave"
   },
   "source": [
    "<div class=\"alert alert-danger\">\n",
    "  <strong><span class=\"badge\">RUN FIRST</span></strong> <b> If you'd like to regenerate the figure, operation depends on <strong><span class=\"badge\">4.1.1</span></strong> &  \n",
    "    <strong><span class=\"badge\">4.1.2</span></strong></b> \n",
    "</div>"
   ]
  },
  {
   "cell_type": "code",
   "execution_count": 46,
   "metadata": {
    "hide_input": true,
    "kernel": "Python3"
   },
   "outputs": [
    {
     "name": "stdout",
     "output_type": "stream",
     "text": [
      "This (hidden) cell transfers data from Octave to Python.\n"
     ]
    }
   ],
   "source": [
    "%use Python3\n",
    "%get deltas --from Octave\n",
    "%get deltas_x2 --from Octave\n",
    "%get deltas_x3 --from Octave\n",
    "%get deltas_x4 --from Octave\n",
    "%get refdif --from Octave\n",
    "%get refdif_x2 --from Octave\n",
    "%get refdif_x3 --from Octave\n",
    "%get refdif_x4 --from Octave\n",
    "\n",
    "print('This (hidden) cell transfers data from Octave to Python.')\n",
    "\n",
    "# Transfer outputs from Octave to Python for visualizaiton. "
   ]
  },
  {
   "cell_type": "code",
   "execution_count": 47,
   "metadata": {
    "hide_input": true,
    "kernel": "Python3"
   },
   "outputs": [
    {
     "name": "stdout",
     "output_type": "stream",
     "text": [
      "This (hidden) cell (re)generates Figure-4\n"
     ]
    }
   ],
   "source": [
    "iterations = [1,2,3,4,5,6,7,8,9,10,11,12,13,14,15];\n",
    "\n",
    "sub2_1 = go.Scatter(\n",
    "    x = iterations,\n",
    "    y = np.log10(deltas),\n",
    "    name = 'R=1',\n",
    "    text = 'R=1',\n",
    "    hoverinfo = 'x+y+text',\n",
    "    line=dict(color='rgb(0,114,189)'),\n",
    "    legendgroup=\"group\"\n",
    ")\n",
    "\n",
    "sub2_2 = go.Scatter(\n",
    "    x = iterations,\n",
    "    y = np.log10(deltas_x2),\n",
    "    name = 'R=2',\n",
    "    text = 'R=2',\n",
    "    hoverinfo = 'x+y+text',\n",
    "    line=dict(color='rgb(217,83,25)'),\n",
    "    legendgroup=\"group\"\n",
    ")\n",
    "\n",
    "sub2_3 = go.Scatter(\n",
    "    x = iterations,\n",
    "    y = np.log10(deltas_x3),\n",
    "    name = 'R=3',\n",
    "    text = 'R=3',\n",
    "    hoverinfo = 'x+y+text',\n",
    "    line=dict(color='rgb(237,177,32)'),\n",
    "    legendgroup=\"group\"\n",
    ")\n",
    "\n",
    "sub2_4 = go.Scatter(\n",
    "    x = iterations,\n",
    "    y = np.log10(deltas_x4),\n",
    "    name = 'R=4',\n",
    "    text = 'R=4',\n",
    "    hoverinfo = 'x+y+text',\n",
    "    line=dict(color='rgb(126,47,142)'),\n",
    "    legendgroup=\"group\"\n",
    ")\n",
    "\n",
    "# -----\n",
    "\n",
    "sub1_0 = go.Scatter(\n",
    "    x = iterations,\n",
    "    y = np.log10(refdif),\n",
    "    name = 'R=1',\n",
    "    text = 'R=1',\n",
    "    hoverinfo = 'x+y+text',\n",
    "    line=dict(color='rgb(0,114,189)',dash='dot'),\n",
    "    legendgroup=\"group2\"\n",
    ")\n",
    "\n",
    "sub1_1 = go.Scatter(\n",
    "    x = iterations,\n",
    "    y = np.log10(refdif_x2),\n",
    "    name = 'R=2',\n",
    "    text = 'R=2',\n",
    "    hoverinfo = 'x+y+text',\n",
    "    line=dict(color='rgb(217,83,25)',dash='dot'),\n",
    "    legendgroup=\"group2\"\n",
    ")\n",
    "\n",
    "sub1_2 = go.Scatter(\n",
    "    x = iterations,\n",
    "    y = np.log10(refdif_x3),\n",
    "    name = 'R=3',\n",
    "    text = 'R=3',\n",
    "    hoverinfo = 'x+y+text',\n",
    "    line=dict(color='rgb(237,177,32)',dash='dot'),\n",
    "    legendgroup=\"group2\"\n",
    ")\n",
    "\n",
    "sub1_3 = go.Scatter(\n",
    "    x = iterations,\n",
    "    y = np.log10(refdif_x4),\n",
    "    name = 'R=4',\n",
    "    text = 'R=4',\n",
    "    hoverinfo = 'x+y+text',\n",
    "    line=dict(color='rgb(126,47,142)',dash='dot'),\n",
    "    legendgroup=\"group2\"\n",
    ")\n",
    "\n",
    "fig = tools.make_subplots(rows=2, cols=1, print_grid=False, shared_yaxes = True)\n",
    "\n",
    "fig.append_trace(sub2_1, 1, 1)\n",
    "fig.append_trace(sub2_2, 1, 1)\n",
    "fig.append_trace(sub2_3, 1, 1)\n",
    "fig.append_trace(sub2_4, 1, 1)\n",
    "\n",
    "fig.append_trace(sub1_0, 2, 1)\n",
    "fig.append_trace(sub1_1, 2, 1)\n",
    "fig.append_trace(sub1_2, 2, 1)\n",
    "fig.append_trace(sub1_3, 2, 1)\n",
    "\n",
    "axis_template = dict(linecolor = 'black', showticklabels = True,\n",
    "             tickfont=dict(color=\"white\") )\n",
    "\n",
    "fig.update_layout(height=800, width=600, title=dict(text='<b>Repeat <a href=\"https://wol-prod-cdn.literatumonline.com/cms/attachment/0ef75948-26f4-445b-9014-e5e034c9c7a1/mfig004.jpg\" target=\"_blank\">Figure-4</a> of the original paper.</b>',font=dict(color=\"skyblue\")),paper_bgcolor='#000000', xaxis=axis_template,yaxis=axis_template,xaxis2 =axis_template ,yaxis2=axis_template)\n",
    "fig.update_xaxes(title=dict(text='Iterations',font=dict(color=\"white\")), row=2, col=1)\n",
    "fig.update_yaxes(title=dict(text='Log<sub>10</sub>∆',font=dict(color=\"white\")), row=1, col=1)\n",
    "fig.update_yaxes(title=dict(text='Log<sub>10</sub>' + u\"\\u03B4\",font=dict(color=\"white\")), row=2, col=1)\n",
    "fig.update_layout(legend=dict(x=1, y=1,tracegroupgap=300,font=dict(color=\"white\")))\n",
    "\n",
    "\n",
    "iplot(fig)\n",
    "#plot(fig,filename='fig4.html')\n",
    "print('This (hidden) cell (re)generates Figure-4')"
   ]
  },
  {
   "cell_type": "code",
   "execution_count": 73,
   "metadata": {
    "hide_input": true,
    "init_cell": true,
    "kernel": "Python3"
   },
   "outputs": [
    {
     "data": {
      "application/vnd.jupyter.widget-view+json": {
       "model_id": "dc9bad20291a4d62a156448e67113719",
       "version_major": 2,
       "version_minor": 0
      },
      "text/plain": [
       "interactive(children=(ToggleButtons(button_style='info', description='FIG4:', options=('Show Saved Figure', 'R…"
      ]
     },
     "metadata": {},
     "output_type": "display_data"
    }
   ],
   "source": [
    "%use Python3\n",
    "import time, sys\n",
    "tb = widgets.ToggleButtons(\n",
    "    options=['Show Saved Figure', 'Regenerate Figure'],\n",
    "    description='FIG4:',\n",
    "    disabled=False,\n",
    "    button_style='info', # 'success', 'info', 'warning', 'danger' or ''\n",
    "    tooltips=['Loads pre-executed HTML image.', 'Re-generates image'],\n",
    ")\n",
    "\n",
    "@interact\n",
    "def clicked(val=tb):\n",
    "    if val == 'Show Saved Figure':\n",
    "        clear_output(wait=True)\n",
    "        display(IFrame(src='./fig4.html', width=600, height=800,scrolling='no'))     \n",
    "    elif val == 'Regenerate Figure':\n",
    "        display(widgets.HTML(\n",
    "        value=\"<i>Cells responsible for regenerating the figure will be executed.</i> <br> <b>Once the run has finished, output will be rendered in the cell above.</b>\",\n",
    "        description='Please wait:',\n",
    "        ))\n",
    "        for i in reversed(range(6)):\n",
    "            time.sleep(1)\n",
    "            print(\"Execution will start in: \",i,sep='',end=\"\\r\",flush=True)\n",
    "        display(Javascript(\"Jupyter.notebook.execute_cell_range(IPython.notebook.get_selected_index()-2,IPython.notebook.get_selected_index()+1)\"))\n"
   ]
  },
  {
   "cell_type": "markdown",
   "metadata": {
    "kernel": "Python3"
   },
   "source": [
    "<div class=\"alert alert-info\">\n",
    "  <strong><span class=\"badge\">4.1.5</span></strong> <b>Generate Figure-5</b>\n",
    "  \n",
    "   If you cannot see Figure-5, Kernel --> Restart & Clear Output\n",
    "</div>"
   ]
  },
  {
   "cell_type": "markdown",
   "metadata": {
    "kernel": "Python3"
   },
   "source": [
    "<div class=\"alert alert-danger\">\n",
    "  <strong><span class=\"badge\">RUN FIRST</span></strong> <b> If you'd like to regenerate the figure, operation depends on <strong><span class=\"badge\">4.1.3</span></strong> to  \n",
    "    <strong><span class=\"badge\">4.1.2</span></strong></b> \n",
    "</div>"
   ]
  },
  {
   "cell_type": "code",
   "execution_count": 87,
   "metadata": {
    "hide_input": true,
    "kernel": "Python3"
   },
   "outputs": [
    {
     "name": "stdout",
     "output_type": "stream",
     "text": [
      "This (hidden) cell transfers data from Octave to Python.\n"
     ]
    }
   ],
   "source": [
    "%use Python3\n",
    "\n",
    "%get im --from Octave\n",
    "%get im_x2 --from Octave\n",
    "%get im_x3 --from Octave\n",
    "%get im_x4 --from Octave\n",
    "%get single_coil --from Octave\n",
    "%get single_coil_x2 --from Octave\n",
    "%get single_coil_x3 --from Octave\n",
    "%get single_coil_x4 --from Octave\n",
    "%get init --from Octave\n",
    "%get init_x2 --from Octave\n",
    "%get init_x3 --from Octave\n",
    "%get init_x4 --from Octave\n",
    "\n",
    "print('This (hidden) cell transfers data from Octave to Python.');"
   ]
  },
  {
   "cell_type": "code",
   "execution_count": 88,
   "metadata": {
    "hide_input": true,
    "kernel": "Python3"
   },
   "outputs": [
    {
     "name": "stdout",
     "output_type": "stream",
     "text": [
      "This (hidden) cell (re)generates Figure-5\n"
     ]
    }
   ],
   "source": [
    "%use Python3 \n",
    "\n",
    "def normabs(inp):\n",
    "    tmp  = abs(inp)\n",
    "    nor = (tmp-np.amin(tmp))/(np.amax(tmp)-np.amin(tmp))\n",
    "    return nor\n",
    "\n",
    "fig = subplots.make_subplots(rows=4, cols=3, print_grid=False,vertical_spacing = 0.02, horizontal_spacing=0.04)\n",
    "\n",
    "fig.append_trace(heatmap_trace2(normabs(single_coil), 'R1-SingleCoil', 300, 300,'Viridis'),1,1)\n",
    "fig.append_trace(heatmap_trace2(normabs(init), 'R1-Initial', 300, 300,'Viridis'),1,2)\n",
    "fig.append_trace(heatmap_trace2(normabs(im), 'R1-Final', 300, 300,'Viridis'),1,3)\n",
    "\n",
    "fig.append_trace(heatmap_trace2(normabs(single_coil_x2),'R2-SingleCoil', 300, 300,'Viridis'),2,1)\n",
    "fig.append_trace(heatmap_trace2(normabs(init_x2), 'R2-Initial', 300, 300,'Viridis'),2,2)\n",
    "fig.append_trace(heatmap_trace2(normabs(im_x2), 'R2', 300, 300,'Viridis'),2,3)\n",
    "\n",
    "fig.append_trace(heatmap_trace2(normabs(single_coil_x3),'R3-SingleCoil', 300, 300,'Viridis'),3,1)\n",
    "fig.append_trace(heatmap_trace2(normabs(init_x3), 'R3-Initial', 300, 300,'Viridis'),3,2)\n",
    "fig.append_trace(heatmap_trace2(normabs(im_x3), 'R3-Final', 300, 300,'Viridis'),3,3)\n",
    "\n",
    "fig.append_trace(heatmap_trace2(normabs(single_coil_x4),'R4-SingleCoil', 300, 300,'Viridis'),4,1)\n",
    "fig.append_trace(heatmap_trace2(normabs(init_x4), 'R4-Initial', 300, 300,'Viridis'),4,2)\n",
    "fig.append_trace(heatmap_trace2(normabs(im_x4), 'R4-Final', 300, 300,'Viridis'),4,3)\n",
    "\n",
    "fig.update_layout(height=800, width=800, title=dict(text='<b>Repeat <a href=\"https://wol-prod-cdn.literatumonline.com/cms/attachment/3b56d3f8-c3f4-4ba0-afe5-1d77ecb1c5a3/mfig005.jpg\" target=\"_blank\">Figure-5</a> of the original paper.</b> <br> &nbsp;',font=dict(color=\"skyblue\")),paper_bgcolor='#000000')\n",
    "\n",
    "for ii in range(12):\n",
    "    exec('fig[\\'layout\\'][\\'xaxis' + str(ii+1) + '\\'].update(showgrid = False, showline=False, zeroline = False, showticklabels = False, ticks = \\'\\')')\n",
    "    exec('fig[\\'layout\\'][\\'yaxis' + str(ii+1) + '\\'].update(showgrid = False, zeroline = False, showline=False, showticklabels = False, ticks = \\'\\')')\n",
    "\n",
    "fig.update_xaxes(title=dict(text='<b>Single Coil</b>',font=dict(color=\"white\")), row=1, col=1, side='top')\n",
    "fig.update_xaxes(title=dict(text='<b>Initial</b>',font=dict(color=\"white\")), row=1, col=2, side='top')\n",
    "fig.update_xaxes(title=dict(text='<b>Final</b>',font=dict(color=\"white\")), row=1, col=3, side='top')\n",
    "\n",
    "fig.update_yaxes(title=dict(text='<b>R1</b>',font=dict(color=\"white\")), row=1, col=1)\n",
    "fig.update_yaxes(title=dict(text='<b>R2</b>',font=dict(color=\"white\")), row=2, col=1)\n",
    "fig.update_yaxes(title=dict(text='<b>R3</b>',font=dict(color=\"white\")), row=3, col=1)\n",
    "fig.update_yaxes(title=dict(text='<b>R4</b>',font=dict(color=\"white\")), row=4, col=1)\n",
    "\n",
    "\n",
    "print('This (hidden) cell (re)generates Figure-5')\n",
    "#plot(fig,filename='fig5.html')\n",
    "iplot(fig)\n"
   ]
  },
  {
   "cell_type": "code",
   "execution_count": 74,
   "metadata": {
    "hide_input": true,
    "init_cell": true,
    "kernel": "Python3"
   },
   "outputs": [
    {
     "data": {
      "application/vnd.jupyter.widget-view+json": {
       "model_id": "1d088b247f3d4a3ba3e03cd42d076c07",
       "version_major": 2,
       "version_minor": 0
      },
      "text/plain": [
       "interactive(children=(ToggleButtons(button_style='info', description='FIG5:', options=('Show Saved Figure', 'R…"
      ]
     },
     "metadata": {},
     "output_type": "display_data"
    }
   ],
   "source": [
    "%use Python3 \n",
    "\n",
    "import time, sys\n",
    "tb = widgets.ToggleButtons(\n",
    "    options=['Show Saved Figure', 'Regenerate Figure'],\n",
    "    description='FIG5:',\n",
    "    disabled=False,\n",
    "    button_style='info', # 'success', 'info', 'warning', 'danger' or ''\n",
    "    tooltips=['Loads pre-executed HTML image.', 'Re-generates image'],\n",
    ")\n",
    "\n",
    "@interact\n",
    "def clicked(val=tb):\n",
    "    if val == 'Show Saved Figure':\n",
    "        clear_output(wait=True)\n",
    "        display(IFrame(src='./fig5.html', width=800, height=800,scrolling='no'))     \n",
    "    elif val == 'Regenerate Figure':\n",
    "        display(widgets.HTML(\n",
    "        value=\"<i>Cells responsible for regenerating the figure will be executed.</i> <br> <b>Once the run has finished, output will be rendered in the cell above.</b>\",\n",
    "        description='Please wait:',\n",
    "        ))\n",
    "        for i in reversed(range(6)):\n",
    "            time.sleep(1)\n",
    "            print(\"Execution will start in: \",i,sep='',end=\"\\r\",flush=True)\n",
    "        display(Javascript(\"Jupyter.notebook.execute_cell_range(IPython.notebook.get_selected_index()-2,IPython.notebook.get_selected_index()+1)\"))\n",
    "\n"
   ]
  },
  {
   "cell_type": "markdown",
   "metadata": {
    "kernel": "Python3"
   },
   "source": [
    "<div class=\"alert alert-info\">\n",
    "  <strong><span class=\"badge\">5</span></strong> <b>Cardiac data</b>\n",
    "</div>"
   ]
  },
  {
   "cell_type": "code",
   "execution_count": 52,
   "metadata": {
    "kernel": "Octave"
   },
   "outputs": [],
   "source": [
    "# =============================================================================\n",
    "# Perform SENSE on cardiac data with different subsamplings. \n",
    "# =============================================================================\n",
    "\n",
    "heart = load('/tmp/rrsg_challenge/heart_radial_55proj_34ch.mat');\n",
    "heart_raw = heart.rawdata;\n",
    "heart_trajectory = heart.trajectory; \n",
    "\n",
    "disp('Permuting cardiac data...');\n",
    "heart_raw = permute(heart_raw,[4,3,2,1]); \n",
    "heart_trajectory = permute(heart_trajectory,[3,2,1]);\n",
    "[~,nFE_H,nSpokes_H,nCh_H] = size(heart_raw);\n",
    "imsize_heart = 240; \n",
    "\n",
    "disp('Subsampling cardiac data...');\n",
    "[heartRD_x2, heartTR_x2] = subSample(heart_raw,heart_trajectory,2,55);\n",
    "[heartRD_x3, heartTR_x3] = subSample(heart_raw,heart_trajectory,3,55);\n",
    "[heartRD_x4, heartTR_x4] = subSample(heart_raw,heart_trajectory,4,55);\n",
    "\n",
    "disp('Calculating DCF...');\n",
    "dcf_H = abs(heart_trajectory(1,:,:) + 1i*heart_trajectory(2,:,:));\n",
    "dcf_H = dcf_H/max(dcf_H(:));\n",
    "\n",
    "disp('Calculating sensitivity profiles...');\n",
    "im = bart('nufft -d240:240:1 -a -t',heart_trajectory,heart_raw);\n",
    "im_ks = bart('fft -u 7', im);\n",
    "heart_calib = bart('caldir 20',im_ks);\n",
    "\n",
    "disp('Calculating intensity correction matrix...');\n",
    "IH = abs(bart('rss 8',heart_calib.*heart_calib));\n",
    "IH = 1./sqrt(IH);\n",
    "\n",
    "# ==> OPTION-1: Re-calculate for cardiac data. (SLOWER)\n",
    "%{\n",
    "disp('Performing SENSE reconstruction...');\n",
    "[imh,~,~] = main_sense(heart_raw,heart_calib,heart_trajectory,IH,dcf_H,240,10,0.01);\n",
    "[imh2,~,~] = main_sense(heartRD_x2,heart_calib,heartTR_x2,IH,dcf_H(:,:,1:2:end),240,10,0.01);\n",
    "[imh3,~,~] = main_sense(heartRD_x3,heart_calib,heartTR_x3,IH,dcf_H(:,:,1:3:end),240,10,0.01);\n",
    "[imh4,~,~] = main_sense(heartRD_x4,heart_calib,heartTR_x4,IH,dcf_H(:,:,1:4:end),240,10,0.01);\n",
    "%}\n",
    "\n",
    "# ==> OPTION-2: Re-load processing output (FASTER)\n",
    "disp('Loading previous outputs...');\n",
    "load('cardiac_out.mat')"
   ]
  },
  {
   "cell_type": "code",
   "execution_count": null,
   "metadata": {
    "kernel": "Python3"
   },
   "outputs": [],
   "source": [
    "%use Python3\n",
    "%get imh --from Octave\n",
    "%get imh2 --from Octave\n",
    "%get imh3 --from Octave\n",
    "%get imh4 --from Octave\n",
    "\n",
    "# =============================================================================\n",
    "# To regenerate Figure-6, comment in the following code block and run the cell. \n",
    "# =============================================================================\n",
    "\n",
    "\n",
    "\"\"\"\n",
    "fig = subplots.make_subplots(rows=1, cols=4, print_grid=False,vertical_spacing = 0.02, horizontal_spacing=0.04)\n",
    "\n",
    "fig.append_trace(heatmap_trace2(abs(imh), 'R1', 240, 240,'Viridis'),1,1)\n",
    "fig.append_trace(heatmap_trace2(abs(imh2), 'R2', 240, 240,'Viridis'),1,2)\n",
    "fig.append_trace(heatmap_trace2(abs(imh3), 'R3', 240, 240,'Viridis'),1,3)\n",
    "fig.append_trace(heatmap_trace2(abs(imh4), 'R4', 240, 240,'Viridis'),1,4)\n",
    "\n",
    "fig.update_layout(height=400, width=900, title=dict(text='<b>Figure-6</b>',font=dict(color=\"skyblue\")),paper_bgcolor='#000000')\n",
    "\n",
    "for ii in range(4):\n",
    "    exec('fig[\\'layout\\'][\\'xaxis' + str(ii+1) + '\\'].update(showgrid = False, showline=False, zeroline = False, showticklabels = False, ticks = \\'\\')')\n",
    "    exec('fig[\\'layout\\'][\\'yaxis' + str(ii+1) + '\\'].update(showgrid = False, zeroline = False, showline=False, showticklabels = False, ticks = \\'\\')')\n",
    "\n",
    "fig.update_xaxes(title=dict(text='<b>R1</b>',font=dict(color=\"white\")), row=1, col=1, side='top')\n",
    "fig.update_xaxes(title=dict(text='<b>R2</b>',font=dict(color=\"white\")), row=1, col=2, side='top')\n",
    "fig.update_xaxes(title=dict(text='<b>R3</b>',font=dict(color=\"white\")), row=1, col=3, side='top')\n",
    "fig.update_xaxes(title=dict(text='<b>R4</b>',font=dict(color=\"white\")), row=1, col=4, side='top')\n",
    "\n",
    "#plot(fig,filename='fig6.html')\n",
    "iplot(fig)\n",
    "\"\"\""
   ]
  },
  {
   "cell_type": "code",
   "execution_count": 76,
   "metadata": {
    "hide_input": true,
    "init_cell": true,
    "kernel": "Python3",
    "scrolled": false
   },
   "outputs": [
    {
     "data": {
      "text/html": [
       "\n",
       "        <iframe\n",
       "            width=\"900\"\n",
       "            height=\"400\"\n",
       "            src=\"./fig6.html?scrolling=no\"\n",
       "            frameborder=\"0\"\n",
       "            allowfullscreen\n",
       "        ></iframe>\n",
       "        "
      ],
      "text/plain": [
       "<IPython.lib.display.IFrame at 0x7f97499da710>"
      ]
     },
     "metadata": {},
     "output_type": "display_data"
    }
   ],
   "source": [
    "%use Python3 \n",
    "display(IFrame(src='./fig6.html', width=900, height=400,scrolling='no'))     "
   ]
  }
 ],
 "metadata": {
  "celltoolbar": "Initialization Cell",
  "kernelspec": {
   "display_name": "SoS",
   "language": "sos",
   "name": "sos"
  },
  "language_info": {
   "codemirror_mode": "sos",
   "file_extension": ".sos",
   "mimetype": "text/x-sos",
   "name": "sos",
   "nbconvert_exporter": "sos_notebook.converter.SoS_Exporter",
   "pygments_lexer": "sos"
  },
  "sos": {
   "kernels": [
    [
     "Octave",
     "octave",
     "Octave",
     "",
     ""
    ],
    [
     "Python3",
     "python3",
     "Python3",
     "#FFD91A",
     {
      "name": "ipython",
      "version": 3
     }
    ]
   ],
   "panel": {
    "displayed": false,
    "height": 0,
    "style": "side"
   },
   "version": "0.20.4"
  }
 },
 "nbformat": 4,
 "nbformat_minor": 2
}
