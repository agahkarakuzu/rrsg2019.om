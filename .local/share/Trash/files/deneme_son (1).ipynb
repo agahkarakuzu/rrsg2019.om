{
 "cells": [
  {
   "cell_type": "markdown",
   "metadata": {},
   "source": [
    "## RRSG 2019 Challenge \n",
    "\n",
    "#### Load ISMRM RRSG 2019 challenge data. Please see [this OSF repository](https://osf.io/xne9w/) for details. "
   ]
  },
  {
   "cell_type": "code",
   "execution_count": 1,
   "metadata": {},
   "outputs": [
    {
     "name": "stdout",
     "output_type": "stream",
     "text": [
      "Variables in the current scope:\n",
      "\n",
      "   Attr Name            Size                     Bytes  Class\n",
      "   ==== ====            ====                     =====  ===== \n",
      "        ans             1x5                          5  char\n",
      "   c    rawdata        12x96x512               4718592  single\n",
      "        trajectory     96x512x3                 589824  single\n",
      "\n",
      "Total is 737285 elements using 5308421 bytes\n",
      "\n"
     ]
    }
   ],
   "source": [
    "load('/tmp/rrsg_challenge/brain_radial_96proj_12ch.mat');\n",
    "whos % Show variables in the current scope "
   ]
  },
  {
   "cell_type": "markdown",
   "metadata": {},
   "source": [
    "#### Change data order to follow BART's dimension convention and display the rawdata from all (12) channels. \n",
    "\n",
    "<div class=\"alert alert-danger\">\n",
    "  <strong>Warning!</strong> Do not run this cell more than once after running the previous cell.\n",
    "\n",
    "</div>\n"
   ]
  },
  {
   "cell_type": "code",
   "execution_count": 2,
   "metadata": {},
   "outputs": [],
   "source": [
    "rawdata = permute(rawdata,[4,3,2,1]); \n",
    "trajectory = permute(trajectory,[3,2,1]);\n",
    "[~,nFE,nSpokes,nCh] = size(rawdata);"
   ]
  },
  {
   "cell_type": "markdown",
   "metadata": {},
   "source": [
    "* Display input data"
   ]
  },
  {
   "cell_type": "code",
   "execution_count": null,
   "metadata": {},
   "outputs": [],
   "source": [
    "for ii=1:12\n",
    "cc = squeeze((rawdata(1,:,:,ii)));\n",
    "% Brighten convention is not 1/1 with matlab.  \n",
    "subplot(2,6,ii); \n",
    "imshow(log(1+abs(cc)),[-0 0.0001]); brighten(0.4); title(['Ch ' num2str(ii)]);\n",
    "end\n",
    "\n",
    "\n",
    "ksp_rss = bart('rss 8', rawdata);\n",
    "figure();\n",
    "scatter3(trajectory(1, :), trajectory(2,:), trajectory(3,:),[],reshape(squeeze(log(ksp_rss)),[1 nFE*nSpokes]));\n"
   ]
  },
  {
   "cell_type": "code",
   "execution_count": null,
   "metadata": {},
   "outputs": [],
   "source": [
    "figure, scatter3(trajectory(1, :), trajectory(2,:)), \n",
    "title('Radial trajectory')\n"
   ]
  },
  {
   "cell_type": "code",
   "execution_count": 15,
   "metadata": {},
   "outputs": [
    {
     "name": "stdout",
     "output_type": "stream",
     "text": [
      "ans =\n",
      "\n",
      "     1   512    96    12\n",
      "\n"
     ]
    }
   ],
   "source": [
    "sens = bart('slice 4 0', calib);\n",
    "size(sens)"
   ]
  },
  {
   "cell_type": "code",
   "execution_count": 16,
   "metadata": {},
   "outputs": [
    {
     "name": "stdout",
     "output_type": "stream",
     "text": [
      "Est. image size: 300 300 1\n",
      "Done.\n"
     ]
    }
   ],
   "source": [
    "igrid = bart('nufft -i -t', trajectory, rawdata);\n"
   ]
  },
  {
   "cell_type": "code",
   "execution_count": 14,
   "metadata": {},
   "outputs": [
    {
     "name": "stdout",
     "output_type": "stream",
     "text": [
      "error: reshape: can't reshape 1152x1x512 array to 384x2x512 array\n",
      "error: called from\n",
      "    imshow3 at line 44 column 6\n",
      "error: reshape: can't reshape 1152x1x512 array to 384x2x512 array\n",
      "error: called from\n",
      "    imshow3 at line 44 column 6\n"
     ]
    },
    {
     "data": {
      "image/png": "[encoded data removed]",
      "text/plain": [
       "<IPython.core.display.Image object>"
      ]
     },
     "metadata": {},
     "output_type": "display_data"
    }
   ],
   "source": [
    "sens_maps = squeeze(sens);\n",
    "\n",
    "figure,\n",
    "subplot(121), imshow3(abs(sens_maps), [],[2,4]);\n",
    "title('Magnitude ESPIRiT 1st Set of Maps')\n",
    "subplot(122), imshow3(angle(sens_maps),[],[2,4])\n",
    "title('Phase ESPIRiT 1st Set of Maps')"
   ]
  },
  {
   "cell_type": "code",
   "execution_count": 10,
   "metadata": {},
   "outputs": [
    {
     "name": "stdout",
     "output_type": "stream",
     "text": [
      "2 maps.\n",
      "ESPIRiT reconstruction.\n",
      "conjugate gradients\n",
      "Total Time: 29.389642\n"
     ]
    }
   ],
   "source": [
    "kk = bart('pics -t',trajectory,rawdata,calib);"
   ]
  },
  {
   "cell_type": "code",
   "execution_count": 12,
   "metadata": {},
   "outputs": [
    {
     "name": "stdout",
     "output_type": "stream",
     "text": [
      "ans =\n",
      "\n",
      "     1   512    96     1     2\n",
      "\n"
     ]
    }
   ],
   "source": [
    "size(kk)"
   ]
  },
  {
   "cell_type": "code",
   "execution_count": null,
   "metadata": {},
   "outputs": [],
   "source": []
  },
  {
   "cell_type": "code",
   "execution_count": null,
   "metadata": {},
   "outputs": [],
   "source": [
    "function [outRD, outTR] = subSample(RD,TR,factor,nSpokes)\n",
    "\n",
    "    outTR = TR(:,:,1:factor:nSpokes);\n",
    "    outRD = RD(:,:,1:factor:nSpokes,:);\n",
    "\n",
    "end"
   ]
  }
 ],
 "metadata": {
  "kernelspec": {
   "display_name": "Octave",
   "language": "octave",
   "name": "octave"
  },
  "language_info": {
   "file_extension": ".m",
   "help_links": [
    {
     "text": "GNU Octave",
     "url": "https://www.gnu.org/software/octave/support.html"
    },
    {
     "text": "Octave Kernel",
     "url": "https://github.com/Calysto/octave_kernel"
    },
    {
     "text": "MetaKernel Magics",
     "url": "https://github.com/calysto/metakernel/blob/master/metakernel/magics/README.md"
    }
   ],
   "mimetype": "text/x-octave",
   "name": "octave",
   "version": "4.2.2"
  }
 },
 "nbformat": 4,
 "nbformat_minor": 2
}
