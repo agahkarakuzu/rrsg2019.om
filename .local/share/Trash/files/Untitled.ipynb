{
 "cells": [
  {
   "cell_type": "code",
   "execution_count": 14,
   "metadata": {},
   "outputs": [],
   "source": [
    "# Copyright 2013-2015. The Regents of the University of California.\n",
    "# All rights reserved. Use of this source code is governed by \n",
    "# a BSD-style license which can be found in the LICENSE file.\n",
    "#\n",
    "# Authors: \n",
    "# 2013 Martin Uecker <uecker@eecs.berkeley.edu>\n",
    "# 2015 Jonathan Tamir <jtamir@eecs.berkeley.edu>\n",
    "\n",
    "\n",
    "import numpy as np\n",
    "\n",
    "def readcfl(name):\n",
    "    # get dims from .hdr\n",
    "    h = open(name + \".hdr\", \"r\")\n",
    "    h.readline() # skip\n",
    "    l = h.readline()\n",
    "    h.close()\n",
    "    dims = [int(i) for i in l.split( )]\n",
    "\n",
    "    # remove singleton dimensions from the end\n",
    "    n = np.prod(dims)\n",
    "    dims_prod = np.cumprod(dims)\n",
    "    dims = dims[:np.searchsorted(dims_prod, n)+1]\n",
    "\n",
    "    # load data and reshape into dims\n",
    "    d = open(name + \".cfl\", \"r\")\n",
    "    a = np.fromfile(d, dtype=np.complex64, count=n);\n",
    "    d.close()\n",
    "    return a.reshape(dims, order='F') # column-major\n",
    "\n",
    "\t\n",
    "def writecfl(name, array):\n",
    "    h = open(name + \".hdr\", \"w\")\n",
    "    h.write('# Dimensions\\n')\n",
    "    for i in (array.shape):\n",
    "            h.write(\"%d \" % i)\n",
    "    h.write('\\n')\n",
    "    h.close()\n",
    "    d = open(name + \".cfl\", \"w\")\n",
    "    array.T.astype(np.complex64).tofile(d) # tranpose for column-major order\n",
    "    d.close()"
   ]
  },
  {
   "cell_type": "code",
   "execution_count": 15,
   "metadata": {},
   "outputs": [],
   "source": [
    "import h5py\n",
    "import sigpy as sp\n",
    "\n",
    "h5_dataset_brain = h5py.File('/tmp/rrsg_challenge/rawdata_brain_radial_96proj_12ch.h5', 'r')\n",
    "\n",
    "h5_dataset_rawdata_name = list(h5_dataset_brain.keys())[0]\n",
    "h5_dataset_trajectory_name = list(h5_dataset_brain.keys())[1]\n",
    "\n",
    "trajectory = h5_dataset_brain.get(h5_dataset_trajectory_name).value\n",
    "rawdata = h5_dataset_brain.get(h5_dataset_rawdata_name).value\n",
    "\n",
    "gpu_number = -1\n",
    "\n",
    "coor = trajectory[:2,:,:].transpose((1,2,0))\n",
    "coor = sp.backend.to_device(coor,gpu_number)\n",
    "rawdata_brain = rawdata[0,:,:,:].transpose((2,0,1))\n",
    "rawdata_brain = sp.backend.to_device(rawdata_brain,gpu_number)"
   ]
  },
  {
   "cell_type": "code",
   "execution_count": 23,
   "metadata": {},
   "outputs": [],
   "source": [
    "image = readcfl(\"img_igrid_brain\")\n",
    "image_sos = sp.util.rss(image,3)\n",
    "sens_maps = image[:,:,0,:]/image_sos\n",
    "sens_maps_t = sens_maps.transpose((2,0,1))\n",
    "sens_maps_t = sp.backend.to_device(sens_maps_t,gpu_number)"
   ]
  },
  {
   "cell_type": "code",
   "execution_count": 25,
   "metadata": {},
   "outputs": [
    {
     "data": {
      "text/plain": [
       "(12, 300, 300)"
      ]
     },
     "execution_count": 25,
     "metadata": {},
     "output_type": "execute_result"
    }
   ],
   "source": [
    "np.shape(sens_maps_t)"
   ]
  },
  {
   "cell_type": "code",
   "execution_count": 26,
   "metadata": {},
   "outputs": [],
   "source": [
    "S = sp.linop.Multiply((1,300,300),sens_maps_t)\n",
    "NUFFT = sp.linop.NUFFT((12,300,300),coor)\n",
    "E = NUFFT*S"
   ]
  },
  {
   "cell_type": "code",
   "execution_count": 38,
   "metadata": {},
   "outputs": [],
   "source": [
    "def get_dcf(coor):\n",
    "    kmax = np.amax(coor)\n",
    "    coord_shape = coor.shape\n",
    "    nro, ntr, ndim = coord_shape\n",
    "    dcf = np.zeros((nro,ntr))\n",
    "    delta_k = kmax/nro\n",
    "    for i in range(nro):\n",
    "        for j in range(ntr):\n",
    "            if (i == 0) or (j == 0):\n",
    "                dcf[i,j] = 2*np.pi * 1/ntr * delta_k**2 * 1/8\n",
    "            else:\n",
    "                dcf[i,j] = 2*np.pi * 1/ntr * delta_k**2 * j\n",
    "    return dcf\n",
    "\n",
    "# Intensity correction\n",
    "img_shape = (1,300,300)\n",
    "intensity = sp.util.rss(sens_maps_t)\n",
    "I = sp.linop.Multiply(img_shape,intensity)\n",
    "\n",
    "\n",
    "S = sp.linop.Multiply(img_shape,sens_maps_t)\n",
    "NUFFT = sp.linop.NUFFT(S.oshape,coor)\n",
    "E = NUFFT*S*I\n",
    "dcf = get_dcf(coor)\n",
    "D = sp.linop.Multiply(E.oshape,dcf)\n",
    "A = D*E\n"
   ]
  },
  {
   "cell_type": "code",
   "execution_count": 42,
   "metadata": {},
   "outputs": [
    {
     "data": {
      "text/plain": [
       "(300, 300)"
      ]
     },
     "execution_count": 42,
     "metadata": {},
     "output_type": "execute_result"
    }
   ],
   "source": [
    "np.shape(intensity)"
   ]
  }
 ],
 "metadata": {
  "kernelspec": {
   "display_name": "Python 3",
   "language": "python",
   "name": "python3"
  },
  "language_info": {
   "codemirror_mode": {
    "name": "ipython",
    "version": 3
   },
   "file_extension": ".py",
   "mimetype": "text/x-python",
   "name": "python",
   "nbconvert_exporter": "python",
   "pygments_lexer": "ipython3",
   "version": "3.7.3"
  }
 },
 "nbformat": 4,
 "nbformat_minor": 2
}
