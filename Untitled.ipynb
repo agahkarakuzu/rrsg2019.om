{
 "cells": [
  {
   "cell_type": "code",
   "execution_count": 1,
   "metadata": {},
   "outputs": [],
   "source": [
    "# Copyright 2013-2015. The Regents of the University of California.\n",
    "# All rights reserved. Use of this source code is governed by \n",
    "# a BSD-style license which can be found in the LICENSE file.\n",
    "#\n",
    "# Authors: \n",
    "# 2013 Martin Uecker <uecker@eecs.berkeley.edu>\n",
    "# 2015 Jonathan Tamir <jtamir@eecs.berkeley.edu>\n",
    "\n",
    "\n",
    "import numpy as np\n",
    "\n",
    "def readcfl(name):\n",
    "    # get dims from .hdr\n",
    "    h = open(name + \".hdr\", \"r\")\n",
    "    h.readline() # skip\n",
    "    l = h.readline()\n",
    "    h.close()\n",
    "    dims = [int(i) for i in l.split( )]\n",
    "\n",
    "    # remove singleton dimensions from the end\n",
    "    n = np.prod(dims)\n",
    "    dims_prod = np.cumprod(dims)\n",
    "    dims = dims[:np.searchsorted(dims_prod, n)+1]\n",
    "\n",
    "    # load data and reshape into dims\n",
    "    d = open(name + \".cfl\", \"r\")\n",
    "    a = np.fromfile(d, dtype=np.complex64, count=n);\n",
    "    d.close()\n",
    "    return a.reshape(dims, order='F') # column-major\n",
    "\n",
    "\t\n",
    "def writecfl(name, array):\n",
    "    h = open(name + \".hdr\", \"w\")\n",
    "    h.write('# Dimensions\\n')\n",
    "    for i in (array.shape):\n",
    "            h.write(\"%d \" % i)\n",
    "    h.write('\\n')\n",
    "    h.close()\n",
    "    d = open(name + \".cfl\", \"w\")\n",
    "    array.T.astype(np.complex64).tofile(d) # tranpose for column-major order\n",
    "    d.close()"
   ]
  },
  {
   "cell_type": "code",
   "execution_count": 2,
   "metadata": {},
   "outputs": [
    {
     "name": "stderr",
     "output_type": "stream",
     "text": [
      "/srv/conda/lib/python3.7/site-packages/h5py/_hl/dataset.py:313: H5pyDeprecationWarning: dataset.value has been deprecated. Use dataset[()] instead.\n",
      "  \"Use dataset[()] instead.\", H5pyDeprecationWarning)\n"
     ]
    }
   ],
   "source": [
    "import h5py\n",
    "import sigpy as sp\n",
    "\n",
    "h5_dataset_brain = h5py.File('/tmp/rrsg_challenge/rawdata_brain_radial_96proj_12ch.h5', 'r')\n",
    "\n",
    "h5_dataset_rawdata_name = list(h5_dataset_brain.keys())[0]\n",
    "h5_dataset_trajectory_name = list(h5_dataset_brain.keys())[1]\n",
    "\n",
    "trajectory = h5_dataset_brain.get(h5_dataset_trajectory_name).value\n",
    "rawdata = h5_dataset_brain.get(h5_dataset_rawdata_name).value\n",
    "\n",
    "gpu_number = -1\n",
    "\n",
    "coor = trajectory[:2,:,:].transpose((1,2,0))\n",
    "coor = sp.backend.to_device(coor,gpu_number)\n",
    "rawdata_brain = rawdata[0,:,:,:].transpose((2,0,1))\n",
    "rawdata_brain = sp.backend.to_device(rawdata_brain,gpu_number)"
   ]
  },
  {
   "cell_type": "code",
   "execution_count": 3,
   "metadata": {},
   "outputs": [],
   "source": [
    "image = readcfl(\"img_igrid_brain\")\n",
    "image_sos = sp.util.rss(image,3)\n",
    "sens_maps = image[:,:,0,:]/image_sos\n",
    "sens_maps_t = sens_maps.transpose((2,0,1))\n",
    "sens_maps_t = sp.backend.to_device(sens_maps_t,gpu_number)"
   ]
  },
  {
   "cell_type": "code",
   "execution_count": 4,
   "metadata": {},
   "outputs": [
    {
     "data": {
      "text/plain": [
       "(12, 300, 300)"
      ]
     },
     "execution_count": 4,
     "metadata": {},
     "output_type": "execute_result"
    }
   ],
   "source": [
    "np.shape(sens_maps_t)"
   ]
  },
  {
   "cell_type": "code",
   "execution_count": 22,
   "metadata": {},
   "outputs": [],
   "source": [
    "S = sp.linop.Multiply((1,300,300),sens_maps_t)\n",
    "NUFFT = sp.linop.NUFFT((12,300,300),coor)\n",
    "E = NUFFT*S"
   ]
  },
  {
   "cell_type": "code",
   "execution_count": 25,
   "metadata": {},
   "outputs": [
    {
     "data": {
      "text/plain": [
       "[12, 512, 96]"
      ]
     },
     "execution_count": 25,
     "metadata": {},
     "output_type": "execute_result"
    }
   ],
   "source": [
    "E.oshape"
   ]
  },
  {
   "cell_type": "code",
   "execution_count": 36,
   "metadata": {},
   "outputs": [],
   "source": [
    "def get_dcf(coor):\n",
    "    kmax = np.amax(coor)\n",
    "    coord_shape = coor.shape\n",
    "    nro, ntr, ndim = coord_shape\n",
    "    dcf = np.zeros((nro,ntr))\n",
    "    delta_k = kmax/nro\n",
    "    for i in range(nro):\n",
    "        for j in range(ntr):\n",
    "            if (i == 0) or (j == 0):\n",
    "                dcf[i,j] = 2*np.pi * 1/ntr * delta_k**2 * 1/8\n",
    "            else:\n",
    "                dcf[i,j] = 2*np.pi * 1/ntr * delta_k**2 * j\n",
    "    return dcf\n",
    "\n",
    "# Intensity correction\n",
    "img_shape = (1,300,300)\n",
    "intensity = sp.util.rss(sens_maps_t)\n",
    "I = sp.linop.Multiply(img_shape,intensity)\n",
    "\n",
    "\n",
    "S = sp.linop.Multiply(img_shape,sens_maps_t)\n",
    "NUFFT = sp.linop.NUFFT(S.oshape,coor)\n",
    "E = NUFFT*S*I\n",
    "dcf = get_dcf(coor)\n",
    "D = sp.linop.Multiply(E.oshape,dcf)\n",
    "A = D*E\n"
   ]
  },
  {
   "cell_type": "code",
   "execution_count": 41,
   "metadata": {},
   "outputs": [
    {
     "ename": "TypeError",
     "evalue": "can't multiply sequence by non-int of type 'str'",
     "output_type": "error",
     "traceback": [
      "\u001b[0;31m---------------------------------------------------------------------------\u001b[0m",
      "\u001b[0;31mTypeError\u001b[0m                                 Traceback (most recent call last)",
      "\u001b[0;32m<ipython-input-41-d3d3b4be2ad9>\u001b[0m in \u001b[0;36m<module>\u001b[0;34m\u001b[0m\n\u001b[1;32m      2\u001b[0m \u001b[0mBB\u001b[0m \u001b[0;34m=\u001b[0m \u001b[0;34m\"skdfjsdf\"\u001b[0m\u001b[0;34m\u001b[0m\u001b[0;34m\u001b[0m\u001b[0m\n\u001b[1;32m      3\u001b[0m \u001b[0;34m\u001b[0m\u001b[0m\n\u001b[0;32m----> 4\u001b[0;31m \u001b[0mAA\u001b[0m\u001b[0;34m*\u001b[0m\u001b[0mBB\u001b[0m\u001b[0;34m\u001b[0m\u001b[0;34m\u001b[0m\u001b[0m\n\u001b[0m",
      "\u001b[0;31mTypeError\u001b[0m: can't multiply sequence by non-int of type 'str'"
     ]
    }
   ],
   "source": [
    "AA = \"asdasda\"\n",
    "BB = \"skdfjsdf\"\n",
    "\n",
    "AA*BB"
   ]
  },
  {
   "cell_type": "code",
   "execution_count": 27,
   "metadata": {},
   "outputs": [
    {
     "data": {
      "text/plain": [
       "[12, 512, 96]"
      ]
     },
     "execution_count": 27,
     "metadata": {},
     "output_type": "execute_result"
    }
   ],
   "source": [
    "E.oshape"
   ]
  },
  {
   "cell_type": "code",
   "execution_count": 28,
   "metadata": {},
   "outputs": [
    {
     "data": {
      "text/plain": [
       "[12, 512, 96]"
      ]
     },
     "execution_count": 28,
     "metadata": {},
     "output_type": "execute_result"
    }
   ],
   "source": [
    "A.oshape"
   ]
  },
  {
   "cell_type": "code",
   "execution_count": 29,
   "metadata": {},
   "outputs": [
    {
     "data": {
      "text/plain": [
       "[12, 300, 300]"
      ]
     },
     "execution_count": 29,
     "metadata": {},
     "output_type": "execute_result"
    }
   ],
   "source": [
    "S.oshape"
   ]
  },
  {
   "cell_type": "code",
   "execution_count": 31,
   "metadata": {},
   "outputs": [
    {
     "data": {
      "text/plain": [
       "(512, 96)"
      ]
     },
     "execution_count": 31,
     "metadata": {},
     "output_type": "execute_result"
    }
   ],
   "source": [
    "np.shape(dcf)"
   ]
  },
  {
   "cell_type": "code",
   "execution_count": 32,
   "metadata": {},
   "outputs": [
    {
     "data": {
      "text/plain": [
       "<[12, 512, 96]x[12, 512, 96]> Multiply Linop>"
      ]
     },
     "execution_count": 32,
     "metadata": {},
     "output_type": "execute_result"
    }
   ],
   "source": [
    "D"
   ]
  },
  {
   "cell_type": "code",
   "execution_count": 33,
   "metadata": {},
   "outputs": [
    {
     "data": {
      "text/plain": [
       "<[12, 512, 96]x[1, 300, 300]> NUFFT * Multiply Linop>"
      ]
     },
     "execution_count": 33,
     "metadata": {},
     "output_type": "execute_result"
    }
   ],
   "source": [
    "E"
   ]
  },
  {
   "cell_type": "code",
   "execution_count": 34,
   "metadata": {},
   "outputs": [
    {
     "data": {
      "text/plain": [
       "<[12, 512, 96]x[1, 300, 300]> Multiply * NUFFT * Multiply * Multiply Linop>"
      ]
     },
     "execution_count": 34,
     "metadata": {},
     "output_type": "execute_result"
    }
   ],
   "source": [
    "A"
   ]
  },
  {
   "cell_type": "code",
   "execution_count": 43,
   "metadata": {},
   "outputs": [
    {
     "data": {
      "text/plain": [
       "<[12, 300, 300]x[1, 300, 300]> Multiply * Multiply Linop>"
      ]
     },
     "execution_count": 43,
     "metadata": {},
     "output_type": "execute_result"
    }
   ],
   "source": [
    "S*I"
   ]
  },
  {
   "cell_type": "code",
   "execution_count": 44,
   "metadata": {},
   "outputs": [
    {
     "ename": "ValueError",
     "evalue": "cannot compose <[1, 300, 300]x[1, 300, 300]> Multiply Linop> and <[12, 300, 300]x[1, 300, 300]> Multiply Linop>.",
     "output_type": "error",
     "traceback": [
      "\u001b[0;31m---------------------------------------------------------------------------\u001b[0m",
      "\u001b[0;31mValueError\u001b[0m                                Traceback (most recent call last)",
      "\u001b[0;32m<ipython-input-44-240e69f424f3>\u001b[0m in \u001b[0;36m<module>\u001b[0;34m\u001b[0m\n\u001b[0;32m----> 1\u001b[0;31m \u001b[0mI\u001b[0m\u001b[0;34m*\u001b[0m\u001b[0mS\u001b[0m\u001b[0;34m\u001b[0m\u001b[0;34m\u001b[0m\u001b[0m\n\u001b[0m",
      "\u001b[0;32m/srv/conda/lib/python3.7/site-packages/sigpy/linop.py\u001b[0m in \u001b[0;36m__mul__\u001b[0;34m(self, input)\u001b[0m\n\u001b[1;32m     97\u001b[0m     \u001b[0;32mdef\u001b[0m \u001b[0m__mul__\u001b[0m\u001b[0;34m(\u001b[0m\u001b[0mself\u001b[0m\u001b[0;34m,\u001b[0m \u001b[0minput\u001b[0m\u001b[0;34m)\u001b[0m\u001b[0;34m:\u001b[0m\u001b[0;34m\u001b[0m\u001b[0;34m\u001b[0m\u001b[0m\n\u001b[1;32m     98\u001b[0m         \u001b[0;32mif\u001b[0m \u001b[0misinstance\u001b[0m\u001b[0;34m(\u001b[0m\u001b[0minput\u001b[0m\u001b[0;34m,\u001b[0m \u001b[0mLinop\u001b[0m\u001b[0;34m)\u001b[0m\u001b[0;34m:\u001b[0m\u001b[0;34m\u001b[0m\u001b[0;34m\u001b[0m\u001b[0m\n\u001b[0;32m---> 99\u001b[0;31m             \u001b[0;32mreturn\u001b[0m \u001b[0mCompose\u001b[0m\u001b[0;34m(\u001b[0m\u001b[0;34m[\u001b[0m\u001b[0mself\u001b[0m\u001b[0;34m,\u001b[0m \u001b[0minput\u001b[0m\u001b[0;34m]\u001b[0m\u001b[0;34m)\u001b[0m\u001b[0;34m\u001b[0m\u001b[0;34m\u001b[0m\u001b[0m\n\u001b[0m\u001b[1;32m    100\u001b[0m         \u001b[0;32melif\u001b[0m \u001b[0mnp\u001b[0m\u001b[0;34m.\u001b[0m\u001b[0misscalar\u001b[0m\u001b[0;34m(\u001b[0m\u001b[0minput\u001b[0m\u001b[0;34m)\u001b[0m\u001b[0;34m:\u001b[0m\u001b[0;34m\u001b[0m\u001b[0;34m\u001b[0m\u001b[0m\n\u001b[1;32m    101\u001b[0m             \u001b[0mM\u001b[0m \u001b[0;34m=\u001b[0m \u001b[0mMultiply\u001b[0m\u001b[0;34m(\u001b[0m\u001b[0mself\u001b[0m\u001b[0;34m.\u001b[0m\u001b[0mishape\u001b[0m\u001b[0;34m,\u001b[0m \u001b[0minput\u001b[0m\u001b[0;34m)\u001b[0m\u001b[0;34m\u001b[0m\u001b[0;34m\u001b[0m\u001b[0m\n",
      "\u001b[0;32m/srv/conda/lib/python3.7/site-packages/sigpy/linop.py\u001b[0m in \u001b[0;36m__init__\u001b[0;34m(self, linops)\u001b[0m\n\u001b[1;32m    317\u001b[0m \u001b[0;34m\u001b[0m\u001b[0m\n\u001b[1;32m    318\u001b[0m     \u001b[0;32mdef\u001b[0m \u001b[0m__init__\u001b[0m\u001b[0;34m(\u001b[0m\u001b[0mself\u001b[0m\u001b[0;34m,\u001b[0m \u001b[0mlinops\u001b[0m\u001b[0;34m)\u001b[0m\u001b[0;34m:\u001b[0m\u001b[0;34m\u001b[0m\u001b[0;34m\u001b[0m\u001b[0m\n\u001b[0;32m--> 319\u001b[0;31m         \u001b[0m_check_compose_linops\u001b[0m\u001b[0;34m(\u001b[0m\u001b[0mlinops\u001b[0m\u001b[0;34m)\u001b[0m\u001b[0;34m\u001b[0m\u001b[0;34m\u001b[0m\u001b[0m\n\u001b[0m\u001b[1;32m    320\u001b[0m         \u001b[0mself\u001b[0m\u001b[0;34m.\u001b[0m\u001b[0mlinops\u001b[0m \u001b[0;34m=\u001b[0m \u001b[0m_combine_compose_linops\u001b[0m\u001b[0;34m(\u001b[0m\u001b[0mlinops\u001b[0m\u001b[0;34m)\u001b[0m\u001b[0;34m\u001b[0m\u001b[0;34m\u001b[0m\u001b[0m\n\u001b[1;32m    321\u001b[0m \u001b[0;34m\u001b[0m\u001b[0m\n",
      "\u001b[0;32m/srv/conda/lib/python3.7/site-packages/sigpy/linop.py\u001b[0m in \u001b[0;36m_check_compose_linops\u001b[0;34m(linops)\u001b[0m\n\u001b[1;32m    291\u001b[0m         \u001b[0;32mif\u001b[0m \u001b[0;34m(\u001b[0m\u001b[0mlinop1\u001b[0m\u001b[0;34m.\u001b[0m\u001b[0mishape\u001b[0m \u001b[0;34m!=\u001b[0m \u001b[0mlinop2\u001b[0m\u001b[0;34m.\u001b[0m\u001b[0moshape\u001b[0m\u001b[0;34m)\u001b[0m\u001b[0;34m:\u001b[0m\u001b[0;34m\u001b[0m\u001b[0;34m\u001b[0m\u001b[0m\n\u001b[1;32m    292\u001b[0m             raise ValueError('cannot compose {linop1} and {linop2}.'.format(\n\u001b[0;32m--> 293\u001b[0;31m                 linop1=linop1, linop2=linop2))\n\u001b[0m\u001b[1;32m    294\u001b[0m \u001b[0;34m\u001b[0m\u001b[0m\n\u001b[1;32m    295\u001b[0m \u001b[0;34m\u001b[0m\u001b[0m\n",
      "\u001b[0;31mValueError\u001b[0m: cannot compose <[1, 300, 300]x[1, 300, 300]> Multiply Linop> and <[12, 300, 300]x[1, 300, 300]> Multiply Linop>."
     ]
    }
   ],
   "source": [
    "I*S"
   ]
  }
 ],
 "metadata": {
  "kernelspec": {
   "display_name": "Python 3",
   "language": "python",
   "name": "python3"
  },
  "language_info": {
   "codemirror_mode": {
    "name": "ipython",
    "version": 3
   },
   "file_extension": ".py",
   "mimetype": "text/x-python",
   "name": "python",
   "nbconvert_exporter": "python",
   "pygments_lexer": "ipython3",
   "version": "3.7.3"
  }
 },
 "nbformat": 4,
 "nbformat_minor": 2
}
